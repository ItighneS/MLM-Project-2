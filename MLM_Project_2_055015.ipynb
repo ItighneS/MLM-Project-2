{
  "nbformat": 4,
  "nbformat_minor": 0,
  "metadata": {
    "colab": {
      "provenance": [],
      "collapsed_sections": [
        "VGLDBnj7AEB1",
        "S7sJnNxAqGgf",
        "Al995-wlBpAb",
        "FKfq_yyKDeWK",
        "LUK5MyTgLf4c",
        "RHTsu3MRwBCF",
        "dCKnuIlLz4ix",
        "OTR0m-JW5i05",
        "Te4Arvg774Fc",
        "7JoRqvmP8IDQ",
        "vgkzYRdM8mK8",
        "7GyOqTFi8xo6",
        "1A_bNGC_9TKR",
        "aVRoZqhB9XOd",
        "I2XOoiOO9dYR"
      ],
      "include_colab_link": true
    },
    "kernelspec": {
      "name": "python3",
      "display_name": "Python 3"
    },
    "language_info": {
      "name": "python"
    }
  },
  "cells": [
    {
      "cell_type": "markdown",
      "metadata": {
        "id": "view-in-github",
        "colab_type": "text"
      },
      "source": [
        "<a href=\"https://colab.research.google.com/github/ItighneS/MLM-Project-2/blob/main/MLM_Project_2_055015.ipynb\" target=\"_parent\"><img src=\"https://colab.research.google.com/assets/colab-badge.svg\" alt=\"Open In Colab\"/></a>"
      ]
    },
    {
      "cell_type": "markdown",
      "source": [
        "#1. Project Information\n",
        "- Unsupervised Learning Basics.\n",
        "- Itighne Sinha 055015\n",
        "\n",
        "\n",
        "#####2. **Description of Data**\n",
        " - Data Source https://www.kaggle.com/datasets/chakilamvishwas/imports-exports-15000\n",
        " - Data Size: 2.69 MB\n",
        " - Data Type: Panel\n",
        " - Data Dimension: 16 Variables, 15000 Observations\n",
        " - Data Variable Type: Numeric-5 [3 Integers | 2 Decimal] | Non-Numeric - 11\n",
        " - Data Variable Category- I :  2 Index | Categorical - 9 Nominal | 1 Ordinal | 3 Non-Categorical | 1 Date\n",
        " - About Dataset: This is a detailed dataset of international trade transactions, providing extensive information on both imports and exports. Designed for use in business analytics, economic research, and financial modeling, it offers a broad view of trade activities with numerous attributes that capture various dimensions of each transaction.\n",
        "\n",
        "#### **3. Data Sampling**\n",
        "From the dataset containing 15,000 values, a sample of 5001 entries was taken. The dataset sample (now referred to as `is15_ppd`) was taken into account for further exploration.\n",
        "\n",
        "- **Data Variables**:\n",
        "  - **Index Variables**: 'Transaction_ID', 'Invoice_Number'\n",
        "  - **Categorical Variables**:\n",
        "    - Nominal Variables: Country, Product, Import_Export, Category, Port, Shipping_Method, Supplier, Customs_Code, Customer\n",
        "    - Ordinal Variable: Payment_Terms\n",
        "  - **Non-Categorical Variables**: Quantity, Value, and Weight"
      ],
      "metadata": {
        "id": "f1WSQ4QdDtSo"
      }
    },
    {
      "cell_type": "markdown",
      "source": [
        "#Project Objectives\n",
        "\n",
        "- Classification of Dataset into {Segments | Clusters | Classes} using Supervised Learning Classification Algorithms\n",
        "- Identification of {Important | Contributing | Significant} Variables or Features and their Thresholds for Classification\n",
        "- Determination of an appropriate Classification Model based on Performance Metrics\n"
      ],
      "metadata": {
        "id": "YoUex9sEUc2n"
      }
    },
    {
      "cell_type": "markdown",
      "source": [
        "### **5. Exploratory Data Analysis**\n",
        "#### **5.1. Data Preprocessing:**\n",
        "- The data has no missing values, hence no missing data treatment was performed.\n",
        "- For Encoding, **Ordinal Encoder** was used.\n",
        "- For Scaling, **Min-Max Scaler** was used.\n",
        "\n",
        "#### **5.2. Descriptive Statistics**\n",
        "- **Non-Categorical Variables**:\n",
        "  - Measures of Central Tendency: Minimum, Maximum, Mean, Median, Mode, Percentile\n",
        "  - Measures of Dispersion: Range, Standard Deviation, Skewness, Kurtosis, Correlation (Matrix)\n",
        "  - Composite Measure: Coefficient of Variation, Confidence Interval\n",
        "\n",
        "- **Categorical Variables**:\n",
        "  - Count, Frequency, Proportion, Minimum, Maximum, Mode, Rank\n",
        "\n",
        "#### **5.3. Data Visualization**\n",
        "- Various subplots were used such as Bar, Heatmaps, Histograms, and Correlation Matrices.\n",
        "\n",
        "#### **5.4. Inferential Statistics**\n",
        "- **Categorical Variable** (Nominal | Ordinal):\n",
        "  - Test of Homogeneity (Chi-sq)\n",
        "- **Non-Categorical Variable**:\n",
        "  - Test of Normality (Shapiro-Wilk, Kolmogorov-Smirnov, Anderson-Darling, Jarque-Bera)\n",
        "  - Test of Correlation (t)\n",
        "\n",
        "#### **5.5. Machine Learning Models**\n",
        "\n",
        "- **Logistic Regression (LR)**:\n",
        "  Logistic regression is a classification algorithm that models the probability of a binary outcome based on one or more predictor variables using a logistic function.\n",
        "  \n",
        "- **Support Vector Machines (SVM)**:\n",
        "  SVM finds a hyperplane that best separates the data into classes by maximizing the margin between the closest points of the classes (support vectors).\n",
        "\n",
        "- **Stochastic Gradient Descent (SGD)**:\n",
        "  An iterative optimization algorithm used for minimizing loss functions in linear classifiers and regressors, particularly useful for large datasets.\n",
        "\n",
        "- **Decision Trees**:\n",
        "  A tree-based algorithm where each internal node represents a decision on a feature, each leaf node represents an outcome, and paths from root to leaf represent classification rules.\n",
        "\n",
        "- **K-Nearest Neighbors (KNN)**:\n",
        "  A lazy learning algorithm that classifies a data point based on the majority class of its k-nearest neighbors in the feature space.\n",
        "  \n",
        "- **Naive Bayes (NB)**:\n",
        "  A probabilistic classifier based on Bayes' theorem, assuming strong independence between features.\n",
        "\n",
        "- **Bagging (Bootstrap Aggregating)**:\n",
        "  Combines predictions from multiple models (e.g., Random Forest) to reduce variance and improve accuracy.\n",
        "\n",
        "- **Boosting**:\n",
        "  Combines weak learners sequentially to form a strong learner by minimizing errors iteratively (e.g., Extreme Gradient Boosting - XGBoost).\n",
        "\n",
        "#### **5.6. Model Performance Metrics**\n",
        "\n",
        "- **Confusion Matrix**:\n",
        "  - Sensitivity (Recall): True Positive Rate\n",
        "  - Specificity: True Negative Rate\n",
        "  - Accuracy: Overall correctness\n",
        "  - Precision: Positive Predictive Value\n",
        "  - F1-Score: Harmonic mean of Precision and Recall\n",
        "  - AUC: Area Under the ROC Curve\n",
        "\n",
        "- **K-Fold Cross-Validation**: Splits data into k subsets; trains on k-1 and tests on the remaining one iteratively to ensure robust performance evaluation.\n",
        "\n",
        "- **Model Run Statistics**:\n",
        "  - Time Taken\n",
        "  - Memory Used\n",
        "---\n",
        "\n",
        "\n",
        "### **6. Observations and Findings**\n",
        "\n",
        "#### **6.1. Nature of Data**\n",
        "- **Missing Data**: The dataset contained no missing values.  \n",
        "- **Non-Numeric Categorical Data**: Categorical variables (e.g., Country, Product) were encoded using ordinal encoding.  \n",
        "- **Scales and Outliers**:  \n",
        "  - Non-categorical numeric data (Quantity, Value, Weight) were scaled using Min-Max scaling.  \n",
        "  - Box plots revealed potential outliers, but they were not removed as they might hold valuable information.  \n",
        "\n",
        "\n",
        "\n",
        "#### **6.2 Supervised Machine Learning**\n",
        "- **Model Performance**: The supervised learning models evaluated, including Decision Tree, K-Nearest Neighbors (KNN), Naive Bayes, Logistic Regression, Support Vector Machine (SVM), and Stochastic Gradient Descent (SGD), generally exhibit low to moderate accuracy. The accuracy scores ranged from approximately 32% to 34%, indicating limitations in accurately classifying instances across all classes.\n",
        "\n",
        "- **Varied Performance Across Classes**: Most models showed varying performance across different classes. For example, the Naive Bayes model exhibited extremely poor performance on Class 1.0, while Decision Tree, KNN and Random forest had slightly balanced performance across all classes.\n",
        "\n",
        "- **Confusion Matrix Insights**: Confusion matrices for the models revealed patterns of misclassification. For example, the Decision Tree and Logistic Regression models tended to confuse Cluster 0 with both Cluster 1 and Cluster 2, indicating overlapping features or limitations in the model's ability to distinguish between these clusters.\n",
        "\n",
        "- **Data Split**: A 70:30 split was used for training and testing sets, which is a common practice in supervised learning.\n",
        "\n",
        "- **Feature Selection**: Only two features ('Quantity' and 'Weight') were used for training the models. It's possible that the performance could be improved by including additional relevant features or exploring feature engineering techniques.\n",
        "\n",
        "- **K-fold Cross Validation**: For Logistic Regression, SVM and SGD, K-fold cross-validation with 5 folds was used to evaluate model performance. The cross-validation results provided more reliable estimates of accuracy compared to single train-test splits.\n",
        "\n",
        "\n",
        "---\n",
        "\n",
        "### **7. Managerial Insights and Recommendations**\n",
        "\n",
        "#### **7.1. Preprocessing of Data**\n",
        "- **Missing Data**: No specific treatment is necessary due to the absence of missing data.  \n",
        "- **Encoding**: Ordinal encoding proved effective for categorical variables.  \n",
        "- **Scaling**: Min-Max scaling was appropriate to address potential scale differences.  \n",
        "- **Data Split**: A **70:30 split** for training and testing sets would be appropriate for future supervised learning tasks.  \n",
        "\n",
        "\n",
        "\n",
        "#### **7.2 Supervised Machine Learning**\n"
      ],
      "metadata": {
        "id": "PHGwWXpNpMbY"
      }
    },
    {
      "cell_type": "markdown",
      "source": [
        "#CODING"
      ],
      "metadata": {
        "id": "V3VVJcgsUuYp"
      }
    },
    {
      "cell_type": "markdown",
      "source": [
        "###DATA LOADING"
      ],
      "metadata": {
        "id": "VGLDBnj7AEB1"
      }
    },
    {
      "cell_type": "code",
      "execution_count": 94,
      "metadata": {
        "id": "n1dNLurPm1Ys"
      },
      "outputs": [],
      "source": [
        "# prompt: import libraries of pandas, numpy, sklearn, statsmodels with their usual abbrievations\n",
        "import pandas as pd\n",
        "import numpy as np\n",
        "import sklearn\n",
        "import scipy.stats as stats\n",
        "import statsmodels.api as sm\n",
        "import statsmodels.stats.descriptivestats as dstats\n",
        "from sklearn.preprocessing import LabelEncoder, OrdinalEncoder\n",
        "from sklearn.preprocessing import MinMaxScaler\n",
        "import scipy.cluster.hierarchy as sch  # For Hierarchical Clustering\n",
        "from sklearn.cluster import AgglomerativeClustering as agclus, KMeans as kmclus  # For Agglomerative & K-Means Clustering\n",
        "from sklearn.metrics import silhouette_score as sscore, davies_bouldin_score as dbscore\n",
        "import matplotlib.pyplot as plt\n",
        "import seaborn as sns\n",
        "from sklearn.cluster import DBSCAN, Birch\n",
        "from scipy.stats import chi2_contingency\n",
        "from scipy.stats import shapiro, kstest, anderson, jarque_bera\n",
        "from sklearn.decomposition import PCA\n",
        "from sklearn.model_selection import train_test_split\n",
        "import warnings\n",
        "from sklearn.tree import DecisionTreeClassifier\n",
        "from sklearn.metrics import classification_report, accuracy_score, confusion_matrix\n",
        "from sklearn.linear_model import LogisticRegression\n",
        "from sklearn.ensemble import RandomForestClassifier,GradientBoostingClassifier\n",
        "from sklearn.model_selection import KFold, cross_val_score\n",
        "from sklearn.linear_model import LogisticRegression\n",
        "from sklearn.metrics import classification_report, accuracy_score\n",
        "from sklearn.neighbors import KNeighborsClassifier\n",
        "from sklearn.naive_bayes import GaussianNB\n",
        "warnings.filterwarnings('ignore')"
      ]
    },
    {
      "cell_type": "code",
      "source": [
        "import pandas as pd\n",
        "import requests\n",
        "from io import StringIO\n",
        "\n",
        "# Replace with your actual file ID\n",
        "file_id = '1xLuwO7AK_N0XZEf3bPWS_OK-i_rJHv1g'\n",
        "\n",
        "# Construct the URL\n",
        "url = f'https://drive.google.com/uc?id={file_id}'\n",
        "\n",
        "# Fetch the data using requests\n",
        "response = requests.get(url)\n",
        "response.raise_for_status()  # Raise an exception for bad responses\n",
        "\n",
        "# Read the data into a pandas DataFrame using StringIO\n",
        "is15_ds = pd.read_csv(StringIO(response.text))\n",
        "\n",
        "# Display the first few rows of the DataFrame\n",
        "is15_ds.head()"
      ],
      "metadata": {
        "colab": {
          "base_uri": "https://localhost:8080/",
          "height": 417
        },
        "id": "e9FCws80nC9q",
        "outputId": "ce94fbc0-2052-48f6-bd6d-07aac536e6db"
      },
      "execution_count": 50,
      "outputs": [
        {
          "output_type": "execute_result",
          "data": {
            "text/plain": [
              "                         Transaction_ID           Country    Product  \\\n",
              "0  e3e70682-c209-4cac-a29f-6fbed82c07cd          Colombia   describe   \n",
              "1  f728b4fa-4248-4e3a-8a5d-2f346baa9455             Chile  president   \n",
              "2  eb1167b3-67a9-4378-bc65-c1e582e2e662            Turkey        far   \n",
              "3  f7c1bd87-4da5-4709-9471-3d60c8a70639  Christmas Island     agency   \n",
              "4  e443df78-9558-467f-9ba9-1faf7a024204           Finland     policy   \n",
              "\n",
              "  Import_Export  Quantity   Value        Date     Category              Port  \\\n",
              "0        Export      1979 9506.57  07-12-2023    Machinery        Robertbury   \n",
              "1        Export      5763 7100.91  04-04-2023     Clothing          Shahport   \n",
              "2        Import      5740 2450.34  21-08-2024  Electronics  South Joshuatown   \n",
              "3        Export      2592 7226.42  09-05-2022    Furniture          Adamfort   \n",
              "4        Export      2622 2817.29  03-04-2023  Electronics         Juliebury   \n",
              "\n",
              "   Customs_Code  Weight Shipping_Method                         Supplier  \\\n",
              "0        620537 4248.65             Air  Garrison, Hubbard and Hendricks   \n",
              "1        927600 4340.81             Air                        Webb-Mack   \n",
              "2        299258 4538.41             Air        Mendez, Jones and Johnson   \n",
              "3        996084 4886.14             Air                  Schroeder-Smith   \n",
              "4        555981 4406.74             Air                    Zimmerman LLC   \n",
              "\n",
              "        Customer  Invoice_Number     Payment_Terms  \n",
              "0      Seth Hall        21000294  Cash on Delivery  \n",
              "1  Kimberly Ryan        88738432           Prepaid  \n",
              "2     Ryan Silva        89922099           Prepaid  \n",
              "3     Jacob Gray        63216265            Net 60  \n",
              "4   Amy Stephens        94600248  Cash on Delivery  "
            ],
            "text/html": [
              "\n",
              "  <div id=\"df-d447791e-52e3-4881-9a3c-36b1b776f8d6\" class=\"colab-df-container\">\n",
              "    <div>\n",
              "<style scoped>\n",
              "    .dataframe tbody tr th:only-of-type {\n",
              "        vertical-align: middle;\n",
              "    }\n",
              "\n",
              "    .dataframe tbody tr th {\n",
              "        vertical-align: top;\n",
              "    }\n",
              "\n",
              "    .dataframe thead th {\n",
              "        text-align: right;\n",
              "    }\n",
              "</style>\n",
              "<table border=\"1\" class=\"dataframe\">\n",
              "  <thead>\n",
              "    <tr style=\"text-align: right;\">\n",
              "      <th></th>\n",
              "      <th>Transaction_ID</th>\n",
              "      <th>Country</th>\n",
              "      <th>Product</th>\n",
              "      <th>Import_Export</th>\n",
              "      <th>Quantity</th>\n",
              "      <th>Value</th>\n",
              "      <th>Date</th>\n",
              "      <th>Category</th>\n",
              "      <th>Port</th>\n",
              "      <th>Customs_Code</th>\n",
              "      <th>Weight</th>\n",
              "      <th>Shipping_Method</th>\n",
              "      <th>Supplier</th>\n",
              "      <th>Customer</th>\n",
              "      <th>Invoice_Number</th>\n",
              "      <th>Payment_Terms</th>\n",
              "    </tr>\n",
              "  </thead>\n",
              "  <tbody>\n",
              "    <tr>\n",
              "      <th>0</th>\n",
              "      <td>e3e70682-c209-4cac-a29f-6fbed82c07cd</td>\n",
              "      <td>Colombia</td>\n",
              "      <td>describe</td>\n",
              "      <td>Export</td>\n",
              "      <td>1979</td>\n",
              "      <td>9506.57</td>\n",
              "      <td>07-12-2023</td>\n",
              "      <td>Machinery</td>\n",
              "      <td>Robertbury</td>\n",
              "      <td>620537</td>\n",
              "      <td>4248.65</td>\n",
              "      <td>Air</td>\n",
              "      <td>Garrison, Hubbard and Hendricks</td>\n",
              "      <td>Seth Hall</td>\n",
              "      <td>21000294</td>\n",
              "      <td>Cash on Delivery</td>\n",
              "    </tr>\n",
              "    <tr>\n",
              "      <th>1</th>\n",
              "      <td>f728b4fa-4248-4e3a-8a5d-2f346baa9455</td>\n",
              "      <td>Chile</td>\n",
              "      <td>president</td>\n",
              "      <td>Export</td>\n",
              "      <td>5763</td>\n",
              "      <td>7100.91</td>\n",
              "      <td>04-04-2023</td>\n",
              "      <td>Clothing</td>\n",
              "      <td>Shahport</td>\n",
              "      <td>927600</td>\n",
              "      <td>4340.81</td>\n",
              "      <td>Air</td>\n",
              "      <td>Webb-Mack</td>\n",
              "      <td>Kimberly Ryan</td>\n",
              "      <td>88738432</td>\n",
              "      <td>Prepaid</td>\n",
              "    </tr>\n",
              "    <tr>\n",
              "      <th>2</th>\n",
              "      <td>eb1167b3-67a9-4378-bc65-c1e582e2e662</td>\n",
              "      <td>Turkey</td>\n",
              "      <td>far</td>\n",
              "      <td>Import</td>\n",
              "      <td>5740</td>\n",
              "      <td>2450.34</td>\n",
              "      <td>21-08-2024</td>\n",
              "      <td>Electronics</td>\n",
              "      <td>South Joshuatown</td>\n",
              "      <td>299258</td>\n",
              "      <td>4538.41</td>\n",
              "      <td>Air</td>\n",
              "      <td>Mendez, Jones and Johnson</td>\n",
              "      <td>Ryan Silva</td>\n",
              "      <td>89922099</td>\n",
              "      <td>Prepaid</td>\n",
              "    </tr>\n",
              "    <tr>\n",
              "      <th>3</th>\n",
              "      <td>f7c1bd87-4da5-4709-9471-3d60c8a70639</td>\n",
              "      <td>Christmas Island</td>\n",
              "      <td>agency</td>\n",
              "      <td>Export</td>\n",
              "      <td>2592</td>\n",
              "      <td>7226.42</td>\n",
              "      <td>09-05-2022</td>\n",
              "      <td>Furniture</td>\n",
              "      <td>Adamfort</td>\n",
              "      <td>996084</td>\n",
              "      <td>4886.14</td>\n",
              "      <td>Air</td>\n",
              "      <td>Schroeder-Smith</td>\n",
              "      <td>Jacob Gray</td>\n",
              "      <td>63216265</td>\n",
              "      <td>Net 60</td>\n",
              "    </tr>\n",
              "    <tr>\n",
              "      <th>4</th>\n",
              "      <td>e443df78-9558-467f-9ba9-1faf7a024204</td>\n",
              "      <td>Finland</td>\n",
              "      <td>policy</td>\n",
              "      <td>Export</td>\n",
              "      <td>2622</td>\n",
              "      <td>2817.29</td>\n",
              "      <td>03-04-2023</td>\n",
              "      <td>Electronics</td>\n",
              "      <td>Juliebury</td>\n",
              "      <td>555981</td>\n",
              "      <td>4406.74</td>\n",
              "      <td>Air</td>\n",
              "      <td>Zimmerman LLC</td>\n",
              "      <td>Amy Stephens</td>\n",
              "      <td>94600248</td>\n",
              "      <td>Cash on Delivery</td>\n",
              "    </tr>\n",
              "  </tbody>\n",
              "</table>\n",
              "</div>\n",
              "    <div class=\"colab-df-buttons\">\n",
              "\n",
              "  <div class=\"colab-df-container\">\n",
              "    <button class=\"colab-df-convert\" onclick=\"convertToInteractive('df-d447791e-52e3-4881-9a3c-36b1b776f8d6')\"\n",
              "            title=\"Convert this dataframe to an interactive table.\"\n",
              "            style=\"display:none;\">\n",
              "\n",
              "  <svg xmlns=\"http://www.w3.org/2000/svg\" height=\"24px\" viewBox=\"0 -960 960 960\">\n",
              "    <path d=\"M120-120v-720h720v720H120Zm60-500h600v-160H180v160Zm220 220h160v-160H400v160Zm0 220h160v-160H400v160ZM180-400h160v-160H180v160Zm440 0h160v-160H620v160ZM180-180h160v-160H180v160Zm440 0h160v-160H620v160Z\"/>\n",
              "  </svg>\n",
              "    </button>\n",
              "\n",
              "  <style>\n",
              "    .colab-df-container {\n",
              "      display:flex;\n",
              "      gap: 12px;\n",
              "    }\n",
              "\n",
              "    .colab-df-convert {\n",
              "      background-color: #E8F0FE;\n",
              "      border: none;\n",
              "      border-radius: 50%;\n",
              "      cursor: pointer;\n",
              "      display: none;\n",
              "      fill: #1967D2;\n",
              "      height: 32px;\n",
              "      padding: 0 0 0 0;\n",
              "      width: 32px;\n",
              "    }\n",
              "\n",
              "    .colab-df-convert:hover {\n",
              "      background-color: #E2EBFA;\n",
              "      box-shadow: 0px 1px 2px rgba(60, 64, 67, 0.3), 0px 1px 3px 1px rgba(60, 64, 67, 0.15);\n",
              "      fill: #174EA6;\n",
              "    }\n",
              "\n",
              "    .colab-df-buttons div {\n",
              "      margin-bottom: 4px;\n",
              "    }\n",
              "\n",
              "    [theme=dark] .colab-df-convert {\n",
              "      background-color: #3B4455;\n",
              "      fill: #D2E3FC;\n",
              "    }\n",
              "\n",
              "    [theme=dark] .colab-df-convert:hover {\n",
              "      background-color: #434B5C;\n",
              "      box-shadow: 0px 1px 3px 1px rgba(0, 0, 0, 0.15);\n",
              "      filter: drop-shadow(0px 1px 2px rgba(0, 0, 0, 0.3));\n",
              "      fill: #FFFFFF;\n",
              "    }\n",
              "  </style>\n",
              "\n",
              "    <script>\n",
              "      const buttonEl =\n",
              "        document.querySelector('#df-d447791e-52e3-4881-9a3c-36b1b776f8d6 button.colab-df-convert');\n",
              "      buttonEl.style.display =\n",
              "        google.colab.kernel.accessAllowed ? 'block' : 'none';\n",
              "\n",
              "      async function convertToInteractive(key) {\n",
              "        const element = document.querySelector('#df-d447791e-52e3-4881-9a3c-36b1b776f8d6');\n",
              "        const dataTable =\n",
              "          await google.colab.kernel.invokeFunction('convertToInteractive',\n",
              "                                                    [key], {});\n",
              "        if (!dataTable) return;\n",
              "\n",
              "        const docLinkHtml = 'Like what you see? Visit the ' +\n",
              "          '<a target=\"_blank\" href=https://colab.research.google.com/notebooks/data_table.ipynb>data table notebook</a>'\n",
              "          + ' to learn more about interactive tables.';\n",
              "        element.innerHTML = '';\n",
              "        dataTable['output_type'] = 'display_data';\n",
              "        await google.colab.output.renderOutput(dataTable, element);\n",
              "        const docLink = document.createElement('div');\n",
              "        docLink.innerHTML = docLinkHtml;\n",
              "        element.appendChild(docLink);\n",
              "      }\n",
              "    </script>\n",
              "  </div>\n",
              "\n",
              "\n",
              "<div id=\"df-47d1b7e2-1e68-4b93-a938-3fdd5a417e48\">\n",
              "  <button class=\"colab-df-quickchart\" onclick=\"quickchart('df-47d1b7e2-1e68-4b93-a938-3fdd5a417e48')\"\n",
              "            title=\"Suggest charts\"\n",
              "            style=\"display:none;\">\n",
              "\n",
              "<svg xmlns=\"http://www.w3.org/2000/svg\" height=\"24px\"viewBox=\"0 0 24 24\"\n",
              "     width=\"24px\">\n",
              "    <g>\n",
              "        <path d=\"M19 3H5c-1.1 0-2 .9-2 2v14c0 1.1.9 2 2 2h14c1.1 0 2-.9 2-2V5c0-1.1-.9-2-2-2zM9 17H7v-7h2v7zm4 0h-2V7h2v10zm4 0h-2v-4h2v4z\"/>\n",
              "    </g>\n",
              "</svg>\n",
              "  </button>\n",
              "\n",
              "<style>\n",
              "  .colab-df-quickchart {\n",
              "      --bg-color: #E8F0FE;\n",
              "      --fill-color: #1967D2;\n",
              "      --hover-bg-color: #E2EBFA;\n",
              "      --hover-fill-color: #174EA6;\n",
              "      --disabled-fill-color: #AAA;\n",
              "      --disabled-bg-color: #DDD;\n",
              "  }\n",
              "\n",
              "  [theme=dark] .colab-df-quickchart {\n",
              "      --bg-color: #3B4455;\n",
              "      --fill-color: #D2E3FC;\n",
              "      --hover-bg-color: #434B5C;\n",
              "      --hover-fill-color: #FFFFFF;\n",
              "      --disabled-bg-color: #3B4455;\n",
              "      --disabled-fill-color: #666;\n",
              "  }\n",
              "\n",
              "  .colab-df-quickchart {\n",
              "    background-color: var(--bg-color);\n",
              "    border: none;\n",
              "    border-radius: 50%;\n",
              "    cursor: pointer;\n",
              "    display: none;\n",
              "    fill: var(--fill-color);\n",
              "    height: 32px;\n",
              "    padding: 0;\n",
              "    width: 32px;\n",
              "  }\n",
              "\n",
              "  .colab-df-quickchart:hover {\n",
              "    background-color: var(--hover-bg-color);\n",
              "    box-shadow: 0 1px 2px rgba(60, 64, 67, 0.3), 0 1px 3px 1px rgba(60, 64, 67, 0.15);\n",
              "    fill: var(--button-hover-fill-color);\n",
              "  }\n",
              "\n",
              "  .colab-df-quickchart-complete:disabled,\n",
              "  .colab-df-quickchart-complete:disabled:hover {\n",
              "    background-color: var(--disabled-bg-color);\n",
              "    fill: var(--disabled-fill-color);\n",
              "    box-shadow: none;\n",
              "  }\n",
              "\n",
              "  .colab-df-spinner {\n",
              "    border: 2px solid var(--fill-color);\n",
              "    border-color: transparent;\n",
              "    border-bottom-color: var(--fill-color);\n",
              "    animation:\n",
              "      spin 1s steps(1) infinite;\n",
              "  }\n",
              "\n",
              "  @keyframes spin {\n",
              "    0% {\n",
              "      border-color: transparent;\n",
              "      border-bottom-color: var(--fill-color);\n",
              "      border-left-color: var(--fill-color);\n",
              "    }\n",
              "    20% {\n",
              "      border-color: transparent;\n",
              "      border-left-color: var(--fill-color);\n",
              "      border-top-color: var(--fill-color);\n",
              "    }\n",
              "    30% {\n",
              "      border-color: transparent;\n",
              "      border-left-color: var(--fill-color);\n",
              "      border-top-color: var(--fill-color);\n",
              "      border-right-color: var(--fill-color);\n",
              "    }\n",
              "    40% {\n",
              "      border-color: transparent;\n",
              "      border-right-color: var(--fill-color);\n",
              "      border-top-color: var(--fill-color);\n",
              "    }\n",
              "    60% {\n",
              "      border-color: transparent;\n",
              "      border-right-color: var(--fill-color);\n",
              "    }\n",
              "    80% {\n",
              "      border-color: transparent;\n",
              "      border-right-color: var(--fill-color);\n",
              "      border-bottom-color: var(--fill-color);\n",
              "    }\n",
              "    90% {\n",
              "      border-color: transparent;\n",
              "      border-bottom-color: var(--fill-color);\n",
              "    }\n",
              "  }\n",
              "</style>\n",
              "\n",
              "  <script>\n",
              "    async function quickchart(key) {\n",
              "      const quickchartButtonEl =\n",
              "        document.querySelector('#' + key + ' button');\n",
              "      quickchartButtonEl.disabled = true;  // To prevent multiple clicks.\n",
              "      quickchartButtonEl.classList.add('colab-df-spinner');\n",
              "      try {\n",
              "        const charts = await google.colab.kernel.invokeFunction(\n",
              "            'suggestCharts', [key], {});\n",
              "      } catch (error) {\n",
              "        console.error('Error during call to suggestCharts:', error);\n",
              "      }\n",
              "      quickchartButtonEl.classList.remove('colab-df-spinner');\n",
              "      quickchartButtonEl.classList.add('colab-df-quickchart-complete');\n",
              "    }\n",
              "    (() => {\n",
              "      let quickchartButtonEl =\n",
              "        document.querySelector('#df-47d1b7e2-1e68-4b93-a938-3fdd5a417e48 button');\n",
              "      quickchartButtonEl.style.display =\n",
              "        google.colab.kernel.accessAllowed ? 'block' : 'none';\n",
              "    })();\n",
              "  </script>\n",
              "</div>\n",
              "\n",
              "    </div>\n",
              "  </div>\n"
            ],
            "application/vnd.google.colaboratory.intrinsic+json": {
              "type": "dataframe",
              "variable_name": "is15_ds",
              "summary": "{\n  \"name\": \"is15_ds\",\n  \"rows\": 15000,\n  \"fields\": [\n    {\n      \"column\": \"Transaction_ID\",\n      \"properties\": {\n        \"dtype\": \"string\",\n        \"num_unique_values\": 15000,\n        \"samples\": [\n          \"08fbe50a-2e31-4513-b06d-1894c5753864\",\n          \"833c8b20-884a-47c8-ae07-a1e6fba76c47\",\n          \"8c00c12b-c919-4ab3-99f8-c9352242a25b\"\n        ],\n        \"semantic_type\": \"\",\n        \"description\": \"\"\n      }\n    },\n    {\n      \"column\": \"Country\",\n      \"properties\": {\n        \"dtype\": \"category\",\n        \"num_unique_values\": 243,\n        \"samples\": [\n          \"Nigeria\",\n          \"Falkland Islands (Malvinas)\",\n          \"French Polynesia\"\n        ],\n        \"semantic_type\": \"\",\n        \"description\": \"\"\n      }\n    },\n    {\n      \"column\": \"Product\",\n      \"properties\": {\n        \"dtype\": \"category\",\n        \"num_unique_values\": 971,\n        \"samples\": [\n          \"dream\",\n          \"approach\",\n          \"today\"\n        ],\n        \"semantic_type\": \"\",\n        \"description\": \"\"\n      }\n    },\n    {\n      \"column\": \"Import_Export\",\n      \"properties\": {\n        \"dtype\": \"category\",\n        \"num_unique_values\": 2,\n        \"samples\": [\n          \"Import\",\n          \"Export\"\n        ],\n        \"semantic_type\": \"\",\n        \"description\": \"\"\n      }\n    },\n    {\n      \"column\": \"Quantity\",\n      \"properties\": {\n        \"dtype\": \"number\",\n        \"std\": 2866,\n        \"min\": 1,\n        \"max\": 10000,\n        \"num_unique_values\": 7755,\n        \"samples\": [\n          9755,\n          2039\n        ],\n        \"semantic_type\": \"\",\n        \"description\": \"\"\n      }\n    },\n    {\n      \"column\": \"Value\",\n      \"properties\": {\n        \"dtype\": \"number\",\n        \"std\": 2857.5938971043865,\n        \"min\": 102.12,\n        \"max\": 9999.13,\n        \"num_unique_values\": 14884,\n        \"samples\": [\n          4382.7,\n          2719.27\n        ],\n        \"semantic_type\": \"\",\n        \"description\": \"\"\n      }\n    },\n    {\n      \"column\": \"Date\",\n      \"properties\": {\n        \"dtype\": \"category\",\n        \"num_unique_values\": 1827,\n        \"samples\": [\n          \"01-12-2022\",\n          \"18-12-2023\"\n        ],\n        \"semantic_type\": \"\",\n        \"description\": \"\"\n      }\n    },\n    {\n      \"column\": \"Category\",\n      \"properties\": {\n        \"dtype\": \"category\",\n        \"num_unique_values\": 5,\n        \"samples\": [\n          \"Clothing\",\n          \"Toys\"\n        ],\n        \"semantic_type\": \"\",\n        \"description\": \"\"\n      }\n    },\n    {\n      \"column\": \"Port\",\n      \"properties\": {\n        \"dtype\": \"string\",\n        \"num_unique_values\": 10657,\n        \"samples\": [\n          \"Lake Isaacfurt\",\n          \"Allenmouth\"\n        ],\n        \"semantic_type\": \"\",\n        \"description\": \"\"\n      }\n    },\n    {\n      \"column\": \"Customs_Code\",\n      \"properties\": {\n        \"dtype\": \"number\",\n        \"std\": 260886,\n        \"min\": 100041,\n        \"max\": 999964,\n        \"num_unique_values\": 14881,\n        \"samples\": [\n          306812,\n          302525\n        ],\n        \"semantic_type\": \"\",\n        \"description\": \"\"\n      }\n    },\n    {\n      \"column\": \"Weight\",\n      \"properties\": {\n        \"dtype\": \"number\",\n        \"std\": 1451.3785070911172,\n        \"min\": 0.57,\n        \"max\": 4999.93,\n        \"num_unique_values\": 14775,\n        \"samples\": [\n          3132.83,\n          4968.56\n        ],\n        \"semantic_type\": \"\",\n        \"description\": \"\"\n      }\n    },\n    {\n      \"column\": \"Shipping_Method\",\n      \"properties\": {\n        \"dtype\": \"category\",\n        \"num_unique_values\": 3,\n        \"samples\": [\n          \"Air\",\n          \"Sea\"\n        ],\n        \"semantic_type\": \"\",\n        \"description\": \"\"\n      }\n    },\n    {\n      \"column\": \"Supplier\",\n      \"properties\": {\n        \"dtype\": \"string\",\n        \"num_unique_values\": 12581,\n        \"samples\": [\n          \"Craig Ltd\",\n          \"Parsons-Smith\"\n        ],\n        \"semantic_type\": \"\",\n        \"description\": \"\"\n      }\n    },\n    {\n      \"column\": \"Customer\",\n      \"properties\": {\n        \"dtype\": \"string\",\n        \"num_unique_values\": 13753,\n        \"samples\": [\n          \"Natalie Marquez\",\n          \"Alicia Coleman\"\n        ],\n        \"semantic_type\": \"\",\n        \"description\": \"\"\n      }\n    },\n    {\n      \"column\": \"Invoice_Number\",\n      \"properties\": {\n        \"dtype\": \"number\",\n        \"std\": 28898875,\n        \"min\": 42026,\n        \"max\": 99997994,\n        \"num_unique_values\": 15000,\n        \"samples\": [\n          80114462,\n          81632587\n        ],\n        \"semantic_type\": \"\",\n        \"description\": \"\"\n      }\n    },\n    {\n      \"column\": \"Payment_Terms\",\n      \"properties\": {\n        \"dtype\": \"category\",\n        \"num_unique_values\": 4,\n        \"samples\": [\n          \"Prepaid\",\n          \"Net 30\"\n        ],\n        \"semantic_type\": \"\",\n        \"description\": \"\"\n      }\n    }\n  ]\n}"
            }
          },
          "metadata": {},
          "execution_count": 50
        }
      ]
    },
    {
      "cell_type": "code",
      "source": [
        "is15_ds.info()"
      ],
      "metadata": {
        "colab": {
          "base_uri": "https://localhost:8080/"
        },
        "id": "sgRhbYPjS7jB",
        "outputId": "1e26f7bb-56ed-4544-fb2b-35f546f641cd"
      },
      "execution_count": 51,
      "outputs": [
        {
          "output_type": "stream",
          "name": "stdout",
          "text": [
            "<class 'pandas.core.frame.DataFrame'>\n",
            "RangeIndex: 15000 entries, 0 to 14999\n",
            "Data columns (total 16 columns):\n",
            " #   Column           Non-Null Count  Dtype  \n",
            "---  ------           --------------  -----  \n",
            " 0   Transaction_ID   15000 non-null  object \n",
            " 1   Country          15000 non-null  object \n",
            " 2   Product          15000 non-null  object \n",
            " 3   Import_Export    15000 non-null  object \n",
            " 4   Quantity         15000 non-null  int64  \n",
            " 5   Value            15000 non-null  float64\n",
            " 6   Date             15000 non-null  object \n",
            " 7   Category         15000 non-null  object \n",
            " 8   Port             15000 non-null  object \n",
            " 9   Customs_Code     15000 non-null  int64  \n",
            " 10  Weight           15000 non-null  float64\n",
            " 11  Shipping_Method  15000 non-null  object \n",
            " 12  Supplier         15000 non-null  object \n",
            " 13  Customer         15000 non-null  object \n",
            " 14  Invoice_Number   15000 non-null  int64  \n",
            " 15  Payment_Terms    15000 non-null  object \n",
            "dtypes: float64(2), int64(3), object(11)\n",
            "memory usage: 1.8+ MB\n"
          ]
        }
      ]
    },
    {
      "cell_type": "markdown",
      "source": [
        "###Sampling"
      ],
      "metadata": {
        "id": "S7sJnNxAqGgf"
      }
    },
    {
      "cell_type": "code",
      "source": [
        "is15_ss=is15_ds.sample(n=5001,random_state=55015); is15_ss.head()"
      ],
      "metadata": {
        "colab": {
          "base_uri": "https://localhost:8080/",
          "height": 399
        },
        "id": "CaHkZfArnrOX",
        "outputId": "d831f4be-d752-4396-affc-207ce68fb9ef"
      },
      "execution_count": 52,
      "outputs": [
        {
          "output_type": "execute_result",
          "data": {
            "text/plain": [
              "                             Transaction_ID       Country    Product  \\\n",
              "12879  9ca6d37d-ca9a-4dfa-a366-a8e54b28f19d  Turkmenistan      shake   \n",
              "2330   3c669aa5-50bb-41c7-b01c-ccc7bb87c961       Estonia    service   \n",
              "11804  32dbcc76-0742-43b9-aaf5-aacc32ef7706     Venezuela  represent   \n",
              "14264  0d456d8f-c398-43f0-8af6-286a662d6daf          Oman   painting   \n",
              "1031   f4105d94-c689-437b-b945-23fe03cb8f1e    Seychelles     method   \n",
              "\n",
              "      Import_Export  Quantity   Value        Date     Category  \\\n",
              "12879        Export      7548 4945.53  01-05-2022  Electronics   \n",
              "2330         Export      5377 1893.07  04-10-2022    Machinery   \n",
              "11804        Import      2904 7962.07  18-08-2024     Clothing   \n",
              "14264        Export      4083 9583.53  22-06-2020  Electronics   \n",
              "1031         Import      3199 9857.33  07-08-2021    Machinery   \n",
              "\n",
              "                 Port  Customs_Code  Weight Shipping_Method  \\\n",
              "12879       Port John        777306 3290.03             Air   \n",
              "2330        Reidshire        310672 1999.60            Land   \n",
              "11804  Port Johnhaven        156821 4518.74             Air   \n",
              "14264    East Bradley        501887 2997.55            Land   \n",
              "1031       Scottmouth        834566 4770.92            Land   \n",
              "\n",
              "                              Supplier          Customer  Invoice_Number  \\\n",
              "12879                   Martinez-Colon     Cameron Woods        69629644   \n",
              "2330                  Cummings-Preston        Jill Ramos        45257861   \n",
              "11804            Soto, Sloan and Clark     Amanda Duncan         3162192   \n",
              "14264                    Ortega-Murray  Danielle Johnson        74470159   \n",
              "1031   Gutierrez, Anderson and Allison        Jason Moss        68795528   \n",
              "\n",
              "          Payment_Terms  \n",
              "12879  Cash on Delivery  \n",
              "2330             Net 60  \n",
              "11804  Cash on Delivery  \n",
              "14264           Prepaid  \n",
              "1031   Cash on Delivery  "
            ],
            "text/html": [
              "\n",
              "  <div id=\"df-923b10b4-3a49-42c4-adca-fa032ef212da\" class=\"colab-df-container\">\n",
              "    <div>\n",
              "<style scoped>\n",
              "    .dataframe tbody tr th:only-of-type {\n",
              "        vertical-align: middle;\n",
              "    }\n",
              "\n",
              "    .dataframe tbody tr th {\n",
              "        vertical-align: top;\n",
              "    }\n",
              "\n",
              "    .dataframe thead th {\n",
              "        text-align: right;\n",
              "    }\n",
              "</style>\n",
              "<table border=\"1\" class=\"dataframe\">\n",
              "  <thead>\n",
              "    <tr style=\"text-align: right;\">\n",
              "      <th></th>\n",
              "      <th>Transaction_ID</th>\n",
              "      <th>Country</th>\n",
              "      <th>Product</th>\n",
              "      <th>Import_Export</th>\n",
              "      <th>Quantity</th>\n",
              "      <th>Value</th>\n",
              "      <th>Date</th>\n",
              "      <th>Category</th>\n",
              "      <th>Port</th>\n",
              "      <th>Customs_Code</th>\n",
              "      <th>Weight</th>\n",
              "      <th>Shipping_Method</th>\n",
              "      <th>Supplier</th>\n",
              "      <th>Customer</th>\n",
              "      <th>Invoice_Number</th>\n",
              "      <th>Payment_Terms</th>\n",
              "    </tr>\n",
              "  </thead>\n",
              "  <tbody>\n",
              "    <tr>\n",
              "      <th>12879</th>\n",
              "      <td>9ca6d37d-ca9a-4dfa-a366-a8e54b28f19d</td>\n",
              "      <td>Turkmenistan</td>\n",
              "      <td>shake</td>\n",
              "      <td>Export</td>\n",
              "      <td>7548</td>\n",
              "      <td>4945.53</td>\n",
              "      <td>01-05-2022</td>\n",
              "      <td>Electronics</td>\n",
              "      <td>Port John</td>\n",
              "      <td>777306</td>\n",
              "      <td>3290.03</td>\n",
              "      <td>Air</td>\n",
              "      <td>Martinez-Colon</td>\n",
              "      <td>Cameron Woods</td>\n",
              "      <td>69629644</td>\n",
              "      <td>Cash on Delivery</td>\n",
              "    </tr>\n",
              "    <tr>\n",
              "      <th>2330</th>\n",
              "      <td>3c669aa5-50bb-41c7-b01c-ccc7bb87c961</td>\n",
              "      <td>Estonia</td>\n",
              "      <td>service</td>\n",
              "      <td>Export</td>\n",
              "      <td>5377</td>\n",
              "      <td>1893.07</td>\n",
              "      <td>04-10-2022</td>\n",
              "      <td>Machinery</td>\n",
              "      <td>Reidshire</td>\n",
              "      <td>310672</td>\n",
              "      <td>1999.60</td>\n",
              "      <td>Land</td>\n",
              "      <td>Cummings-Preston</td>\n",
              "      <td>Jill Ramos</td>\n",
              "      <td>45257861</td>\n",
              "      <td>Net 60</td>\n",
              "    </tr>\n",
              "    <tr>\n",
              "      <th>11804</th>\n",
              "      <td>32dbcc76-0742-43b9-aaf5-aacc32ef7706</td>\n",
              "      <td>Venezuela</td>\n",
              "      <td>represent</td>\n",
              "      <td>Import</td>\n",
              "      <td>2904</td>\n",
              "      <td>7962.07</td>\n",
              "      <td>18-08-2024</td>\n",
              "      <td>Clothing</td>\n",
              "      <td>Port Johnhaven</td>\n",
              "      <td>156821</td>\n",
              "      <td>4518.74</td>\n",
              "      <td>Air</td>\n",
              "      <td>Soto, Sloan and Clark</td>\n",
              "      <td>Amanda Duncan</td>\n",
              "      <td>3162192</td>\n",
              "      <td>Cash on Delivery</td>\n",
              "    </tr>\n",
              "    <tr>\n",
              "      <th>14264</th>\n",
              "      <td>0d456d8f-c398-43f0-8af6-286a662d6daf</td>\n",
              "      <td>Oman</td>\n",
              "      <td>painting</td>\n",
              "      <td>Export</td>\n",
              "      <td>4083</td>\n",
              "      <td>9583.53</td>\n",
              "      <td>22-06-2020</td>\n",
              "      <td>Electronics</td>\n",
              "      <td>East Bradley</td>\n",
              "      <td>501887</td>\n",
              "      <td>2997.55</td>\n",
              "      <td>Land</td>\n",
              "      <td>Ortega-Murray</td>\n",
              "      <td>Danielle Johnson</td>\n",
              "      <td>74470159</td>\n",
              "      <td>Prepaid</td>\n",
              "    </tr>\n",
              "    <tr>\n",
              "      <th>1031</th>\n",
              "      <td>f4105d94-c689-437b-b945-23fe03cb8f1e</td>\n",
              "      <td>Seychelles</td>\n",
              "      <td>method</td>\n",
              "      <td>Import</td>\n",
              "      <td>3199</td>\n",
              "      <td>9857.33</td>\n",
              "      <td>07-08-2021</td>\n",
              "      <td>Machinery</td>\n",
              "      <td>Scottmouth</td>\n",
              "      <td>834566</td>\n",
              "      <td>4770.92</td>\n",
              "      <td>Land</td>\n",
              "      <td>Gutierrez, Anderson and Allison</td>\n",
              "      <td>Jason Moss</td>\n",
              "      <td>68795528</td>\n",
              "      <td>Cash on Delivery</td>\n",
              "    </tr>\n",
              "  </tbody>\n",
              "</table>\n",
              "</div>\n",
              "    <div class=\"colab-df-buttons\">\n",
              "\n",
              "  <div class=\"colab-df-container\">\n",
              "    <button class=\"colab-df-convert\" onclick=\"convertToInteractive('df-923b10b4-3a49-42c4-adca-fa032ef212da')\"\n",
              "            title=\"Convert this dataframe to an interactive table.\"\n",
              "            style=\"display:none;\">\n",
              "\n",
              "  <svg xmlns=\"http://www.w3.org/2000/svg\" height=\"24px\" viewBox=\"0 -960 960 960\">\n",
              "    <path d=\"M120-120v-720h720v720H120Zm60-500h600v-160H180v160Zm220 220h160v-160H400v160Zm0 220h160v-160H400v160ZM180-400h160v-160H180v160Zm440 0h160v-160H620v160ZM180-180h160v-160H180v160Zm440 0h160v-160H620v160Z\"/>\n",
              "  </svg>\n",
              "    </button>\n",
              "\n",
              "  <style>\n",
              "    .colab-df-container {\n",
              "      display:flex;\n",
              "      gap: 12px;\n",
              "    }\n",
              "\n",
              "    .colab-df-convert {\n",
              "      background-color: #E8F0FE;\n",
              "      border: none;\n",
              "      border-radius: 50%;\n",
              "      cursor: pointer;\n",
              "      display: none;\n",
              "      fill: #1967D2;\n",
              "      height: 32px;\n",
              "      padding: 0 0 0 0;\n",
              "      width: 32px;\n",
              "    }\n",
              "\n",
              "    .colab-df-convert:hover {\n",
              "      background-color: #E2EBFA;\n",
              "      box-shadow: 0px 1px 2px rgba(60, 64, 67, 0.3), 0px 1px 3px 1px rgba(60, 64, 67, 0.15);\n",
              "      fill: #174EA6;\n",
              "    }\n",
              "\n",
              "    .colab-df-buttons div {\n",
              "      margin-bottom: 4px;\n",
              "    }\n",
              "\n",
              "    [theme=dark] .colab-df-convert {\n",
              "      background-color: #3B4455;\n",
              "      fill: #D2E3FC;\n",
              "    }\n",
              "\n",
              "    [theme=dark] .colab-df-convert:hover {\n",
              "      background-color: #434B5C;\n",
              "      box-shadow: 0px 1px 3px 1px rgba(0, 0, 0, 0.15);\n",
              "      filter: drop-shadow(0px 1px 2px rgba(0, 0, 0, 0.3));\n",
              "      fill: #FFFFFF;\n",
              "    }\n",
              "  </style>\n",
              "\n",
              "    <script>\n",
              "      const buttonEl =\n",
              "        document.querySelector('#df-923b10b4-3a49-42c4-adca-fa032ef212da button.colab-df-convert');\n",
              "      buttonEl.style.display =\n",
              "        google.colab.kernel.accessAllowed ? 'block' : 'none';\n",
              "\n",
              "      async function convertToInteractive(key) {\n",
              "        const element = document.querySelector('#df-923b10b4-3a49-42c4-adca-fa032ef212da');\n",
              "        const dataTable =\n",
              "          await google.colab.kernel.invokeFunction('convertToInteractive',\n",
              "                                                    [key], {});\n",
              "        if (!dataTable) return;\n",
              "\n",
              "        const docLinkHtml = 'Like what you see? Visit the ' +\n",
              "          '<a target=\"_blank\" href=https://colab.research.google.com/notebooks/data_table.ipynb>data table notebook</a>'\n",
              "          + ' to learn more about interactive tables.';\n",
              "        element.innerHTML = '';\n",
              "        dataTable['output_type'] = 'display_data';\n",
              "        await google.colab.output.renderOutput(dataTable, element);\n",
              "        const docLink = document.createElement('div');\n",
              "        docLink.innerHTML = docLinkHtml;\n",
              "        element.appendChild(docLink);\n",
              "      }\n",
              "    </script>\n",
              "  </div>\n",
              "\n",
              "\n",
              "<div id=\"df-098afeb8-384b-423c-8f1d-b5890f7b942b\">\n",
              "  <button class=\"colab-df-quickchart\" onclick=\"quickchart('df-098afeb8-384b-423c-8f1d-b5890f7b942b')\"\n",
              "            title=\"Suggest charts\"\n",
              "            style=\"display:none;\">\n",
              "\n",
              "<svg xmlns=\"http://www.w3.org/2000/svg\" height=\"24px\"viewBox=\"0 0 24 24\"\n",
              "     width=\"24px\">\n",
              "    <g>\n",
              "        <path d=\"M19 3H5c-1.1 0-2 .9-2 2v14c0 1.1.9 2 2 2h14c1.1 0 2-.9 2-2V5c0-1.1-.9-2-2-2zM9 17H7v-7h2v7zm4 0h-2V7h2v10zm4 0h-2v-4h2v4z\"/>\n",
              "    </g>\n",
              "</svg>\n",
              "  </button>\n",
              "\n",
              "<style>\n",
              "  .colab-df-quickchart {\n",
              "      --bg-color: #E8F0FE;\n",
              "      --fill-color: #1967D2;\n",
              "      --hover-bg-color: #E2EBFA;\n",
              "      --hover-fill-color: #174EA6;\n",
              "      --disabled-fill-color: #AAA;\n",
              "      --disabled-bg-color: #DDD;\n",
              "  }\n",
              "\n",
              "  [theme=dark] .colab-df-quickchart {\n",
              "      --bg-color: #3B4455;\n",
              "      --fill-color: #D2E3FC;\n",
              "      --hover-bg-color: #434B5C;\n",
              "      --hover-fill-color: #FFFFFF;\n",
              "      --disabled-bg-color: #3B4455;\n",
              "      --disabled-fill-color: #666;\n",
              "  }\n",
              "\n",
              "  .colab-df-quickchart {\n",
              "    background-color: var(--bg-color);\n",
              "    border: none;\n",
              "    border-radius: 50%;\n",
              "    cursor: pointer;\n",
              "    display: none;\n",
              "    fill: var(--fill-color);\n",
              "    height: 32px;\n",
              "    padding: 0;\n",
              "    width: 32px;\n",
              "  }\n",
              "\n",
              "  .colab-df-quickchart:hover {\n",
              "    background-color: var(--hover-bg-color);\n",
              "    box-shadow: 0 1px 2px rgba(60, 64, 67, 0.3), 0 1px 3px 1px rgba(60, 64, 67, 0.15);\n",
              "    fill: var(--button-hover-fill-color);\n",
              "  }\n",
              "\n",
              "  .colab-df-quickchart-complete:disabled,\n",
              "  .colab-df-quickchart-complete:disabled:hover {\n",
              "    background-color: var(--disabled-bg-color);\n",
              "    fill: var(--disabled-fill-color);\n",
              "    box-shadow: none;\n",
              "  }\n",
              "\n",
              "  .colab-df-spinner {\n",
              "    border: 2px solid var(--fill-color);\n",
              "    border-color: transparent;\n",
              "    border-bottom-color: var(--fill-color);\n",
              "    animation:\n",
              "      spin 1s steps(1) infinite;\n",
              "  }\n",
              "\n",
              "  @keyframes spin {\n",
              "    0% {\n",
              "      border-color: transparent;\n",
              "      border-bottom-color: var(--fill-color);\n",
              "      border-left-color: var(--fill-color);\n",
              "    }\n",
              "    20% {\n",
              "      border-color: transparent;\n",
              "      border-left-color: var(--fill-color);\n",
              "      border-top-color: var(--fill-color);\n",
              "    }\n",
              "    30% {\n",
              "      border-color: transparent;\n",
              "      border-left-color: var(--fill-color);\n",
              "      border-top-color: var(--fill-color);\n",
              "      border-right-color: var(--fill-color);\n",
              "    }\n",
              "    40% {\n",
              "      border-color: transparent;\n",
              "      border-right-color: var(--fill-color);\n",
              "      border-top-color: var(--fill-color);\n",
              "    }\n",
              "    60% {\n",
              "      border-color: transparent;\n",
              "      border-right-color: var(--fill-color);\n",
              "    }\n",
              "    80% {\n",
              "      border-color: transparent;\n",
              "      border-right-color: var(--fill-color);\n",
              "      border-bottom-color: var(--fill-color);\n",
              "    }\n",
              "    90% {\n",
              "      border-color: transparent;\n",
              "      border-bottom-color: var(--fill-color);\n",
              "    }\n",
              "  }\n",
              "</style>\n",
              "\n",
              "  <script>\n",
              "    async function quickchart(key) {\n",
              "      const quickchartButtonEl =\n",
              "        document.querySelector('#' + key + ' button');\n",
              "      quickchartButtonEl.disabled = true;  // To prevent multiple clicks.\n",
              "      quickchartButtonEl.classList.add('colab-df-spinner');\n",
              "      try {\n",
              "        const charts = await google.colab.kernel.invokeFunction(\n",
              "            'suggestCharts', [key], {});\n",
              "      } catch (error) {\n",
              "        console.error('Error during call to suggestCharts:', error);\n",
              "      }\n",
              "      quickchartButtonEl.classList.remove('colab-df-spinner');\n",
              "      quickchartButtonEl.classList.add('colab-df-quickchart-complete');\n",
              "    }\n",
              "    (() => {\n",
              "      let quickchartButtonEl =\n",
              "        document.querySelector('#df-098afeb8-384b-423c-8f1d-b5890f7b942b button');\n",
              "      quickchartButtonEl.style.display =\n",
              "        google.colab.kernel.accessAllowed ? 'block' : 'none';\n",
              "    })();\n",
              "  </script>\n",
              "</div>\n",
              "\n",
              "    </div>\n",
              "  </div>\n"
            ],
            "application/vnd.google.colaboratory.intrinsic+json": {
              "type": "dataframe",
              "summary": "{\n  \"name\": \"is15_ss=is15_ds\",\n  \"rows\": 5,\n  \"fields\": [\n    {\n      \"column\": \"Transaction_ID\",\n      \"properties\": {\n        \"dtype\": \"string\",\n        \"num_unique_values\": 5,\n        \"samples\": [\n          \"3c669aa5-50bb-41c7-b01c-ccc7bb87c961\",\n          \"f4105d94-c689-437b-b945-23fe03cb8f1e\",\n          \"32dbcc76-0742-43b9-aaf5-aacc32ef7706\"\n        ],\n        \"semantic_type\": \"\",\n        \"description\": \"\"\n      }\n    },\n    {\n      \"column\": \"Country\",\n      \"properties\": {\n        \"dtype\": \"string\",\n        \"num_unique_values\": 5,\n        \"samples\": [\n          \"Estonia\",\n          \"Seychelles\",\n          \"Venezuela\"\n        ],\n        \"semantic_type\": \"\",\n        \"description\": \"\"\n      }\n    },\n    {\n      \"column\": \"Product\",\n      \"properties\": {\n        \"dtype\": \"string\",\n        \"num_unique_values\": 5,\n        \"samples\": [\n          \"service\",\n          \"method\",\n          \"represent\"\n        ],\n        \"semantic_type\": \"\",\n        \"description\": \"\"\n      }\n    },\n    {\n      \"column\": \"Import_Export\",\n      \"properties\": {\n        \"dtype\": \"category\",\n        \"num_unique_values\": 2,\n        \"samples\": [\n          \"Import\",\n          \"Export\"\n        ],\n        \"semantic_type\": \"\",\n        \"description\": \"\"\n      }\n    },\n    {\n      \"column\": \"Quantity\",\n      \"properties\": {\n        \"dtype\": \"number\",\n        \"std\": 1897,\n        \"min\": 2904,\n        \"max\": 7548,\n        \"num_unique_values\": 5,\n        \"samples\": [\n          5377,\n          3199\n        ],\n        \"semantic_type\": \"\",\n        \"description\": \"\"\n      }\n    },\n    {\n      \"column\": \"Value\",\n      \"properties\": {\n        \"dtype\": \"number\",\n        \"std\": 3389.360792698234,\n        \"min\": 1893.07,\n        \"max\": 9857.33,\n        \"num_unique_values\": 5,\n        \"samples\": [\n          1893.07,\n          9857.33\n        ],\n        \"semantic_type\": \"\",\n        \"description\": \"\"\n      }\n    },\n    {\n      \"column\": \"Date\",\n      \"properties\": {\n        \"dtype\": \"string\",\n        \"num_unique_values\": 5,\n        \"samples\": [\n          \"04-10-2022\",\n          \"07-08-2021\"\n        ],\n        \"semantic_type\": \"\",\n        \"description\": \"\"\n      }\n    },\n    {\n      \"column\": \"Category\",\n      \"properties\": {\n        \"dtype\": \"string\",\n        \"num_unique_values\": 3,\n        \"samples\": [\n          \"Electronics\",\n          \"Machinery\"\n        ],\n        \"semantic_type\": \"\",\n        \"description\": \"\"\n      }\n    },\n    {\n      \"column\": \"Port\",\n      \"properties\": {\n        \"dtype\": \"string\",\n        \"num_unique_values\": 5,\n        \"samples\": [\n          \"Reidshire\",\n          \"Scottmouth\"\n        ],\n        \"semantic_type\": \"\",\n        \"description\": \"\"\n      }\n    },\n    {\n      \"column\": \"Customs_Code\",\n      \"properties\": {\n        \"dtype\": \"number\",\n        \"std\": 292033,\n        \"min\": 156821,\n        \"max\": 834566,\n        \"num_unique_values\": 5,\n        \"samples\": [\n          310672,\n          834566\n        ],\n        \"semantic_type\": \"\",\n        \"description\": \"\"\n      }\n    },\n    {\n      \"column\": \"Weight\",\n      \"properties\": {\n        \"dtype\": \"number\",\n        \"std\": 1140.135027121788,\n        \"min\": 1999.6,\n        \"max\": 4770.92,\n        \"num_unique_values\": 5,\n        \"samples\": [\n          1999.6,\n          4770.92\n        ],\n        \"semantic_type\": \"\",\n        \"description\": \"\"\n      }\n    },\n    {\n      \"column\": \"Shipping_Method\",\n      \"properties\": {\n        \"dtype\": \"category\",\n        \"num_unique_values\": 2,\n        \"samples\": [\n          \"Land\",\n          \"Air\"\n        ],\n        \"semantic_type\": \"\",\n        \"description\": \"\"\n      }\n    },\n    {\n      \"column\": \"Supplier\",\n      \"properties\": {\n        \"dtype\": \"string\",\n        \"num_unique_values\": 5,\n        \"samples\": [\n          \"Cummings-Preston\",\n          \"Gutierrez, Anderson and Allison\"\n        ],\n        \"semantic_type\": \"\",\n        \"description\": \"\"\n      }\n    },\n    {\n      \"column\": \"Customer\",\n      \"properties\": {\n        \"dtype\": \"string\",\n        \"num_unique_values\": 5,\n        \"samples\": [\n          \"Jill Ramos\",\n          \"Jason Moss\"\n        ],\n        \"semantic_type\": \"\",\n        \"description\": \"\"\n      }\n    },\n    {\n      \"column\": \"Invoice_Number\",\n      \"properties\": {\n        \"dtype\": \"number\",\n        \"std\": 29698670,\n        \"min\": 3162192,\n        \"max\": 74470159,\n        \"num_unique_values\": 5,\n        \"samples\": [\n          45257861,\n          68795528\n        ],\n        \"semantic_type\": \"\",\n        \"description\": \"\"\n      }\n    },\n    {\n      \"column\": \"Payment_Terms\",\n      \"properties\": {\n        \"dtype\": \"string\",\n        \"num_unique_values\": 3,\n        \"samples\": [\n          \"Cash on Delivery\",\n          \"Net 60\"\n        ],\n        \"semantic_type\": \"\",\n        \"description\": \"\"\n      }\n    }\n  ]\n}"
            }
          },
          "metadata": {},
          "execution_count": 52
        }
      ]
    },
    {
      "cell_type": "code",
      "source": [
        "is15_ss.info()"
      ],
      "metadata": {
        "colab": {
          "base_uri": "https://localhost:8080/"
        },
        "id": "atcjpPz1nx2G",
        "outputId": "ac73dee9-e9a0-425b-fc90-972cd0e49099"
      },
      "execution_count": 53,
      "outputs": [
        {
          "output_type": "stream",
          "name": "stdout",
          "text": [
            "<class 'pandas.core.frame.DataFrame'>\n",
            "Index: 5001 entries, 12879 to 12730\n",
            "Data columns (total 16 columns):\n",
            " #   Column           Non-Null Count  Dtype  \n",
            "---  ------           --------------  -----  \n",
            " 0   Transaction_ID   5001 non-null   object \n",
            " 1   Country          5001 non-null   object \n",
            " 2   Product          5001 non-null   object \n",
            " 3   Import_Export    5001 non-null   object \n",
            " 4   Quantity         5001 non-null   int64  \n",
            " 5   Value            5001 non-null   float64\n",
            " 6   Date             5001 non-null   object \n",
            " 7   Category         5001 non-null   object \n",
            " 8   Port             5001 non-null   object \n",
            " 9   Customs_Code     5001 non-null   int64  \n",
            " 10  Weight           5001 non-null   float64\n",
            " 11  Shipping_Method  5001 non-null   object \n",
            " 12  Supplier         5001 non-null   object \n",
            " 13  Customer         5001 non-null   object \n",
            " 14  Invoice_Number   5001 non-null   int64  \n",
            " 15  Payment_Terms    5001 non-null   object \n",
            "dtypes: float64(2), int64(3), object(11)\n",
            "memory usage: 664.2+ KB\n"
          ]
        }
      ]
    },
    {
      "cell_type": "code",
      "source": [
        "is15_ss.info() # Dataframe Information (Provide Information on Missing Data)\n",
        "variable_missing_data = is15_ss.isna().sum(); variable_missing_data # Variable-wise Missing Data Information"
      ],
      "metadata": {
        "colab": {
          "base_uri": "https://localhost:8080/",
          "height": 1000
        },
        "id": "3CqjtbQMtbHy",
        "outputId": "eaa67bd4-e082-4920-cd85-b95628f9f2db"
      },
      "execution_count": 54,
      "outputs": [
        {
          "output_type": "stream",
          "name": "stdout",
          "text": [
            "<class 'pandas.core.frame.DataFrame'>\n",
            "Index: 5001 entries, 12879 to 12730\n",
            "Data columns (total 16 columns):\n",
            " #   Column           Non-Null Count  Dtype  \n",
            "---  ------           --------------  -----  \n",
            " 0   Transaction_ID   5001 non-null   object \n",
            " 1   Country          5001 non-null   object \n",
            " 2   Product          5001 non-null   object \n",
            " 3   Import_Export    5001 non-null   object \n",
            " 4   Quantity         5001 non-null   int64  \n",
            " 5   Value            5001 non-null   float64\n",
            " 6   Date             5001 non-null   object \n",
            " 7   Category         5001 non-null   object \n",
            " 8   Port             5001 non-null   object \n",
            " 9   Customs_Code     5001 non-null   int64  \n",
            " 10  Weight           5001 non-null   float64\n",
            " 11  Shipping_Method  5001 non-null   object \n",
            " 12  Supplier         5001 non-null   object \n",
            " 13  Customer         5001 non-null   object \n",
            " 14  Invoice_Number   5001 non-null   int64  \n",
            " 15  Payment_Terms    5001 non-null   object \n",
            "dtypes: float64(2), int64(3), object(11)\n",
            "memory usage: 664.2+ KB\n"
          ]
        },
        {
          "output_type": "execute_result",
          "data": {
            "text/plain": [
              "Transaction_ID     0\n",
              "Country            0\n",
              "Product            0\n",
              "Import_Export      0\n",
              "Quantity           0\n",
              "Value              0\n",
              "Date               0\n",
              "Category           0\n",
              "Port               0\n",
              "Customs_Code       0\n",
              "Weight             0\n",
              "Shipping_Method    0\n",
              "Supplier           0\n",
              "Customer           0\n",
              "Invoice_Number     0\n",
              "Payment_Terms      0\n",
              "dtype: int64"
            ],
            "text/html": [
              "<div>\n",
              "<style scoped>\n",
              "    .dataframe tbody tr th:only-of-type {\n",
              "        vertical-align: middle;\n",
              "    }\n",
              "\n",
              "    .dataframe tbody tr th {\n",
              "        vertical-align: top;\n",
              "    }\n",
              "\n",
              "    .dataframe thead th {\n",
              "        text-align: right;\n",
              "    }\n",
              "</style>\n",
              "<table border=\"1\" class=\"dataframe\">\n",
              "  <thead>\n",
              "    <tr style=\"text-align: right;\">\n",
              "      <th></th>\n",
              "      <th>0</th>\n",
              "    </tr>\n",
              "  </thead>\n",
              "  <tbody>\n",
              "    <tr>\n",
              "      <th>Transaction_ID</th>\n",
              "      <td>0</td>\n",
              "    </tr>\n",
              "    <tr>\n",
              "      <th>Country</th>\n",
              "      <td>0</td>\n",
              "    </tr>\n",
              "    <tr>\n",
              "      <th>Product</th>\n",
              "      <td>0</td>\n",
              "    </tr>\n",
              "    <tr>\n",
              "      <th>Import_Export</th>\n",
              "      <td>0</td>\n",
              "    </tr>\n",
              "    <tr>\n",
              "      <th>Quantity</th>\n",
              "      <td>0</td>\n",
              "    </tr>\n",
              "    <tr>\n",
              "      <th>Value</th>\n",
              "      <td>0</td>\n",
              "    </tr>\n",
              "    <tr>\n",
              "      <th>Date</th>\n",
              "      <td>0</td>\n",
              "    </tr>\n",
              "    <tr>\n",
              "      <th>Category</th>\n",
              "      <td>0</td>\n",
              "    </tr>\n",
              "    <tr>\n",
              "      <th>Port</th>\n",
              "      <td>0</td>\n",
              "    </tr>\n",
              "    <tr>\n",
              "      <th>Customs_Code</th>\n",
              "      <td>0</td>\n",
              "    </tr>\n",
              "    <tr>\n",
              "      <th>Weight</th>\n",
              "      <td>0</td>\n",
              "    </tr>\n",
              "    <tr>\n",
              "      <th>Shipping_Method</th>\n",
              "      <td>0</td>\n",
              "    </tr>\n",
              "    <tr>\n",
              "      <th>Supplier</th>\n",
              "      <td>0</td>\n",
              "    </tr>\n",
              "    <tr>\n",
              "      <th>Customer</th>\n",
              "      <td>0</td>\n",
              "    </tr>\n",
              "    <tr>\n",
              "      <th>Invoice_Number</th>\n",
              "      <td>0</td>\n",
              "    </tr>\n",
              "    <tr>\n",
              "      <th>Payment_Terms</th>\n",
              "      <td>0</td>\n",
              "    </tr>\n",
              "  </tbody>\n",
              "</table>\n",
              "</div><br><label><b>dtype:</b> int64</label>"
            ]
          },
          "metadata": {},
          "execution_count": 54
        }
      ]
    },
    {
      "cell_type": "code",
      "source": [
        "record_missing_data = is15_ss.isna().sum(axis=1).sort_values(ascending=False).head(5); record_missing_data # Record-wise Missing Data Information (Top 5)"
      ],
      "metadata": {
        "colab": {
          "base_uri": "https://localhost:8080/",
          "height": 241
        },
        "id": "FDlseXwUted5",
        "outputId": "07ae32c5-b42d-46fa-c47e-f41fd5a13934"
      },
      "execution_count": 55,
      "outputs": [
        {
          "output_type": "execute_result",
          "data": {
            "text/plain": [
              "12879    0\n",
              "1969     0\n",
              "14145    0\n",
              "4450     0\n",
              "11194    0\n",
              "dtype: int64"
            ],
            "text/html": [
              "<div>\n",
              "<style scoped>\n",
              "    .dataframe tbody tr th:only-of-type {\n",
              "        vertical-align: middle;\n",
              "    }\n",
              "\n",
              "    .dataframe tbody tr th {\n",
              "        vertical-align: top;\n",
              "    }\n",
              "\n",
              "    .dataframe thead th {\n",
              "        text-align: right;\n",
              "    }\n",
              "</style>\n",
              "<table border=\"1\" class=\"dataframe\">\n",
              "  <thead>\n",
              "    <tr style=\"text-align: right;\">\n",
              "      <th></th>\n",
              "      <th>0</th>\n",
              "    </tr>\n",
              "  </thead>\n",
              "  <tbody>\n",
              "    <tr>\n",
              "      <th>12879</th>\n",
              "      <td>0</td>\n",
              "    </tr>\n",
              "    <tr>\n",
              "      <th>1969</th>\n",
              "      <td>0</td>\n",
              "    </tr>\n",
              "    <tr>\n",
              "      <th>14145</th>\n",
              "      <td>0</td>\n",
              "    </tr>\n",
              "    <tr>\n",
              "      <th>4450</th>\n",
              "      <td>0</td>\n",
              "    </tr>\n",
              "    <tr>\n",
              "      <th>11194</th>\n",
              "      <td>0</td>\n",
              "    </tr>\n",
              "  </tbody>\n",
              "</table>\n",
              "</div><br><label><b>dtype:</b> int64</label>"
            ]
          },
          "metadata": {},
          "execution_count": 55
        }
      ]
    },
    {
      "cell_type": "markdown",
      "source": [
        "###Bifurcation of Data\n"
      ],
      "metadata": {
        "id": "Al995-wlBpAb"
      }
    },
    {
      "cell_type": "code",
      "source": [
        "is15_ss_cat = is15_ss[['Country', 'Product', 'Import_Export', 'Category','Port', 'Customs_Code', 'Shipping_Method', 'Supplier', 'Customer','Payment_Terms']]\n",
        "is15_ss_cat_nom = is15_ss[['Country', 'Product', 'Import_Export', 'Category', 'Port','Customs_Code', 'Shipping_Method', 'Supplier', 'Customer']]\n",
        "is15_ss_cat_ord = is15_ss[['Payment_Terms']]\n",
        "is15_ss_ncat = is15_ss[['Quantity', 'Value', 'Weight','Date']]\n",
        "is15_ss_index = is15_ss[['Transaction_ID', 'Invoice_Number']]"
      ],
      "metadata": {
        "id": "76Z4c4jmFWAA"
      },
      "execution_count": 56,
      "outputs": []
    },
    {
      "cell_type": "markdown",
      "source": [
        "###PreProcessing\n"
      ],
      "metadata": {
        "id": "FKfq_yyKDeWK"
      }
    },
    {
      "cell_type": "code",
      "source": [
        "is15_ss_dummy = is15_ss.copy()"
      ],
      "metadata": {
        "id": "14ZbfjC_uJfN"
      },
      "execution_count": 57,
      "outputs": []
    },
    {
      "cell_type": "code",
      "source": [
        "is15_encoder = OrdinalEncoder()\n",
        "categorical_cols = is15_ss_cat.select_dtypes(include=['object','string']).columns\n",
        "is15_ss_cat_encoded = is15_encoder.fit_transform(is15_ss_cat[categorical_cols])\n",
        "is15_ss_cat_encoded = pd.DataFrame(is15_ss_cat_encoded, columns=categorical_cols, index=is15_ss_cat.index)\n",
        "is15_ss_encoded = pd.concat([is15_ss.drop(categorical_cols, axis=1), is15_ss_cat_encoded], axis=1)"
      ],
      "metadata": {
        "id": "lOqZ2T1kIzMf"
      },
      "execution_count": 58,
      "outputs": []
    },
    {
      "cell_type": "code",
      "source": [
        "is15_ss_encoded.head()"
      ],
      "metadata": {
        "id": "glRb4Xp2uJmO",
        "colab": {
          "base_uri": "https://localhost:8080/",
          "height": 399
        },
        "outputId": "28695f87-e9d7-4601-ad22-6bef71e89a21"
      },
      "execution_count": 59,
      "outputs": [
        {
          "output_type": "execute_result",
          "data": {
            "text/plain": [
              "                             Transaction_ID  Quantity   Value        Date  \\\n",
              "12879  9ca6d37d-ca9a-4dfa-a366-a8e54b28f19d      7548 4945.53  01-05-2022   \n",
              "2330   3c669aa5-50bb-41c7-b01c-ccc7bb87c961      5377 1893.07  04-10-2022   \n",
              "11804  32dbcc76-0742-43b9-aaf5-aacc32ef7706      2904 7962.07  18-08-2024   \n",
              "14264  0d456d8f-c398-43f0-8af6-286a662d6daf      4083 9583.53  22-06-2020   \n",
              "1031   f4105d94-c689-437b-b945-23fe03cb8f1e      3199 9857.33  07-08-2021   \n",
              "\n",
              "       Customs_Code  Weight  Invoice_Number  Country  Product  Import_Export  \\\n",
              "12879        777306 3290.03        69629644   223.00   740.00           0.00   \n",
              "2330         310672 1999.60        45257861    66.00   736.00           0.00   \n",
              "11804        156821 4518.74         3162192   236.00   690.00           1.00   \n",
              "14264        501887 2997.55        74470159   163.00   588.00           0.00   \n",
              "1031         834566 4770.92        68795528   194.00   502.00           1.00   \n",
              "\n",
              "       Category    Port  Shipping_Method  Supplier  Customer  Payment_Terms  \n",
              "12879      1.00 2945.00             0.00   2539.00    668.00           0.00  \n",
              "2330       3.00 3183.00             1.00    878.00   2152.00           2.00  \n",
              "11804      0.00 2949.00             0.00   3853.00    134.00           0.00  \n",
              "14264      1.00  621.00             1.00   3022.00   1078.00           3.00  \n",
              "1031       3.00 3340.00             1.00   1536.00   1893.00           0.00  "
            ],
            "text/html": [
              "\n",
              "  <div id=\"df-c5a869a5-4a0a-4610-ba32-ef8744b740b2\" class=\"colab-df-container\">\n",
              "    <div>\n",
              "<style scoped>\n",
              "    .dataframe tbody tr th:only-of-type {\n",
              "        vertical-align: middle;\n",
              "    }\n",
              "\n",
              "    .dataframe tbody tr th {\n",
              "        vertical-align: top;\n",
              "    }\n",
              "\n",
              "    .dataframe thead th {\n",
              "        text-align: right;\n",
              "    }\n",
              "</style>\n",
              "<table border=\"1\" class=\"dataframe\">\n",
              "  <thead>\n",
              "    <tr style=\"text-align: right;\">\n",
              "      <th></th>\n",
              "      <th>Transaction_ID</th>\n",
              "      <th>Quantity</th>\n",
              "      <th>Value</th>\n",
              "      <th>Date</th>\n",
              "      <th>Customs_Code</th>\n",
              "      <th>Weight</th>\n",
              "      <th>Invoice_Number</th>\n",
              "      <th>Country</th>\n",
              "      <th>Product</th>\n",
              "      <th>Import_Export</th>\n",
              "      <th>Category</th>\n",
              "      <th>Port</th>\n",
              "      <th>Shipping_Method</th>\n",
              "      <th>Supplier</th>\n",
              "      <th>Customer</th>\n",
              "      <th>Payment_Terms</th>\n",
              "    </tr>\n",
              "  </thead>\n",
              "  <tbody>\n",
              "    <tr>\n",
              "      <th>12879</th>\n",
              "      <td>9ca6d37d-ca9a-4dfa-a366-a8e54b28f19d</td>\n",
              "      <td>7548</td>\n",
              "      <td>4945.53</td>\n",
              "      <td>01-05-2022</td>\n",
              "      <td>777306</td>\n",
              "      <td>3290.03</td>\n",
              "      <td>69629644</td>\n",
              "      <td>223.00</td>\n",
              "      <td>740.00</td>\n",
              "      <td>0.00</td>\n",
              "      <td>1.00</td>\n",
              "      <td>2945.00</td>\n",
              "      <td>0.00</td>\n",
              "      <td>2539.00</td>\n",
              "      <td>668.00</td>\n",
              "      <td>0.00</td>\n",
              "    </tr>\n",
              "    <tr>\n",
              "      <th>2330</th>\n",
              "      <td>3c669aa5-50bb-41c7-b01c-ccc7bb87c961</td>\n",
              "      <td>5377</td>\n",
              "      <td>1893.07</td>\n",
              "      <td>04-10-2022</td>\n",
              "      <td>310672</td>\n",
              "      <td>1999.60</td>\n",
              "      <td>45257861</td>\n",
              "      <td>66.00</td>\n",
              "      <td>736.00</td>\n",
              "      <td>0.00</td>\n",
              "      <td>3.00</td>\n",
              "      <td>3183.00</td>\n",
              "      <td>1.00</td>\n",
              "      <td>878.00</td>\n",
              "      <td>2152.00</td>\n",
              "      <td>2.00</td>\n",
              "    </tr>\n",
              "    <tr>\n",
              "      <th>11804</th>\n",
              "      <td>32dbcc76-0742-43b9-aaf5-aacc32ef7706</td>\n",
              "      <td>2904</td>\n",
              "      <td>7962.07</td>\n",
              "      <td>18-08-2024</td>\n",
              "      <td>156821</td>\n",
              "      <td>4518.74</td>\n",
              "      <td>3162192</td>\n",
              "      <td>236.00</td>\n",
              "      <td>690.00</td>\n",
              "      <td>1.00</td>\n",
              "      <td>0.00</td>\n",
              "      <td>2949.00</td>\n",
              "      <td>0.00</td>\n",
              "      <td>3853.00</td>\n",
              "      <td>134.00</td>\n",
              "      <td>0.00</td>\n",
              "    </tr>\n",
              "    <tr>\n",
              "      <th>14264</th>\n",
              "      <td>0d456d8f-c398-43f0-8af6-286a662d6daf</td>\n",
              "      <td>4083</td>\n",
              "      <td>9583.53</td>\n",
              "      <td>22-06-2020</td>\n",
              "      <td>501887</td>\n",
              "      <td>2997.55</td>\n",
              "      <td>74470159</td>\n",
              "      <td>163.00</td>\n",
              "      <td>588.00</td>\n",
              "      <td>0.00</td>\n",
              "      <td>1.00</td>\n",
              "      <td>621.00</td>\n",
              "      <td>1.00</td>\n",
              "      <td>3022.00</td>\n",
              "      <td>1078.00</td>\n",
              "      <td>3.00</td>\n",
              "    </tr>\n",
              "    <tr>\n",
              "      <th>1031</th>\n",
              "      <td>f4105d94-c689-437b-b945-23fe03cb8f1e</td>\n",
              "      <td>3199</td>\n",
              "      <td>9857.33</td>\n",
              "      <td>07-08-2021</td>\n",
              "      <td>834566</td>\n",
              "      <td>4770.92</td>\n",
              "      <td>68795528</td>\n",
              "      <td>194.00</td>\n",
              "      <td>502.00</td>\n",
              "      <td>1.00</td>\n",
              "      <td>3.00</td>\n",
              "      <td>3340.00</td>\n",
              "      <td>1.00</td>\n",
              "      <td>1536.00</td>\n",
              "      <td>1893.00</td>\n",
              "      <td>0.00</td>\n",
              "    </tr>\n",
              "  </tbody>\n",
              "</table>\n",
              "</div>\n",
              "    <div class=\"colab-df-buttons\">\n",
              "\n",
              "  <div class=\"colab-df-container\">\n",
              "    <button class=\"colab-df-convert\" onclick=\"convertToInteractive('df-c5a869a5-4a0a-4610-ba32-ef8744b740b2')\"\n",
              "            title=\"Convert this dataframe to an interactive table.\"\n",
              "            style=\"display:none;\">\n",
              "\n",
              "  <svg xmlns=\"http://www.w3.org/2000/svg\" height=\"24px\" viewBox=\"0 -960 960 960\">\n",
              "    <path d=\"M120-120v-720h720v720H120Zm60-500h600v-160H180v160Zm220 220h160v-160H400v160Zm0 220h160v-160H400v160ZM180-400h160v-160H180v160Zm440 0h160v-160H620v160ZM180-180h160v-160H180v160Zm440 0h160v-160H620v160Z\"/>\n",
              "  </svg>\n",
              "    </button>\n",
              "\n",
              "  <style>\n",
              "    .colab-df-container {\n",
              "      display:flex;\n",
              "      gap: 12px;\n",
              "    }\n",
              "\n",
              "    .colab-df-convert {\n",
              "      background-color: #E8F0FE;\n",
              "      border: none;\n",
              "      border-radius: 50%;\n",
              "      cursor: pointer;\n",
              "      display: none;\n",
              "      fill: #1967D2;\n",
              "      height: 32px;\n",
              "      padding: 0 0 0 0;\n",
              "      width: 32px;\n",
              "    }\n",
              "\n",
              "    .colab-df-convert:hover {\n",
              "      background-color: #E2EBFA;\n",
              "      box-shadow: 0px 1px 2px rgba(60, 64, 67, 0.3), 0px 1px 3px 1px rgba(60, 64, 67, 0.15);\n",
              "      fill: #174EA6;\n",
              "    }\n",
              "\n",
              "    .colab-df-buttons div {\n",
              "      margin-bottom: 4px;\n",
              "    }\n",
              "\n",
              "    [theme=dark] .colab-df-convert {\n",
              "      background-color: #3B4455;\n",
              "      fill: #D2E3FC;\n",
              "    }\n",
              "\n",
              "    [theme=dark] .colab-df-convert:hover {\n",
              "      background-color: #434B5C;\n",
              "      box-shadow: 0px 1px 3px 1px rgba(0, 0, 0, 0.15);\n",
              "      filter: drop-shadow(0px 1px 2px rgba(0, 0, 0, 0.3));\n",
              "      fill: #FFFFFF;\n",
              "    }\n",
              "  </style>\n",
              "\n",
              "    <script>\n",
              "      const buttonEl =\n",
              "        document.querySelector('#df-c5a869a5-4a0a-4610-ba32-ef8744b740b2 button.colab-df-convert');\n",
              "      buttonEl.style.display =\n",
              "        google.colab.kernel.accessAllowed ? 'block' : 'none';\n",
              "\n",
              "      async function convertToInteractive(key) {\n",
              "        const element = document.querySelector('#df-c5a869a5-4a0a-4610-ba32-ef8744b740b2');\n",
              "        const dataTable =\n",
              "          await google.colab.kernel.invokeFunction('convertToInteractive',\n",
              "                                                    [key], {});\n",
              "        if (!dataTable) return;\n",
              "\n",
              "        const docLinkHtml = 'Like what you see? Visit the ' +\n",
              "          '<a target=\"_blank\" href=https://colab.research.google.com/notebooks/data_table.ipynb>data table notebook</a>'\n",
              "          + ' to learn more about interactive tables.';\n",
              "        element.innerHTML = '';\n",
              "        dataTable['output_type'] = 'display_data';\n",
              "        await google.colab.output.renderOutput(dataTable, element);\n",
              "        const docLink = document.createElement('div');\n",
              "        docLink.innerHTML = docLinkHtml;\n",
              "        element.appendChild(docLink);\n",
              "      }\n",
              "    </script>\n",
              "  </div>\n",
              "\n",
              "\n",
              "<div id=\"df-212c5939-36b8-4d17-89dd-c9f61501d961\">\n",
              "  <button class=\"colab-df-quickchart\" onclick=\"quickchart('df-212c5939-36b8-4d17-89dd-c9f61501d961')\"\n",
              "            title=\"Suggest charts\"\n",
              "            style=\"display:none;\">\n",
              "\n",
              "<svg xmlns=\"http://www.w3.org/2000/svg\" height=\"24px\"viewBox=\"0 0 24 24\"\n",
              "     width=\"24px\">\n",
              "    <g>\n",
              "        <path d=\"M19 3H5c-1.1 0-2 .9-2 2v14c0 1.1.9 2 2 2h14c1.1 0 2-.9 2-2V5c0-1.1-.9-2-2-2zM9 17H7v-7h2v7zm4 0h-2V7h2v10zm4 0h-2v-4h2v4z\"/>\n",
              "    </g>\n",
              "</svg>\n",
              "  </button>\n",
              "\n",
              "<style>\n",
              "  .colab-df-quickchart {\n",
              "      --bg-color: #E8F0FE;\n",
              "      --fill-color: #1967D2;\n",
              "      --hover-bg-color: #E2EBFA;\n",
              "      --hover-fill-color: #174EA6;\n",
              "      --disabled-fill-color: #AAA;\n",
              "      --disabled-bg-color: #DDD;\n",
              "  }\n",
              "\n",
              "  [theme=dark] .colab-df-quickchart {\n",
              "      --bg-color: #3B4455;\n",
              "      --fill-color: #D2E3FC;\n",
              "      --hover-bg-color: #434B5C;\n",
              "      --hover-fill-color: #FFFFFF;\n",
              "      --disabled-bg-color: #3B4455;\n",
              "      --disabled-fill-color: #666;\n",
              "  }\n",
              "\n",
              "  .colab-df-quickchart {\n",
              "    background-color: var(--bg-color);\n",
              "    border: none;\n",
              "    border-radius: 50%;\n",
              "    cursor: pointer;\n",
              "    display: none;\n",
              "    fill: var(--fill-color);\n",
              "    height: 32px;\n",
              "    padding: 0;\n",
              "    width: 32px;\n",
              "  }\n",
              "\n",
              "  .colab-df-quickchart:hover {\n",
              "    background-color: var(--hover-bg-color);\n",
              "    box-shadow: 0 1px 2px rgba(60, 64, 67, 0.3), 0 1px 3px 1px rgba(60, 64, 67, 0.15);\n",
              "    fill: var(--button-hover-fill-color);\n",
              "  }\n",
              "\n",
              "  .colab-df-quickchart-complete:disabled,\n",
              "  .colab-df-quickchart-complete:disabled:hover {\n",
              "    background-color: var(--disabled-bg-color);\n",
              "    fill: var(--disabled-fill-color);\n",
              "    box-shadow: none;\n",
              "  }\n",
              "\n",
              "  .colab-df-spinner {\n",
              "    border: 2px solid var(--fill-color);\n",
              "    border-color: transparent;\n",
              "    border-bottom-color: var(--fill-color);\n",
              "    animation:\n",
              "      spin 1s steps(1) infinite;\n",
              "  }\n",
              "\n",
              "  @keyframes spin {\n",
              "    0% {\n",
              "      border-color: transparent;\n",
              "      border-bottom-color: var(--fill-color);\n",
              "      border-left-color: var(--fill-color);\n",
              "    }\n",
              "    20% {\n",
              "      border-color: transparent;\n",
              "      border-left-color: var(--fill-color);\n",
              "      border-top-color: var(--fill-color);\n",
              "    }\n",
              "    30% {\n",
              "      border-color: transparent;\n",
              "      border-left-color: var(--fill-color);\n",
              "      border-top-color: var(--fill-color);\n",
              "      border-right-color: var(--fill-color);\n",
              "    }\n",
              "    40% {\n",
              "      border-color: transparent;\n",
              "      border-right-color: var(--fill-color);\n",
              "      border-top-color: var(--fill-color);\n",
              "    }\n",
              "    60% {\n",
              "      border-color: transparent;\n",
              "      border-right-color: var(--fill-color);\n",
              "    }\n",
              "    80% {\n",
              "      border-color: transparent;\n",
              "      border-right-color: var(--fill-color);\n",
              "      border-bottom-color: var(--fill-color);\n",
              "    }\n",
              "    90% {\n",
              "      border-color: transparent;\n",
              "      border-bottom-color: var(--fill-color);\n",
              "    }\n",
              "  }\n",
              "</style>\n",
              "\n",
              "  <script>\n",
              "    async function quickchart(key) {\n",
              "      const quickchartButtonEl =\n",
              "        document.querySelector('#' + key + ' button');\n",
              "      quickchartButtonEl.disabled = true;  // To prevent multiple clicks.\n",
              "      quickchartButtonEl.classList.add('colab-df-spinner');\n",
              "      try {\n",
              "        const charts = await google.colab.kernel.invokeFunction(\n",
              "            'suggestCharts', [key], {});\n",
              "      } catch (error) {\n",
              "        console.error('Error during call to suggestCharts:', error);\n",
              "      }\n",
              "      quickchartButtonEl.classList.remove('colab-df-spinner');\n",
              "      quickchartButtonEl.classList.add('colab-df-quickchart-complete');\n",
              "    }\n",
              "    (() => {\n",
              "      let quickchartButtonEl =\n",
              "        document.querySelector('#df-212c5939-36b8-4d17-89dd-c9f61501d961 button');\n",
              "      quickchartButtonEl.style.display =\n",
              "        google.colab.kernel.accessAllowed ? 'block' : 'none';\n",
              "    })();\n",
              "  </script>\n",
              "</div>\n",
              "\n",
              "    </div>\n",
              "  </div>\n"
            ],
            "application/vnd.google.colaboratory.intrinsic+json": {
              "type": "dataframe",
              "variable_name": "is15_ss_encoded",
              "summary": "{\n  \"name\": \"is15_ss_encoded\",\n  \"rows\": 5001,\n  \"fields\": [\n    {\n      \"column\": \"Transaction_ID\",\n      \"properties\": {\n        \"dtype\": \"string\",\n        \"num_unique_values\": 5001,\n        \"samples\": [\n          \"69083bd6-ef61-4cac-8674-d2447b056d02\",\n          \"5950a488-68c2-4493-a2dc-b868222dd9f5\",\n          \"cbde1f64-e196-4343-84b2-50ad5b8db4fe\"\n        ],\n        \"semantic_type\": \"\",\n        \"description\": \"\"\n      }\n    },\n    {\n      \"column\": \"Quantity\",\n      \"properties\": {\n        \"dtype\": \"number\",\n        \"std\": 2883,\n        \"min\": 1,\n        \"max\": 10000,\n        \"num_unique_values\": 3934,\n        \"samples\": [\n          4960,\n          707,\n          8792\n        ],\n        \"semantic_type\": \"\",\n        \"description\": \"\"\n      }\n    },\n    {\n      \"column\": \"Value\",\n      \"properties\": {\n        \"dtype\": \"number\",\n        \"std\": 2866.48962452383,\n        \"min\": 102.12,\n        \"max\": 9996.81,\n        \"num_unique_values\": 4984,\n        \"samples\": [\n          4486.26,\n          4749.44,\n          9319.47\n        ],\n        \"semantic_type\": \"\",\n        \"description\": \"\"\n      }\n    },\n    {\n      \"column\": \"Date\",\n      \"properties\": {\n        \"dtype\": \"category\",\n        \"num_unique_values\": 1715,\n        \"samples\": [\n          \"13-11-2022\",\n          \"29-03-2023\",\n          \"03-02-2023\"\n        ],\n        \"semantic_type\": \"\",\n        \"description\": \"\"\n      }\n    },\n    {\n      \"column\": \"Customs_Code\",\n      \"properties\": {\n        \"dtype\": \"number\",\n        \"std\": 262292,\n        \"min\": 100147,\n        \"max\": 999964,\n        \"num_unique_values\": 4987,\n        \"samples\": [\n          806581,\n          986184,\n          456800\n        ],\n        \"semantic_type\": \"\",\n        \"description\": \"\"\n      }\n    },\n    {\n      \"column\": \"Weight\",\n      \"properties\": {\n        \"dtype\": \"number\",\n        \"std\": 1450.95445740795,\n        \"min\": 2.59,\n        \"max\": 4999.93,\n        \"num_unique_values\": 4973,\n        \"samples\": [\n          1130.3,\n          2358.65,\n          2649.6\n        ],\n        \"semantic_type\": \"\",\n        \"description\": \"\"\n      }\n    },\n    {\n      \"column\": \"Invoice_Number\",\n      \"properties\": {\n        \"dtype\": \"number\",\n        \"std\": 28913783,\n        \"min\": 47954,\n        \"max\": 99997226,\n        \"num_unique_values\": 5001,\n        \"samples\": [\n          16958344,\n          58704165,\n          86685691\n        ],\n        \"semantic_type\": \"\",\n        \"description\": \"\"\n      }\n    },\n    {\n      \"column\": \"Country\",\n      \"properties\": {\n        \"dtype\": \"number\",\n        \"std\": 70.13241045366107,\n        \"min\": 0.0,\n        \"max\": 242.0,\n        \"num_unique_values\": 243,\n        \"samples\": [\n          154.0,\n          182.0,\n          212.0\n        ],\n        \"semantic_type\": \"\",\n        \"description\": \"\"\n      }\n    },\n    {\n      \"column\": \"Product\",\n      \"properties\": {\n        \"dtype\": \"number\",\n        \"std\": 278.789508730232,\n        \"min\": 0.0,\n        \"max\": 962.0,\n        \"num_unique_values\": 963,\n        \"samples\": [\n          326.0,\n          458.0,\n          119.0\n        ],\n        \"semantic_type\": \"\",\n        \"description\": \"\"\n      }\n    },\n    {\n      \"column\": \"Import_Export\",\n      \"properties\": {\n        \"dtype\": \"number\",\n        \"std\": 0.5000477481700112,\n        \"min\": 0.0,\n        \"max\": 1.0,\n        \"num_unique_values\": 2,\n        \"samples\": [\n          1.0,\n          0.0\n        ],\n        \"semantic_type\": \"\",\n        \"description\": \"\"\n      }\n    },\n    {\n      \"column\": \"Category\",\n      \"properties\": {\n        \"dtype\": \"number\",\n        \"std\": 1.4134288110121593,\n        \"min\": 0.0,\n        \"max\": 4.0,\n        \"num_unique_values\": 5,\n        \"samples\": [\n          3.0,\n          2.0\n        ],\n        \"semantic_type\": \"\",\n        \"description\": \"\"\n      }\n    },\n    {\n      \"column\": \"Port\",\n      \"properties\": {\n        \"dtype\": \"number\",\n        \"std\": 1229.1033257635743,\n        \"min\": 0.0,\n        \"max\": 4283.0,\n        \"num_unique_values\": 4284,\n        \"samples\": [\n          2058.0,\n          2097.0\n        ],\n        \"semantic_type\": \"\",\n        \"description\": \"\"\n      }\n    },\n    {\n      \"column\": \"Shipping_Method\",\n      \"properties\": {\n        \"dtype\": \"number\",\n        \"std\": 0.8197420110053717,\n        \"min\": 0.0,\n        \"max\": 2.0,\n        \"num_unique_values\": 3,\n        \"samples\": [\n          0.0,\n          1.0\n        ],\n        \"semantic_type\": \"\",\n        \"description\": \"\"\n      }\n    },\n    {\n      \"column\": \"Supplier\",\n      \"properties\": {\n        \"dtype\": \"number\",\n        \"std\": 1329.0920943185852,\n        \"min\": 0.0,\n        \"max\": 4587.0,\n        \"num_unique_values\": 4588,\n        \"samples\": [\n          3632.0,\n          1974.0\n        ],\n        \"semantic_type\": \"\",\n        \"description\": \"\"\n      }\n    },\n    {\n      \"column\": \"Customer\",\n      \"properties\": {\n        \"dtype\": \"number\",\n        \"std\": 1389.3823859435986,\n        \"min\": 0.0,\n        \"max\": 4829.0,\n        \"num_unique_values\": 4830,\n        \"samples\": [\n          4350.0,\n          3227.0\n        ],\n        \"semantic_type\": \"\",\n        \"description\": \"\"\n      }\n    },\n    {\n      \"column\": \"Payment_Terms\",\n      \"properties\": {\n        \"dtype\": \"number\",\n        \"std\": 1.1109581605052146,\n        \"min\": 0.0,\n        \"max\": 3.0,\n        \"num_unique_values\": 4,\n        \"samples\": [\n          2.0,\n          1.0\n        ],\n        \"semantic_type\": \"\",\n        \"description\": \"\"\n      }\n    }\n  ]\n}"
            }
          },
          "metadata": {},
          "execution_count": 59
        }
      ]
    },
    {
      "cell_type": "code",
      "source": [
        "# Scaling\n",
        "is15_scaler = MinMaxScaler()\n",
        "numerical_cols = is15_ss_ncat.select_dtypes(include=['number']).columns\n",
        "is15_ss_ncat_scaled = is15_scaler.fit_transform(is15_ss_ncat[numerical_cols])\n",
        "is15_ss_ncat_scaled = pd.DataFrame(is15_ss_ncat_scaled, columns=numerical_cols, index=is15_ss_ncat.index)\n",
        "is15_ppd = pd.concat([is15_ss_encoded.drop(numerical_cols, axis=1), is15_ss_ncat_scaled], axis=1)"
      ],
      "metadata": {
        "id": "ZFfjUsdZuJxI"
      },
      "execution_count": 60,
      "outputs": []
    },
    {
      "cell_type": "code",
      "source": [
        "is15_ppd.head()"
      ],
      "metadata": {
        "id": "bHEeiAKEuJ-u",
        "colab": {
          "base_uri": "https://localhost:8080/",
          "height": 399
        },
        "outputId": "bee6eb2a-03f7-40f8-962d-d4dac1bf6f69"
      },
      "execution_count": 61,
      "outputs": [
        {
          "output_type": "execute_result",
          "data": {
            "text/plain": [
              "                             Transaction_ID        Date  Customs_Code  \\\n",
              "12879  9ca6d37d-ca9a-4dfa-a366-a8e54b28f19d  01-05-2022        777306   \n",
              "2330   3c669aa5-50bb-41c7-b01c-ccc7bb87c961  04-10-2022        310672   \n",
              "11804  32dbcc76-0742-43b9-aaf5-aacc32ef7706  18-08-2024        156821   \n",
              "14264  0d456d8f-c398-43f0-8af6-286a662d6daf  22-06-2020        501887   \n",
              "1031   f4105d94-c689-437b-b945-23fe03cb8f1e  07-08-2021        834566   \n",
              "\n",
              "       Invoice_Number  Country  Product  Import_Export  Category    Port  \\\n",
              "12879        69629644   223.00   740.00           0.00      1.00 2945.00   \n",
              "2330         45257861    66.00   736.00           0.00      3.00 3183.00   \n",
              "11804         3162192   236.00   690.00           1.00      0.00 2949.00   \n",
              "14264        74470159   163.00   588.00           0.00      1.00  621.00   \n",
              "1031         68795528   194.00   502.00           1.00      3.00 3340.00   \n",
              "\n",
              "       Shipping_Method  Supplier  Customer  Payment_Terms  Quantity  Value  \\\n",
              "12879             0.00   2539.00    668.00           0.00      0.75   0.49   \n",
              "2330              1.00    878.00   2152.00           2.00      0.54   0.18   \n",
              "11804             0.00   3853.00    134.00           0.00      0.29   0.79   \n",
              "14264             1.00   3022.00   1078.00           3.00      0.41   0.96   \n",
              "1031              1.00   1536.00   1893.00           0.00      0.32   0.99   \n",
              "\n",
              "       Weight  \n",
              "12879    0.66  \n",
              "2330     0.40  \n",
              "11804    0.90  \n",
              "14264    0.60  \n",
              "1031     0.95  "
            ],
            "text/html": [
              "\n",
              "  <div id=\"df-092949e8-57be-4371-a6ba-99fcdf244502\" class=\"colab-df-container\">\n",
              "    <div>\n",
              "<style scoped>\n",
              "    .dataframe tbody tr th:only-of-type {\n",
              "        vertical-align: middle;\n",
              "    }\n",
              "\n",
              "    .dataframe tbody tr th {\n",
              "        vertical-align: top;\n",
              "    }\n",
              "\n",
              "    .dataframe thead th {\n",
              "        text-align: right;\n",
              "    }\n",
              "</style>\n",
              "<table border=\"1\" class=\"dataframe\">\n",
              "  <thead>\n",
              "    <tr style=\"text-align: right;\">\n",
              "      <th></th>\n",
              "      <th>Transaction_ID</th>\n",
              "      <th>Date</th>\n",
              "      <th>Customs_Code</th>\n",
              "      <th>Invoice_Number</th>\n",
              "      <th>Country</th>\n",
              "      <th>Product</th>\n",
              "      <th>Import_Export</th>\n",
              "      <th>Category</th>\n",
              "      <th>Port</th>\n",
              "      <th>Shipping_Method</th>\n",
              "      <th>Supplier</th>\n",
              "      <th>Customer</th>\n",
              "      <th>Payment_Terms</th>\n",
              "      <th>Quantity</th>\n",
              "      <th>Value</th>\n",
              "      <th>Weight</th>\n",
              "    </tr>\n",
              "  </thead>\n",
              "  <tbody>\n",
              "    <tr>\n",
              "      <th>12879</th>\n",
              "      <td>9ca6d37d-ca9a-4dfa-a366-a8e54b28f19d</td>\n",
              "      <td>01-05-2022</td>\n",
              "      <td>777306</td>\n",
              "      <td>69629644</td>\n",
              "      <td>223.00</td>\n",
              "      <td>740.00</td>\n",
              "      <td>0.00</td>\n",
              "      <td>1.00</td>\n",
              "      <td>2945.00</td>\n",
              "      <td>0.00</td>\n",
              "      <td>2539.00</td>\n",
              "      <td>668.00</td>\n",
              "      <td>0.00</td>\n",
              "      <td>0.75</td>\n",
              "      <td>0.49</td>\n",
              "      <td>0.66</td>\n",
              "    </tr>\n",
              "    <tr>\n",
              "      <th>2330</th>\n",
              "      <td>3c669aa5-50bb-41c7-b01c-ccc7bb87c961</td>\n",
              "      <td>04-10-2022</td>\n",
              "      <td>310672</td>\n",
              "      <td>45257861</td>\n",
              "      <td>66.00</td>\n",
              "      <td>736.00</td>\n",
              "      <td>0.00</td>\n",
              "      <td>3.00</td>\n",
              "      <td>3183.00</td>\n",
              "      <td>1.00</td>\n",
              "      <td>878.00</td>\n",
              "      <td>2152.00</td>\n",
              "      <td>2.00</td>\n",
              "      <td>0.54</td>\n",
              "      <td>0.18</td>\n",
              "      <td>0.40</td>\n",
              "    </tr>\n",
              "    <tr>\n",
              "      <th>11804</th>\n",
              "      <td>32dbcc76-0742-43b9-aaf5-aacc32ef7706</td>\n",
              "      <td>18-08-2024</td>\n",
              "      <td>156821</td>\n",
              "      <td>3162192</td>\n",
              "      <td>236.00</td>\n",
              "      <td>690.00</td>\n",
              "      <td>1.00</td>\n",
              "      <td>0.00</td>\n",
              "      <td>2949.00</td>\n",
              "      <td>0.00</td>\n",
              "      <td>3853.00</td>\n",
              "      <td>134.00</td>\n",
              "      <td>0.00</td>\n",
              "      <td>0.29</td>\n",
              "      <td>0.79</td>\n",
              "      <td>0.90</td>\n",
              "    </tr>\n",
              "    <tr>\n",
              "      <th>14264</th>\n",
              "      <td>0d456d8f-c398-43f0-8af6-286a662d6daf</td>\n",
              "      <td>22-06-2020</td>\n",
              "      <td>501887</td>\n",
              "      <td>74470159</td>\n",
              "      <td>163.00</td>\n",
              "      <td>588.00</td>\n",
              "      <td>0.00</td>\n",
              "      <td>1.00</td>\n",
              "      <td>621.00</td>\n",
              "      <td>1.00</td>\n",
              "      <td>3022.00</td>\n",
              "      <td>1078.00</td>\n",
              "      <td>3.00</td>\n",
              "      <td>0.41</td>\n",
              "      <td>0.96</td>\n",
              "      <td>0.60</td>\n",
              "    </tr>\n",
              "    <tr>\n",
              "      <th>1031</th>\n",
              "      <td>f4105d94-c689-437b-b945-23fe03cb8f1e</td>\n",
              "      <td>07-08-2021</td>\n",
              "      <td>834566</td>\n",
              "      <td>68795528</td>\n",
              "      <td>194.00</td>\n",
              "      <td>502.00</td>\n",
              "      <td>1.00</td>\n",
              "      <td>3.00</td>\n",
              "      <td>3340.00</td>\n",
              "      <td>1.00</td>\n",
              "      <td>1536.00</td>\n",
              "      <td>1893.00</td>\n",
              "      <td>0.00</td>\n",
              "      <td>0.32</td>\n",
              "      <td>0.99</td>\n",
              "      <td>0.95</td>\n",
              "    </tr>\n",
              "  </tbody>\n",
              "</table>\n",
              "</div>\n",
              "    <div class=\"colab-df-buttons\">\n",
              "\n",
              "  <div class=\"colab-df-container\">\n",
              "    <button class=\"colab-df-convert\" onclick=\"convertToInteractive('df-092949e8-57be-4371-a6ba-99fcdf244502')\"\n",
              "            title=\"Convert this dataframe to an interactive table.\"\n",
              "            style=\"display:none;\">\n",
              "\n",
              "  <svg xmlns=\"http://www.w3.org/2000/svg\" height=\"24px\" viewBox=\"0 -960 960 960\">\n",
              "    <path d=\"M120-120v-720h720v720H120Zm60-500h600v-160H180v160Zm220 220h160v-160H400v160Zm0 220h160v-160H400v160ZM180-400h160v-160H180v160Zm440 0h160v-160H620v160ZM180-180h160v-160H180v160Zm440 0h160v-160H620v160Z\"/>\n",
              "  </svg>\n",
              "    </button>\n",
              "\n",
              "  <style>\n",
              "    .colab-df-container {\n",
              "      display:flex;\n",
              "      gap: 12px;\n",
              "    }\n",
              "\n",
              "    .colab-df-convert {\n",
              "      background-color: #E8F0FE;\n",
              "      border: none;\n",
              "      border-radius: 50%;\n",
              "      cursor: pointer;\n",
              "      display: none;\n",
              "      fill: #1967D2;\n",
              "      height: 32px;\n",
              "      padding: 0 0 0 0;\n",
              "      width: 32px;\n",
              "    }\n",
              "\n",
              "    .colab-df-convert:hover {\n",
              "      background-color: #E2EBFA;\n",
              "      box-shadow: 0px 1px 2px rgba(60, 64, 67, 0.3), 0px 1px 3px 1px rgba(60, 64, 67, 0.15);\n",
              "      fill: #174EA6;\n",
              "    }\n",
              "\n",
              "    .colab-df-buttons div {\n",
              "      margin-bottom: 4px;\n",
              "    }\n",
              "\n",
              "    [theme=dark] .colab-df-convert {\n",
              "      background-color: #3B4455;\n",
              "      fill: #D2E3FC;\n",
              "    }\n",
              "\n",
              "    [theme=dark] .colab-df-convert:hover {\n",
              "      background-color: #434B5C;\n",
              "      box-shadow: 0px 1px 3px 1px rgba(0, 0, 0, 0.15);\n",
              "      filter: drop-shadow(0px 1px 2px rgba(0, 0, 0, 0.3));\n",
              "      fill: #FFFFFF;\n",
              "    }\n",
              "  </style>\n",
              "\n",
              "    <script>\n",
              "      const buttonEl =\n",
              "        document.querySelector('#df-092949e8-57be-4371-a6ba-99fcdf244502 button.colab-df-convert');\n",
              "      buttonEl.style.display =\n",
              "        google.colab.kernel.accessAllowed ? 'block' : 'none';\n",
              "\n",
              "      async function convertToInteractive(key) {\n",
              "        const element = document.querySelector('#df-092949e8-57be-4371-a6ba-99fcdf244502');\n",
              "        const dataTable =\n",
              "          await google.colab.kernel.invokeFunction('convertToInteractive',\n",
              "                                                    [key], {});\n",
              "        if (!dataTable) return;\n",
              "\n",
              "        const docLinkHtml = 'Like what you see? Visit the ' +\n",
              "          '<a target=\"_blank\" href=https://colab.research.google.com/notebooks/data_table.ipynb>data table notebook</a>'\n",
              "          + ' to learn more about interactive tables.';\n",
              "        element.innerHTML = '';\n",
              "        dataTable['output_type'] = 'display_data';\n",
              "        await google.colab.output.renderOutput(dataTable, element);\n",
              "        const docLink = document.createElement('div');\n",
              "        docLink.innerHTML = docLinkHtml;\n",
              "        element.appendChild(docLink);\n",
              "      }\n",
              "    </script>\n",
              "  </div>\n",
              "\n",
              "\n",
              "<div id=\"df-870928c9-2423-4ca3-993d-0235f31d7713\">\n",
              "  <button class=\"colab-df-quickchart\" onclick=\"quickchart('df-870928c9-2423-4ca3-993d-0235f31d7713')\"\n",
              "            title=\"Suggest charts\"\n",
              "            style=\"display:none;\">\n",
              "\n",
              "<svg xmlns=\"http://www.w3.org/2000/svg\" height=\"24px\"viewBox=\"0 0 24 24\"\n",
              "     width=\"24px\">\n",
              "    <g>\n",
              "        <path d=\"M19 3H5c-1.1 0-2 .9-2 2v14c0 1.1.9 2 2 2h14c1.1 0 2-.9 2-2V5c0-1.1-.9-2-2-2zM9 17H7v-7h2v7zm4 0h-2V7h2v10zm4 0h-2v-4h2v4z\"/>\n",
              "    </g>\n",
              "</svg>\n",
              "  </button>\n",
              "\n",
              "<style>\n",
              "  .colab-df-quickchart {\n",
              "      --bg-color: #E8F0FE;\n",
              "      --fill-color: #1967D2;\n",
              "      --hover-bg-color: #E2EBFA;\n",
              "      --hover-fill-color: #174EA6;\n",
              "      --disabled-fill-color: #AAA;\n",
              "      --disabled-bg-color: #DDD;\n",
              "  }\n",
              "\n",
              "  [theme=dark] .colab-df-quickchart {\n",
              "      --bg-color: #3B4455;\n",
              "      --fill-color: #D2E3FC;\n",
              "      --hover-bg-color: #434B5C;\n",
              "      --hover-fill-color: #FFFFFF;\n",
              "      --disabled-bg-color: #3B4455;\n",
              "      --disabled-fill-color: #666;\n",
              "  }\n",
              "\n",
              "  .colab-df-quickchart {\n",
              "    background-color: var(--bg-color);\n",
              "    border: none;\n",
              "    border-radius: 50%;\n",
              "    cursor: pointer;\n",
              "    display: none;\n",
              "    fill: var(--fill-color);\n",
              "    height: 32px;\n",
              "    padding: 0;\n",
              "    width: 32px;\n",
              "  }\n",
              "\n",
              "  .colab-df-quickchart:hover {\n",
              "    background-color: var(--hover-bg-color);\n",
              "    box-shadow: 0 1px 2px rgba(60, 64, 67, 0.3), 0 1px 3px 1px rgba(60, 64, 67, 0.15);\n",
              "    fill: var(--button-hover-fill-color);\n",
              "  }\n",
              "\n",
              "  .colab-df-quickchart-complete:disabled,\n",
              "  .colab-df-quickchart-complete:disabled:hover {\n",
              "    background-color: var(--disabled-bg-color);\n",
              "    fill: var(--disabled-fill-color);\n",
              "    box-shadow: none;\n",
              "  }\n",
              "\n",
              "  .colab-df-spinner {\n",
              "    border: 2px solid var(--fill-color);\n",
              "    border-color: transparent;\n",
              "    border-bottom-color: var(--fill-color);\n",
              "    animation:\n",
              "      spin 1s steps(1) infinite;\n",
              "  }\n",
              "\n",
              "  @keyframes spin {\n",
              "    0% {\n",
              "      border-color: transparent;\n",
              "      border-bottom-color: var(--fill-color);\n",
              "      border-left-color: var(--fill-color);\n",
              "    }\n",
              "    20% {\n",
              "      border-color: transparent;\n",
              "      border-left-color: var(--fill-color);\n",
              "      border-top-color: var(--fill-color);\n",
              "    }\n",
              "    30% {\n",
              "      border-color: transparent;\n",
              "      border-left-color: var(--fill-color);\n",
              "      border-top-color: var(--fill-color);\n",
              "      border-right-color: var(--fill-color);\n",
              "    }\n",
              "    40% {\n",
              "      border-color: transparent;\n",
              "      border-right-color: var(--fill-color);\n",
              "      border-top-color: var(--fill-color);\n",
              "    }\n",
              "    60% {\n",
              "      border-color: transparent;\n",
              "      border-right-color: var(--fill-color);\n",
              "    }\n",
              "    80% {\n",
              "      border-color: transparent;\n",
              "      border-right-color: var(--fill-color);\n",
              "      border-bottom-color: var(--fill-color);\n",
              "    }\n",
              "    90% {\n",
              "      border-color: transparent;\n",
              "      border-bottom-color: var(--fill-color);\n",
              "    }\n",
              "  }\n",
              "</style>\n",
              "\n",
              "  <script>\n",
              "    async function quickchart(key) {\n",
              "      const quickchartButtonEl =\n",
              "        document.querySelector('#' + key + ' button');\n",
              "      quickchartButtonEl.disabled = true;  // To prevent multiple clicks.\n",
              "      quickchartButtonEl.classList.add('colab-df-spinner');\n",
              "      try {\n",
              "        const charts = await google.colab.kernel.invokeFunction(\n",
              "            'suggestCharts', [key], {});\n",
              "      } catch (error) {\n",
              "        console.error('Error during call to suggestCharts:', error);\n",
              "      }\n",
              "      quickchartButtonEl.classList.remove('colab-df-spinner');\n",
              "      quickchartButtonEl.classList.add('colab-df-quickchart-complete');\n",
              "    }\n",
              "    (() => {\n",
              "      let quickchartButtonEl =\n",
              "        document.querySelector('#df-870928c9-2423-4ca3-993d-0235f31d7713 button');\n",
              "      quickchartButtonEl.style.display =\n",
              "        google.colab.kernel.accessAllowed ? 'block' : 'none';\n",
              "    })();\n",
              "  </script>\n",
              "</div>\n",
              "\n",
              "    </div>\n",
              "  </div>\n"
            ],
            "application/vnd.google.colaboratory.intrinsic+json": {
              "type": "dataframe",
              "variable_name": "is15_ppd",
              "summary": "{\n  \"name\": \"is15_ppd\",\n  \"rows\": 5001,\n  \"fields\": [\n    {\n      \"column\": \"Transaction_ID\",\n      \"properties\": {\n        \"dtype\": \"string\",\n        \"num_unique_values\": 5001,\n        \"samples\": [\n          \"69083bd6-ef61-4cac-8674-d2447b056d02\",\n          \"5950a488-68c2-4493-a2dc-b868222dd9f5\",\n          \"cbde1f64-e196-4343-84b2-50ad5b8db4fe\"\n        ],\n        \"semantic_type\": \"\",\n        \"description\": \"\"\n      }\n    },\n    {\n      \"column\": \"Date\",\n      \"properties\": {\n        \"dtype\": \"category\",\n        \"num_unique_values\": 1715,\n        \"samples\": [\n          \"13-11-2022\",\n          \"29-03-2023\",\n          \"03-02-2023\"\n        ],\n        \"semantic_type\": \"\",\n        \"description\": \"\"\n      }\n    },\n    {\n      \"column\": \"Customs_Code\",\n      \"properties\": {\n        \"dtype\": \"number\",\n        \"std\": 262292,\n        \"min\": 100147,\n        \"max\": 999964,\n        \"num_unique_values\": 4987,\n        \"samples\": [\n          806581,\n          986184,\n          456800\n        ],\n        \"semantic_type\": \"\",\n        \"description\": \"\"\n      }\n    },\n    {\n      \"column\": \"Invoice_Number\",\n      \"properties\": {\n        \"dtype\": \"number\",\n        \"std\": 28913783,\n        \"min\": 47954,\n        \"max\": 99997226,\n        \"num_unique_values\": 5001,\n        \"samples\": [\n          16958344,\n          58704165,\n          86685691\n        ],\n        \"semantic_type\": \"\",\n        \"description\": \"\"\n      }\n    },\n    {\n      \"column\": \"Country\",\n      \"properties\": {\n        \"dtype\": \"number\",\n        \"std\": 70.13241045366107,\n        \"min\": 0.0,\n        \"max\": 242.0,\n        \"num_unique_values\": 243,\n        \"samples\": [\n          154.0,\n          182.0,\n          212.0\n        ],\n        \"semantic_type\": \"\",\n        \"description\": \"\"\n      }\n    },\n    {\n      \"column\": \"Product\",\n      \"properties\": {\n        \"dtype\": \"number\",\n        \"std\": 278.789508730232,\n        \"min\": 0.0,\n        \"max\": 962.0,\n        \"num_unique_values\": 963,\n        \"samples\": [\n          326.0,\n          458.0,\n          119.0\n        ],\n        \"semantic_type\": \"\",\n        \"description\": \"\"\n      }\n    },\n    {\n      \"column\": \"Import_Export\",\n      \"properties\": {\n        \"dtype\": \"number\",\n        \"std\": 0.5000477481700112,\n        \"min\": 0.0,\n        \"max\": 1.0,\n        \"num_unique_values\": 2,\n        \"samples\": [\n          1.0,\n          0.0\n        ],\n        \"semantic_type\": \"\",\n        \"description\": \"\"\n      }\n    },\n    {\n      \"column\": \"Category\",\n      \"properties\": {\n        \"dtype\": \"number\",\n        \"std\": 1.4134288110121593,\n        \"min\": 0.0,\n        \"max\": 4.0,\n        \"num_unique_values\": 5,\n        \"samples\": [\n          3.0,\n          2.0\n        ],\n        \"semantic_type\": \"\",\n        \"description\": \"\"\n      }\n    },\n    {\n      \"column\": \"Port\",\n      \"properties\": {\n        \"dtype\": \"number\",\n        \"std\": 1229.1033257635743,\n        \"min\": 0.0,\n        \"max\": 4283.0,\n        \"num_unique_values\": 4284,\n        \"samples\": [\n          2058.0,\n          2097.0\n        ],\n        \"semantic_type\": \"\",\n        \"description\": \"\"\n      }\n    },\n    {\n      \"column\": \"Shipping_Method\",\n      \"properties\": {\n        \"dtype\": \"number\",\n        \"std\": 0.8197420110053717,\n        \"min\": 0.0,\n        \"max\": 2.0,\n        \"num_unique_values\": 3,\n        \"samples\": [\n          0.0,\n          1.0\n        ],\n        \"semantic_type\": \"\",\n        \"description\": \"\"\n      }\n    },\n    {\n      \"column\": \"Supplier\",\n      \"properties\": {\n        \"dtype\": \"number\",\n        \"std\": 1329.0920943185852,\n        \"min\": 0.0,\n        \"max\": 4587.0,\n        \"num_unique_values\": 4588,\n        \"samples\": [\n          3632.0,\n          1974.0\n        ],\n        \"semantic_type\": \"\",\n        \"description\": \"\"\n      }\n    },\n    {\n      \"column\": \"Customer\",\n      \"properties\": {\n        \"dtype\": \"number\",\n        \"std\": 1389.3823859435986,\n        \"min\": 0.0,\n        \"max\": 4829.0,\n        \"num_unique_values\": 4830,\n        \"samples\": [\n          4350.0,\n          3227.0\n        ],\n        \"semantic_type\": \"\",\n        \"description\": \"\"\n      }\n    },\n    {\n      \"column\": \"Payment_Terms\",\n      \"properties\": {\n        \"dtype\": \"number\",\n        \"std\": 1.1109581605052146,\n        \"min\": 0.0,\n        \"max\": 3.0,\n        \"num_unique_values\": 4,\n        \"samples\": [\n          2.0,\n          1.0\n        ],\n        \"semantic_type\": \"\",\n        \"description\": \"\"\n      }\n    },\n    {\n      \"column\": \"Quantity\",\n      \"properties\": {\n        \"dtype\": \"number\",\n        \"std\": 0.2883994744730382,\n        \"min\": 0.0,\n        \"max\": 1.0000000000000002,\n        \"num_unique_values\": 3934,\n        \"samples\": [\n          0.495949594959496,\n          0.0706070607060706\n        ],\n        \"semantic_type\": \"\",\n        \"description\": \"\"\n      }\n    },\n    {\n      \"column\": \"Value\",\n      \"properties\": {\n        \"dtype\": \"number\",\n        \"std\": 0.2896997909508867,\n        \"min\": 0.0,\n        \"max\": 1.0,\n        \"num_unique_values\": 4984,\n        \"samples\": [\n          0.4430800762833399,\n          0.4696781809233033\n        ],\n        \"semantic_type\": \"\",\n        \"description\": \"\"\n      }\n    },\n    {\n      \"column\": \"Weight\",\n      \"properties\": {\n        \"dtype\": \"number\",\n        \"std\": 0.29034535521056215,\n        \"min\": 0.0,\n        \"max\": 1.0,\n        \"num_unique_values\": 4973,\n        \"samples\": [\n          0.22566205221177663,\n          0.47146281821929265\n        ],\n        \"semantic_type\": \"\",\n        \"description\": \"\"\n      }\n    }\n  ]\n}"
            }
          },
          "metadata": {},
          "execution_count": 61
        }
      ]
    },
    {
      "cell_type": "markdown",
      "source": [
        "###Descriptive Stats"
      ],
      "metadata": {
        "id": "LUK5MyTgLf4c"
      }
    },
    {
      "cell_type": "code",
      "source": [
        "is15_ppd_cat = is15_ppd[['Country', 'Product', 'Port' ,'Import_Export', 'Category', 'Customs_Code', 'Shipping_Method', 'Supplier', 'Customer','Payment_Terms']]\n",
        "is15_ppd_cat_nom = is15_ppd[['Country', 'Product', 'Port','Import_Export', 'Category', 'Customs_Code', 'Shipping_Method', 'Supplier', 'Customer']]\n",
        "is15_ppd_cat_ord = is15_ppd[['Payment_Terms']]\n",
        "is15_ppd_ncat = is15_ppd[['Quantity', 'Value', 'Weight']]\n",
        "is15_ppd_date = is15_ppd[['Date']]\n",
        "is15_ppd_index = is15_ppd[['Transaction_ID', 'Invoice_Number']]"
      ],
      "metadata": {
        "id": "cE__ZxPBNcGm"
      },
      "execution_count": 62,
      "outputs": []
    },
    {
      "cell_type": "markdown",
      "source": [
        "####Categorical Variable\n"
      ],
      "metadata": {
        "id": "iP5UGnSZNvkU"
      }
    },
    {
      "cell_type": "code",
      "source": [
        "def is15_cat_stats(df, cat_cols):\n",
        "    summary = {}\n",
        "    for col in cat_cols:\n",
        "        if col in df.columns:\n",
        "            summary[col] = {\n",
        "                'Count': df[col].count(),\n",
        "                'Minimum': df[col].min(),\n",
        "                'Maximum': df[col].max(),\n",
        "                'Mode': df[col].mode().iloc[0],\n",
        "            }\n",
        "    return summary\n",
        "\n",
        "is15_cat_summaries = is15_cat_stats(is15_ppd_cat, is15_ppd.columns)\n",
        "\n",
        "for col, stats in is15_cat_summaries.items():\n",
        "    print(f\"Summary for {col}:\")\n",
        "    for stat_name, stat_value in stats.items():\n",
        "        print(f\"  {stat_name}: {stat_value}\")\n",
        "    print(\"-\" * 20)  # separator"
      ],
      "metadata": {
        "colab": {
          "base_uri": "https://localhost:8080/"
        },
        "id": "CVwNwWYArLsL",
        "outputId": "3ef3208b-e43c-4ff3-fc70-c25d3051eab3"
      },
      "execution_count": 63,
      "outputs": [
        {
          "output_type": "stream",
          "name": "stdout",
          "text": [
            "Summary for Customs_Code:\n",
            "  Count: 5001\n",
            "  Minimum: 100147\n",
            "  Maximum: 999964\n",
            "  Mode: 134834\n",
            "--------------------\n",
            "Summary for Country:\n",
            "  Count: 5001\n",
            "  Minimum: 0.0\n",
            "  Maximum: 242.0\n",
            "  Mode: 49.0\n",
            "--------------------\n",
            "Summary for Product:\n",
            "  Count: 5001\n",
            "  Minimum: 0.0\n",
            "  Maximum: 962.0\n",
            "  Mode: 612.0\n",
            "--------------------\n",
            "Summary for Import_Export:\n",
            "  Count: 5001\n",
            "  Minimum: 0.0\n",
            "  Maximum: 1.0\n",
            "  Mode: 1.0\n",
            "--------------------\n",
            "Summary for Category:\n",
            "  Count: 5001\n",
            "  Minimum: 0.0\n",
            "  Maximum: 4.0\n",
            "  Mode: 3.0\n",
            "--------------------\n",
            "Summary for Port:\n",
            "  Count: 5001\n",
            "  Minimum: 0.0\n",
            "  Maximum: 4283.0\n",
            "  Mode: 4106.0\n",
            "--------------------\n",
            "Summary for Shipping_Method:\n",
            "  Count: 5001\n",
            "  Minimum: 0.0\n",
            "  Maximum: 2.0\n",
            "  Mode: 0.0\n",
            "--------------------\n",
            "Summary for Supplier:\n",
            "  Count: 5001\n",
            "  Minimum: 0.0\n",
            "  Maximum: 4587.0\n",
            "  Mode: 3760.0\n",
            "--------------------\n",
            "Summary for Customer:\n",
            "  Count: 5001\n",
            "  Minimum: 0.0\n",
            "  Maximum: 4829.0\n",
            "  Mode: 3274.0\n",
            "--------------------\n",
            "Summary for Payment_Terms:\n",
            "  Count: 5001\n",
            "  Minimum: 0.0\n",
            "  Maximum: 3.0\n",
            "  Mode: 2.0\n",
            "--------------------\n"
          ]
        }
      ]
    },
    {
      "cell_type": "code",
      "source": [
        "def plot_categorical_data(df, top_n=10):\n",
        "    categorical_cols = is15_ppd_cat.columns  # Get all categorical columns\n",
        "\n",
        "    for col in categorical_cols:\n",
        "        # Count the occurrences of each category\n",
        "        counts = df[col].value_counts()\n",
        "\n",
        "        # Check the number of unique values to decide visualization type\n",
        "        num_unique = len(counts)\n",
        "\n",
        "        plt.figure(figsize=(10, 6))\n",
        "\n",
        "        if num_unique <= 10:\n",
        "            # Pie chart for categories with <= 10 unique values\n",
        "            plt.pie(counts, labels=counts.index, autopct='%1.1f%%', startangle=90)\n",
        "            plt.title(f'Pie Chart of {col}')\n",
        "            plt.axis('equal')  # Equal aspect ratio ensures the pie chart is a circle\n",
        "        elif num_unique <= 20:\n",
        "            # Horizontal bar chart for categories with > 10 and <= 20 unique values\n",
        "            sns.barplot(x=counts.values, y=counts.index, orient='h')\n",
        "            plt.title(f'Bar Chart of {col}')\n",
        "            plt.xlabel('Frequency')\n",
        "            plt.ylabel(col)\n",
        "        else:\n",
        "            # Top N categories for larger datasets (>20 unique values)\n",
        "            top_counts = counts.head(top_n)\n",
        "            sns.barplot(x=top_counts.values, y=top_counts.index, orient='h')\n",
        "            plt.title(f'Top {top_n} Bar Chart of {col}')\n",
        "            plt.xlabel('Frequency')\n",
        "            plt.ylabel(col)\n",
        "\n",
        "        plt.show()\n",
        "\n",
        "# Example usage with your dataset 'is15_ppd_cat'\n",
        "plot_categorical_data(is15_ppd_cat)\n"
      ],
      "metadata": {
        "colab": {
          "base_uri": "https://localhost:8080/",
          "height": 1000
        },
        "id": "6-1roEpJVOWv",
        "outputId": "8c800c63-f427-4beb-e29a-79d1e286cb9e"
      },
      "execution_count": 64,
      "outputs": [
        {
          "output_type": "display_data",
          "data": {
            "text/plain": [
              "<Figure size 1000x600 with 1 Axes>"
            ],
            "image/png": "[encoded data removed]"
          },
          "metadata": {}
        },
        {
          "output_type": "display_data",
          "data": {
            "text/plain": [
              "<Figure size 1000x600 with 1 Axes>"
            ],
            "image/png": "[encoded data removed]"
          },
          "metadata": {}
        },
        {
          "output_type": "display_data",
          "data": {
            "text/plain": [
              "<Figure size 1000x600 with 1 Axes>"
            ],
            "image/png": "[encoded data removed]"
          },
          "metadata": {}
        },
        {
          "output_type": "display_data",
          "data": {
            "text/plain": [
              "<Figure size 1000x600 with 1 Axes>"
            ],
            "image/png": "[encoded data removed]"
          },
          "metadata": {}
        },
        {
          "output_type": "display_data",
          "data": {
            "text/plain": [
              "<Figure size 1000x600 with 1 Axes>"
            ],
            "image/png": "[encoded data removed]"
          },
          "metadata": {}
        },
        {
          "output_type": "display_data",
          "data": {
            "text/plain": [
              "<Figure size 1000x600 with 1 Axes>"
            ],
            "image/png": "[encoded data removed]"
          },
          "metadata": {}
        },
        {
          "output_type": "display_data",
          "data": {
            "text/plain": [
              "<Figure size 1000x600 with 1 Axes>"
            ],
            "image/png": "[encoded data removed]"
          },
          "metadata": {}
        },
        {
          "output_type": "display_data",
          "data": {
            "text/plain": [
              "<Figure size 1000x600 with 1 Axes>"
            ],
            "image/png": "[encoded data removed]"
          },
          "metadata": {}
        },
        {
          "output_type": "display_data",
          "data": {
            "text/plain": [
              "<Figure size 1000x600 with 1 Axes>"
            ],
            "image/png": "[encoded data removed]"
          },
          "metadata": {}
        },
        {
          "output_type": "display_data",
          "data": {
            "text/plain": [
              "<Figure size 1000x600 with 1 Axes>"
            ],
            "image/png": "[encoded data removed]"
          },
          "metadata": {}
        }
      ]
    },
    {
      "cell_type": "markdown",
      "source": [
        "####Non-Categorical Variable"
      ],
      "metadata": {
        "id": "pNFTyK8jN5XH"
      }
    },
    {
      "cell_type": "code",
      "source": [
        "is15_ppd_ncat_desc = dstats.Description(is15_ppd_ncat).frame\n",
        "pd.set_option('display.float_format', lambda x: '%.2f' % x)\n",
        "\n",
        "print(is15_ppd_ncat_desc)"
      ],
      "metadata": {
        "colab": {
          "base_uri": "https://localhost:8080/"
        },
        "id": "fxrSBGJON4cW",
        "outputId": "e15c5a47-588a-4fbe-c64f-fced6ca0323e"
      },
      "execution_count": 65,
      "outputs": [
        {
          "output_type": "stream",
          "name": "stdout",
          "text": [
            "                  Quantity   Value  Weight\n",
            "nobs               5001.00 5001.00 5001.00\n",
            "missing               0.00    0.00    0.00\n",
            "mean                  0.50    0.49    0.50\n",
            "std_err               0.00    0.00    0.00\n",
            "upper_ci              0.50    0.50    0.51\n",
            "lower_ci              0.49    0.48    0.49\n",
            "std                   0.29    0.29    0.29\n",
            "iqr                   0.50    0.50    0.50\n",
            "iqr_normal            0.37    0.37    0.37\n",
            "mad                   0.25    0.25    0.25\n",
            "mad_normal            0.31    0.31    0.32\n",
            "coef_var              0.58    0.59    0.58\n",
            "range                 1.00    1.00    1.00\n",
            "max                   1.00    1.00    1.00\n",
            "min                   0.00    0.00    0.00\n",
            "skew                  0.03    0.04    0.02\n",
            "kurtosis              1.81    1.80    1.79\n",
            "jarque_bera         298.35  301.10  304.55\n",
            "jarque_bera_pval      0.00    0.00    0.00\n",
            "mode                  0.02    0.02    0.01\n",
            "mode_freq             0.00    0.00    0.00\n",
            "median                0.49    0.49    0.50\n",
            "1%                    0.01    0.01    0.01\n",
            "5%                    0.05    0.04    0.05\n",
            "10%                   0.10    0.09    0.10\n",
            "25%                   0.25    0.24    0.25\n",
            "50%                   0.49    0.49    0.50\n",
            "75%                   0.74    0.74    0.75\n",
            "90%                   0.90    0.90    0.91\n",
            "95%                   0.95    0.95    0.95\n",
            "99%                   0.99    0.99    0.99\n"
          ]
        }
      ]
    },
    {
      "cell_type": "markdown",
      "source": [
        "**Central Tendency:** The mean values for Quantity, Value, and Weight are all centered around 0.5, indicating a balanced distribution after Min-Max scaling.\n",
        "\n",
        "**Similar Variability:** The standard deviation for all three variables is around 0.29, signifying moderate data dispersion.\n",
        "\n",
        "**Scaled Data:** The minimum and maximum values of 0 and 1 respectively confirm the data has been normalized using Min-Max scaling.\n",
        "\n",
        "**Range:**\n",
        "All three variables (Quantity, Value, Weight) exhibit a range of 1.0. This confirms that Min-Max scaling has effectively normalized the data to cover the entire range from 0 to 1, maximizing variability utilization.\n",
        "\n",
        "**Skewness:**\n",
        "Skewness values for Quantity, Value, and Weight are close to zero. This indicates near-symmetric distributions, suggesting a balanced frequency of observations on both sides of the average, with a potential slight positive skew.\n",
        "\n",
        "**Kurtosis:**\n",
        "Kurtosis values for all three variables are around 1.8. This implies leptokurtic distributions, meaning the data has frequent extreme values or outliers compared to a normal distribution, resulting in a steeper peak.\n",
        "\n",
        "**Coefficient of Variance:**\n",
        "\n",
        "- CV of all three variables is around 58.00%.\n",
        "- This indicates moderate variability or dispersion in the quantity of products traded relative to the mean quantity,value and weight.\n",
        "\n",
        "\n"
      ],
      "metadata": {
        "id": "8qkMr1EgtA4_"
      }
    },
    {
      "cell_type": "code",
      "source": [
        "correlation_data = is15_ppd_ncat.copy()\n",
        "correlation_matrix = correlation_data.corr()\n",
        "print(\"Correlation Matrix:\")\n",
        "correlation_matrix\n",
        "\n",
        "plt.figure(figsize=(8, 5))\n",
        "sns.heatmap(correlation_matrix, annot=True, cmap='coolwarm', linewidths=0.5)\n",
        "plt.title('Correlation Matrix Heatmap')\n",
        "plt.show()"
      ],
      "metadata": {
        "colab": {
          "base_uri": "https://localhost:8080/",
          "height": 486
        },
        "id": "MIWztU5tuZkt",
        "outputId": "c6ccc2da-26ac-466d-d466-47f455b2b8c5"
      },
      "execution_count": 66,
      "outputs": [
        {
          "output_type": "stream",
          "name": "stdout",
          "text": [
            "Correlation Matrix:\n"
          ]
        },
        {
          "output_type": "display_data",
          "data": {
            "text/plain": [
              "<Figure size 800x500 with 2 Axes>"
            ],
            "image/png": "[encoded data removed]"
          },
          "metadata": {}
        }
      ]
    },
    {
      "cell_type": "markdown",
      "source": [
        "**Quantity and Value:**\n",
        "The correlation coefficient is -0.005, indicating an almost negligible negative relationship.\n",
        "\n",
        "**Quantity and Weight:**\n",
        "The correlation coefficient is 0.055, showing  weak positive relationship.\n",
        "\n",
        "**Value and Weight:**\n",
        "The correlation coefficient is 0.0014, signifying an almost non-existent positive relationship."
      ],
      "metadata": {
        "id": "MuhC22Dau9w8"
      }
    },
    {
      "cell_type": "code",
      "source": [
        "def plot_numerical_data(df):\n",
        "    numerical_cols = df.select_dtypes(include=['float64', 'int64']).columns  # Get all numerical columns\n",
        "\n",
        "    # Histogram for each numerical variable\n",
        "    for col in numerical_cols:\n",
        "        plt.figure(figsize=(6, 4))\n",
        "        sns.histplot(df[col], kde=True, bins=30)  # KDE (Kernel Density Estimation) for a smooth curve\n",
        "        plt.title(f'Histogram of {col}')\n",
        "        plt.xlabel(col)\n",
        "        plt.ylabel('Frequency')\n",
        "        plt.show()\n",
        "\n",
        "# Example usage with your dataset 'is15_ppd_ncat'\n",
        "plot_numerical_data(is15_ppd_ncat)"
      ],
      "metadata": {
        "colab": {
          "base_uri": "https://localhost:8080/",
          "height": 1000
        },
        "id": "UYZxpJmFvZxC",
        "outputId": "bbf69a90-3585-4082-9d21-473a197bc4df"
      },
      "execution_count": 67,
      "outputs": [
        {
          "output_type": "display_data",
          "data": {
            "text/plain": [
              "<Figure size 600x400 with 1 Axes>"
            ],
            "image/png": "[encoded data removed]"
          },
          "metadata": {}
        },
        {
          "output_type": "display_data",
          "data": {
            "text/plain": [
              "<Figure size 600x400 with 1 Axes>"
            ],
            "image/png": "[encoded data removed]"
          },
          "metadata": {}
        },
        {
          "output_type": "display_data",
          "data": {
            "text/plain": [
              "<Figure size 600x400 with 1 Axes>"
            ],
            "image/png": "[encoded data removed]"
          },
          "metadata": {}
        }
      ]
    },
    {
      "cell_type": "code",
      "source": [
        "def plot_numerical_data(df):\n",
        "    numerical_cols = df.select_dtypes(include=['float64', 'int64']).columns  # Get all numerical column\n",
        "    # Boxplot for each numerical variable\n",
        "    for col in numerical_cols:\n",
        "        plt.figure(figsize=(6, 4))\n",
        "        sns.boxplot(x=df[col])\n",
        "        plt.title(f'Boxplot of {col}')\n",
        "        plt.xlabel(col)\n",
        "        plt.show()\n",
        "plot_numerical_data(is15_ppd_ncat)"
      ],
      "metadata": {
        "id": "zf98CwMXR3xX",
        "colab": {
          "base_uri": "https://localhost:8080/",
          "height": 1000
        },
        "outputId": "bc2ee298-0042-43c3-fe83-e5d59250e2fb"
      },
      "execution_count": 68,
      "outputs": [
        {
          "output_type": "display_data",
          "data": {
            "text/plain": [
              "<Figure size 600x400 with 1 Axes>"
            ],
            "image/png": "[encoded data removed]"
          },
          "metadata": {}
        },
        {
          "output_type": "display_data",
          "data": {
            "text/plain": [
              "<Figure size 600x400 with 1 Axes>"
            ],
            "image/png": "[encoded data removed]"
          },
          "metadata": {}
        },
        {
          "output_type": "display_data",
          "data": {
            "text/plain": [
              "<Figure size 600x400 with 1 Axes>"
            ],
            "image/png": "[encoded data removed]"
          },
          "metadata": {}
        }
      ]
    },
    {
      "cell_type": "code",
      "source": [
        "# Violin Plot\n",
        "\n",
        "sns.violinplot(x='Category', y='Quantity', data=is15_ppd)\n",
        "plt.title('Distribution of Quantity across Categories')\n",
        "plt.show()"
      ],
      "metadata": {
        "colab": {
          "base_uri": "https://localhost:8080/",
          "height": 472
        },
        "id": "gcdO4CHVvz2h",
        "outputId": "598138dc-4325-45a0-84b3-21ceb53a328c"
      },
      "execution_count": 69,
      "outputs": [
        {
          "output_type": "display_data",
          "data": {
            "text/plain": [
              "<Figure size 640x480 with 1 Axes>"
            ],
            "image/png": "[encoded data removed]"
          },
          "metadata": {}
        }
      ]
    },
    {
      "cell_type": "markdown",
      "source": [
        "##Inferential Statistics"
      ],
      "metadata": {
        "id": "RHTsu3MRwBCF"
      }
    },
    {
      "cell_type": "code",
      "source": [
        "# Test of Homogeneity {Chi-sq} on categorical data\n",
        "\n",
        "is15_contingency_table = pd.crosstab(is15_ppd['Import_Export'], is15_ppd['Category'])\n",
        "\n",
        "# Perform the Chi-square test\n",
        "chi2, p, dof, expected = chi2_contingency(is15_contingency_table)\n",
        "\n",
        "print(f\"Chi-square statistic: {chi2}\")\n",
        "print(f\"P-value: {p}\")\n",
        "print(f\"Degrees of freedom: {dof}\")\n",
        "print(\"Expected frequencies:\")\n",
        "print(expected)\n",
        "\n",
        "# Interpret the results\n",
        "is15_alpha = 0.05  # Significance level\n",
        "\n",
        "if p < is15_alpha:\n",
        "    print(\"Reject the null hypothesis: There is a significant association between the two categorical variables.\")\n",
        "else:\n",
        "    print(\"There is no significant association between the two categorical variables.\")"
      ],
      "metadata": {
        "colab": {
          "base_uri": "https://localhost:8080/"
        },
        "id": "IayZUeuZwcL1",
        "outputId": "f949c094-ab31-417a-e9af-1aac8465e14f"
      },
      "execution_count": 73,
      "outputs": [
        {
          "output_type": "stream",
          "name": "stdout",
          "text": [
            "Chi-square statistic: 3.0442751761206646\n",
            "P-value: 0.5504435909272059\n",
            "Degrees of freedom: 4\n",
            "Expected frequencies:\n",
            "[[509.96580684 496.50629874 489.02879424 515.44931014 482.04979004]\n",
            " [513.03419316 499.49370126 491.97120576 518.55068986 484.95020996]]\n",
            "There is no significant association between the two categorical variables.\n"
          ]
        }
      ]
    },
    {
      "cell_type": "code",
      "source": [
        "# Test of Normality {Shapiro-Wilk | Kolmogorov-Smirnov | Anderson-Darling | Jarque-Bera\n",
        "\n",
        "def normality_tests(data):\n",
        "\n",
        "    is15_results = {}\n",
        "\n",
        "    # Shapiro-Wilk test\n",
        "    shapiro_statistic, shapiro_pvalue = shapiro(data)\n",
        "    is15_results[\"Shapiro-Wilk\"] = {\"statistic\": shapiro_statistic, \"p-value\": shapiro_pvalue}\n",
        "\n",
        "    # Kolmogorov-Smirnov test (against a normal distribution)\n",
        "    ks_statistic, ks_pvalue = kstest(data, 'norm')\n",
        "    is15_results[\"Kolmogorov-Smirnov\"] = {\"statistic\": ks_statistic, \"p-value\": ks_pvalue}\n",
        "\n",
        "    # Anderson-Darling test\n",
        "    anderson_result = anderson(data)\n",
        "    is15_results[\"Anderson-Darling\"] = {\n",
        "        \"statistic\": anderson_result.statistic,\n",
        "        \"critical_values\": anderson_result.critical_values,\n",
        "        \"significance_level\": anderson_result.significance_level\n",
        "    }\n",
        "\n",
        "    # Jarque-Bera test\n",
        "    jb_statistic, jb_pvalue = jarque_bera(data)\n",
        "    is15_results[\"Jarque-Bera\"] = {\"statistic\": jb_statistic, \"p-value\": jb_pvalue}\n",
        "\n",
        "    return is15_results"
      ],
      "metadata": {
        "id": "pIWrwiiTxACv"
      },
      "execution_count": 74,
      "outputs": []
    },
    {
      "cell_type": "code",
      "source": [
        "from scipy import stats\n",
        "\n",
        "# Test of Correlation (T-test)\n",
        "def t_test_correlation(data1, data2):\n",
        "    t_statistic, p_value = stats.ttest_ind(data1, data2)\n",
        "    return {\"t-statistic\": t_statistic, \"p-value\": p_value}\n",
        "\n",
        "for col in is15_ppd_ncat:\n",
        "    print(f\"Normality tests for {col}:\")\n",
        "    normality_test_results = normality_tests(is15_ppd[col])\n",
        "    for test_name, result in normality_test_results.items():\n",
        "        print(f\"  {test_name}: {result}\")\n",
        "\n",
        "    # Example of T-test\n",
        "    if len(is15_ppd_ncat.columns) > 1: # Changed len(is15_ppd_ncat) to len(is15_ppd_ncat.columns)\n",
        "        for i in range(len(is15_ppd_ncat.columns)): # Changed len(is15_ppd_ncat) to len(is15_ppd_ncat.columns)\n",
        "            for j in range(i+1, len(is15_ppd_ncat.columns)): # Changed len(is15_ppd_ncat) to len(is15_ppd_ncat.columns)\n",
        "                col1, col2 = is15_ppd_ncat.columns[i], is15_ppd_ncat.columns[j] # Changed is15_ppd_ncat[i] to is15_ppd_ncat.columns[i] and is15_ppd_ncat[j] to is15_ppd_ncat.columns[j]\n",
        "                t_test_result = t_test_correlation(is15_ppd[col1], is15_ppd[col2]) # Changed is15_sample to is15_ppd\n",
        "                print(f\"T-test Correlation between {col1} and {col2}: {t_test_result}\")\n",
        "    print()\n",
        "    print('*'*20)\n",
        "    print()"
      ],
      "metadata": {
        "colab": {
          "base_uri": "https://localhost:8080/"
        },
        "id": "R7u7aPlKxA-s",
        "outputId": "df750925-450a-4a0e-f03b-184f4234f94b"
      },
      "execution_count": 80,
      "outputs": [
        {
          "output_type": "stream",
          "name": "stdout",
          "text": [
            "Normality tests for Quantity:\n",
            "  Shapiro-Wilk: {'statistic': 0.9551884276421994, 'p-value': 1.1520749332074495e-36}\n",
            "  Kolmogorov-Smirnov: {'statistic': 0.5000793274942221, 'p-value': 0.0}\n",
            "  Anderson-Darling: {'statistic': 55.16695751824773, 'critical_values': array([0.576, 0.655, 0.786, 0.917, 1.091]), 'significance_level': array([15. , 10. ,  5. ,  2.5,  1. ])}\n",
            "  Jarque-Bera: {'statistic': 298.34780104151076, 'p-value': 1.6390724848959559e-65}\n",
            "T-test Correlation between Quantity and Value: {'t-statistic': 1.1667009769019883, 'p-value': 0.24335896966063778}\n",
            "T-test Correlation between Quantity and Weight: {'t-statistic': -0.45220732256516927, 'p-value': 0.6511294421414595}\n",
            "T-test Correlation between Value and Weight: {'t-statistic': -1.6139851172693254, 'p-value': 0.10656220569842631}\n",
            "\n",
            "********************\n",
            "\n",
            "Normality tests for Value:\n",
            "  Shapiro-Wilk: {'statistic': 0.954210146119541, 'p-value': 5.6097835609586395e-37}\n",
            "  Kolmogorov-Smirnov: {'statistic': 0.5, 'p-value': 0.0}\n",
            "  Anderson-Darling: {'statistic': 56.26138486061245, 'critical_values': array([0.576, 0.655, 0.786, 0.917, 1.091]), 'significance_level': array([15. , 10. ,  5. ,  2.5,  1. ])}\n",
            "  Jarque-Bera: {'statistic': 301.1003333302921, 'p-value': 4.1389803799215327e-66}\n",
            "T-test Correlation between Quantity and Value: {'t-statistic': 1.1667009769019883, 'p-value': 0.24335896966063778}\n",
            "T-test Correlation between Quantity and Weight: {'t-statistic': -0.45220732256516927, 'p-value': 0.6511294421414595}\n",
            "T-test Correlation between Value and Weight: {'t-statistic': -1.6139851172693254, 'p-value': 0.10656220569842631}\n",
            "\n",
            "********************\n",
            "\n",
            "Normality tests for Weight:\n",
            "  Shapiro-Wilk: {'statistic': 0.95347432816975, 'p-value': 3.2911806826905718e-37}\n",
            "  Kolmogorov-Smirnov: {'statistic': 0.5, 'p-value': 0.0}\n",
            "  Anderson-Darling: {'statistic': 57.461065583014715, 'critical_values': array([0.576, 0.655, 0.786, 0.917, 1.091]), 'significance_level': array([15. , 10. ,  5. ,  2.5,  1. ])}\n",
            "  Jarque-Bera: {'statistic': 304.5451740750638, 'p-value': 7.393595799957997e-67}\n",
            "T-test Correlation between Quantity and Value: {'t-statistic': 1.1667009769019883, 'p-value': 0.24335896966063778}\n",
            "T-test Correlation between Quantity and Weight: {'t-statistic': -0.45220732256516927, 'p-value': 0.6511294421414595}\n",
            "T-test Correlation between Value and Weight: {'t-statistic': -1.6139851172693254, 'p-value': 0.10656220569842631}\n",
            "\n",
            "********************\n",
            "\n"
          ]
        },
        {
          "output_type": "stream",
          "name": "stderr",
          "text": [
            "/usr/local/lib/python3.10/dist-packages/scipy/stats/_axis_nan_policy.py:531: UserWarning: scipy.stats.shapiro: For N > 5000, computed p-value may not be accurate. Current N is 5001.\n",
            "  res = hypotest_fun_out(*samples, **kwds)\n"
          ]
        }
      ]
    },
    {
      "cell_type": "markdown",
      "source": [
        "####**> Observations for Normality Tests for Quantity**\n",
        "\n",
        "**Shapiro-Wilk:** The p-value is extremely low, strongly rejecting normality for Quantity.\n",
        "\n",
        "**Kolmogorov-Smirnov:** The p-value of 0.0 provides strong evidence against normality for Quantity.\n",
        "\n",
        "**Anderson-Darling:** The high test statistic further confirms the non-normality of Quantity.\n",
        "\n",
        "**Jarque-Bera:** The extremely low p-value reinforces the rejection of normality for Quantity.\n",
        "\n",
        "**T-test (Quantity vs. Value):** No significant correlation is found between Quantity and Value.\n",
        "\n",
        "**T-test (Quantity vs. Weight):** No significant correlation is found between Quantity and Weight.\n",
        "\n",
        "####**>Observations for Normality Tests for Value**\n",
        "** Shapiro-Wilk**: The p-value is extremely low (5.61e-37), strongly rejecting normality for Value.\n",
        "\n",
        "**Kolmogorov-Smirnov**: The p-value of 0.0 provides strong evidence against normality for Value.\n",
        "\n",
        "**Anderson-Darling**: The high test statistic (56.26) further confirms the non-normality of Value.\n",
        "\n",
        "**Jarque-Bera**: The extremely low p-value (4.14e-66) reinforces the rejection of normality for Value.\n",
        "\n",
        "**T-test (Quantity vs. Value)**: No significant correlation is found between Quantity and Value (p-value = 0.243).\n",
        "\n",
        "**T-test (Value vs. Weight)**: No significant correlation is found between Value and Weight (p-value = 0.107).\n",
        "\n",
        "####**>Observations for Normality Tests for Weight**\n",
        " **Shapiro-Wilk**: The p-value is extremely low (3.29e-37), strongly rejecting normality for Weight.\n",
        "\n",
        "**Kolmogorov-Smirnov**: The p-value of 0.0 provides strong evidence against normality for Weight.\n",
        "\n",
        "**Anderson-Darling**: The high test statistic (57.46) further confirms the non-normality of Weight.\n",
        "\n",
        "**Jarque-Bera**: The extremely low p-value (7.39e-67) reinforces the rejection of normality for Weight.\n",
        "\n",
        "**T-test (Quantity vs. Weight)**: No significant correlation is found between Quantity and Weight (p-value = 0.651).\n",
        "\n",
        "**T-test (Value vs. Weight)**: No significant correlation is found between Value and Weight (p-value = 0.107)."
      ],
      "metadata": {
        "id": "6ISfgEbhyVnM"
      }
    },
    {
      "cell_type": "markdown",
      "source": [
        "#Supervised Learning"
      ],
      "metadata": {
        "id": "dCKnuIlLz4ix"
      }
    },
    {
      "cell_type": "code",
      "source": [
        "is15_X = is15_ppd[['Quantity','Weight']]  # Features (excluding 'Cluster')\n",
        "is15_y = is15_ppd[['Shipping_Method']]  # Target variable\n",
        "\n",
        "is15_X_train, is15_X_test, is15_y_train, is15_y_test = train_test_split(is15_X, is15_y, test_size=0.3, random_state=55015)\n",
        "\n",
        "# Print the shapes of the resulting datasets\n",
        "print(\"X_train shape:\", is15_X_train.shape)\n",
        "print(\"X_test shape:\", is15_X_test.shape)\n",
        "print(\"y_train shape:\", is15_y_train.shape)\n",
        "print(\"y_test shape:\", is15_y_test.shape)"
      ],
      "metadata": {
        "colab": {
          "base_uri": "https://localhost:8080/"
        },
        "id": "AxF7yXC3z3ii",
        "outputId": "fea43f6a-2621-4bf5-f05d-d65c492d1af5"
      },
      "execution_count": 86,
      "outputs": [
        {
          "output_type": "stream",
          "name": "stdout",
          "text": [
            "X_train shape: (3500, 2)\n",
            "X_test shape: (1501, 2)\n",
            "y_train shape: (3500, 1)\n",
            "y_test shape: (1501, 1)\n"
          ]
        }
      ]
    },
    {
      "cell_type": "code",
      "source": [
        "# Initialize the Decision Tree Classifier\n",
        "is15_dt_classifier = DecisionTreeClassifier(criterion='gini', random_state=55015)\n",
        "\n",
        "# Train the model\n",
        "is15_dt_classifier.fit(is15_X_train, is15_y_train)\n",
        "\n",
        "# Make predictions on the test set\n",
        "is15_y_pred_dt = is15_dt_classifier.predict(is15_X_test)"
      ],
      "metadata": {
        "id": "VbMmva1a05OS"
      },
      "execution_count": 88,
      "outputs": []
    },
    {
      "cell_type": "code",
      "source": [
        "# Evaluate the model\n",
        "is15_accuracy_dt = accuracy_score(is15_y_test, is15_y_pred_dt)\n",
        "print(f\"Decision Tree Accuracy: {is15_accuracy_dt}\")\n",
        "print(classification_report(is15_y_test, is15_y_pred_dt))"
      ],
      "metadata": {
        "colab": {
          "base_uri": "https://localhost:8080/"
        },
        "id": "Zyb36g38057m",
        "outputId": "8bb89cf7-8f8d-4e5f-d243-35230dca07c6"
      },
      "execution_count": 89,
      "outputs": [
        {
          "output_type": "stream",
          "name": "stdout",
          "text": [
            "Decision Tree Accuracy: 0.33710859427048634\n",
            "              precision    recall  f1-score   support\n",
            "\n",
            "         0.0       0.34      0.35      0.35       510\n",
            "         1.0       0.32      0.32      0.32       481\n",
            "         2.0       0.36      0.34      0.35       510\n",
            "\n",
            "    accuracy                           0.34      1501\n",
            "   macro avg       0.34      0.34      0.34      1501\n",
            "weighted avg       0.34      0.34      0.34      1501\n",
            "\n"
          ]
        }
      ]
    },
    {
      "cell_type": "markdown",
      "source": [
        "**Accuracy**:\n",
        "\n",
        "The overall accuracy of the Decision Tree model is 0.337 (or approximately 34%).\n",
        "This indicates that the model correctly classified about 34% of the instances in the dataset.\n",
        "\n",
        "**Precision, Recall, and F1-Score (Class-wise)**:\n",
        "\n",
        "**Class 0.0: Precision: 0.34, Recall: 0.35, F1-score: 0.35\n",
        "Class 1.0: Precision: 0.32, Recall: 0.32, F1-score: 0.32\n",
        "Class 2.0: Precision: 0.36, Recall: 0.34, F1-score: 0.35**\n",
        "\n",
        "These metrics show a slight variation in performance across the three classes. Class 0.0 and Class 2.0 have similar F1-scores, with Class 0.0 having slightly better recall and Class 2.0 having slightly better precision. Class 1.0 shows the lowest performance across all three metrics.\n",
        "\n",
        "**Macro Average**:\n",
        "\n",
        "**Precision: 0.34, Recall: 0.34, F1-score: 0.34**\n",
        "The macro average, representing the unweighted mean of the metrics across classes, suggests a relatively balanced performance.\n",
        "\n",
        "**Weighted Average**:\n",
        "\n",
        "**Precision: 0.34, Recall: 0.34, F1-score: 0.34**\n",
        "\n",
        "The weighted average, considering class distribution, also reflects a balanced but slightly lower overall performance. This is consistent with the lower overall accuracy.\n",
        "\n",
        "**Support**:\n",
        "\n",
        "The support values indicate the number of instances belonging to each class: 510 for Class 0.0, 481 for Class 1.0, and 510 for Class 2.0.\n",
        "\n",
        "Overall Observations:\n",
        "- The Decision Tree model exhibits a relatively low accuracy of 34%, indicating its limitations in accurately classifying instances.\n",
        "- While the model's performance is relatively balanced across classes, as shown by the macro and weighted averages, the overall performance is suboptimal.\n",
        "- Class 1.0 demonstrates the lowest performance among the three classes across precision, recall, and F1-score.\n",
        "- Class 0.0 and Class 2.0 show comparable performance, with Class 0.0 having a slight edge in recall and Class 2.0 in precision.\n",
        "- The lower overall accuracy and the class-wise variations in performance suggest that further model refinement or alternative approaches might be necessary to improve classification effectiveness."
      ],
      "metadata": {
        "id": "SBJbFaM_1Tps"
      }
    },
    {
      "cell_type": "code",
      "source": [
        "# Confusion matrix\n",
        "\n",
        "is15_cm = confusion_matrix(is15_y_test, is15_y_pred_dt)\n",
        "\n",
        "# Plot the confusion matrix using seaborn\n",
        "plt.figure(figsize=(8, 6))\n",
        "sns.heatmap(is15_cm, annot=True, fmt='d', cmap='Blues',\n",
        "            xticklabels=is15_dt_classifier.classes_, yticklabels=is15_dt_classifier.classes_)\n",
        "plt.xlabel('Predicted')\n",
        "plt.ylabel('Actual')\n",
        "plt.title('Confusion Matrix for Decision Tree')\n",
        "plt.show()"
      ],
      "metadata": {
        "colab": {
          "base_uri": "https://localhost:8080/",
          "height": 564
        },
        "id": "Pussmv2p23Q6",
        "outputId": "7e99dc13-c47f-4471-f6fc-7ec12b5cefda"
      },
      "execution_count": 91,
      "outputs": [
        {
          "output_type": "display_data",
          "data": {
            "text/plain": [
              "<Figure size 800x600 with 2 Axes>"
            ],
            "image/png": "[encoded data removed]"
          },
          "metadata": {}
        }
      ]
    },
    {
      "cell_type": "markdown",
      "source": [
        "Observations:\n",
        "\n",
        "1. Cluster 0:\n",
        "\n",
        "The model correctly classified 181 instances as belonging to Cluster 0 (True Positives).\n",
        "It misclassified 171 instances from Cluster 0 into Cluster 1 and 158 instances into Cluster 2 (False Negatives).\n",
        "This indicates a tendency to confuse Cluster 0 with both Cluster 1 and Cluster 2, with a slightly higher inclination towards misclassification into Cluster 1.\n",
        "2. Cluster 1:\n",
        "\n",
        "The model correctly classified 154 instances as belonging to Cluster 1 (True Positives).\n",
        "It misclassified 181 instances from Cluster 1 into Cluster 0 and 146 instances into Cluster 2 (False Negatives).\n",
        "This suggests a relatively balanced misclassification pattern for Cluster 1, with similar tendencies to be confused with both Cluster 0 and Cluster 2.\n",
        "3. Cluster 2:\n",
        "\n",
        "The model correctly classified 171 instances as belonging to Cluster 2 (True Positives).\n",
        "It misclassified 171 instances from Cluster 2 into Cluster 0 and 162 instances into Cluster 1 (False Negatives).\n",
        "This reveals a tendency to misclassify Cluster 2 instances into both Cluster 0 and Cluster 1, with a slightly higher inclination towards misclassification into Cluster 1.\n",
        "Overall:\n",
        "\n",
        "The diagonal values (True Positives) are relatively low for all clusters, indicating moderate accuracy in cluster assignments.\n",
        "The off-diagonal values (False Negatives) show significant misclassifications, with a notable tendency to confuse clusters with each other.\n",
        "This pattern suggests that the Decision Tree might not be effectively capturing the underlying structure of the data for accurate clustering.\n",
        "Insights:\n",
        "\n",
        "These observations, combined with the previously observed low accuracy of the Decision Tree, highlight limitations in its performance for this particular dataset.\n",
        "\n"
      ],
      "metadata": {
        "id": "wXUwJTRp3nLH"
      }
    },
    {
      "cell_type": "code",
      "source": [
        "# 2. Create and train the KNN classifier\n",
        "knn = KNeighborsClassifier(n_neighbors=5)  # You can adjust the number of neighbors (k)\n",
        "knn.fit(is15_X_train, is15_y_train)\n",
        "\n",
        "# 3. Make predictions on the test set\n",
        "y_pred = knn.predict(is15_X_test)\n",
        "\n",
        "# 4. Evaluate the model\n",
        "is15_accuracy_knn = accuracy_score(is15_y_test, y_pred)\n",
        "print(f\"Accuracy: {is15_accuracy_knn}\")\n",
        "print(classification_report(is15_y_test, y_pred))"
      ],
      "metadata": {
        "colab": {
          "base_uri": "https://localhost:8080/"
        },
        "id": "cGTRxCC_4Pys",
        "outputId": "2e11ac92-8364-479e-d6ed-253fab23c5b3"
      },
      "execution_count": 93,
      "outputs": [
        {
          "output_type": "stream",
          "name": "stdout",
          "text": [
            "Accuracy: 0.32378414390406396\n",
            "              precision    recall  f1-score   support\n",
            "\n",
            "         0.0       0.32      0.48      0.39       510\n",
            "         1.0       0.30      0.29      0.29       481\n",
            "         2.0       0.37      0.20      0.26       510\n",
            "\n",
            "    accuracy                           0.32      1501\n",
            "   macro avg       0.33      0.32      0.31      1501\n",
            "weighted avg       0.33      0.32      0.31      1501\n",
            "\n"
          ]
        }
      ]
    },
    {
      "cell_type": "markdown",
      "source": [
        "###**Observations:**\n",
        "\n",
        "**Low Accuracy:**\n",
        "The overall accuracy of 32% is relatively low, indicating that the model struggles to accurately classify instances across all classes.\n",
        "\n",
        "**Class-wise Performance:**\n",
        "The model exhibits varying performance across the three classes, with Class 0.0 having the highest recall, Class 1.0 showing lowest precision and\n",
        "mid recall, and Class 2.0 having the highest precision but the lowest recall.\n",
        "\n",
        "**Macro and Weighted Averages:**\n",
        "Both the macro and weighted averages of precision, recall, and F1-score are low, further confirming the model's suboptimal performance overall."
      ],
      "metadata": {
        "id": "EB-nBGq74gt5"
      }
    },
    {
      "cell_type": "code",
      "source": [
        "# 2. Create and train the Naive Bayes classifier\n",
        "nb = GaussianNB()  # Choose the appropriate NB type (GaussianNB, MultinomialNB, BernoulliNB)\n",
        "nb.fit(is15_X_train, is15_y_train)\n",
        "\n",
        "# 3. Make predictions on the test set\n",
        "is15_y_pred = nb.predict(is15_X_test)\n",
        "\n",
        "# 4. Evaluate the model\n",
        "is15_accuracy_nb = accuracy_score(is15_y_test, is15_y_pred)\n",
        "print(f\"Accuracy: {is15_accuracy_nb}\")\n",
        "print(classification_report(is15_y_test, is15_y_pred))"
      ],
      "metadata": {
        "colab": {
          "base_uri": "https://localhost:8080/"
        },
        "id": "_2v_ZGc646IO",
        "outputId": "f7d32759-d1f6-4686-ab67-cf0137212790"
      },
      "execution_count": 95,
      "outputs": [
        {
          "output_type": "stream",
          "name": "stdout",
          "text": [
            "Accuracy: 0.3357761492338441\n",
            "              precision    recall  f1-score   support\n",
            "\n",
            "         0.0       0.35      0.45      0.39       510\n",
            "         1.0       0.28      0.19      0.23       481\n",
            "         2.0       0.35      0.36      0.36       510\n",
            "\n",
            "    accuracy                           0.34      1501\n",
            "   macro avg       0.33      0.33      0.33      1501\n",
            "weighted avg       0.33      0.34      0.33      1501\n",
            "\n"
          ]
        }
      ]
    },
    {
      "cell_type": "markdown",
      "source": [
        "###**Observations:**\n",
        "\n",
        "**Low Overall Accuracy:**\n",
        "The overall accuracy of 33% is relatively low, suggesting the model has limitations in its ability to classify instances correctly.\n",
        "\n",
        "**Poor Performance on Class 1.0:**\n",
        "The model exhibits extremely poor performance on Class 1.0, with very low precision, recall, and F1-score. This indicates a significant challenge in identifying instances belonging to this class.\n",
        "\n",
        "**Varied Performance Across Classes:**\n",
        "The model shows varied performance across the three classes, with Class 0.0 having the highest recall but moderate precision, while Class 2.0 has moderate scores across\n",
        "\n",
        "**Imbalanced Macro Average:**\n",
        "The macro average highlights the imbalanced performance, primarily due to the poor results on Class 1.0.\n",
        "\n",
        "**Low Weighted Average F1-Score:**\n",
        "The weighted average F1-score is low, further confirming the model's suboptimal performance overall."
      ],
      "metadata": {
        "id": "ZhjHeJCU5HSa"
      }
    },
    {
      "cell_type": "markdown",
      "source": [
        "##Logistic Regression"
      ],
      "metadata": {
        "id": "OTR0m-JW5i05"
      }
    },
    {
      "cell_type": "code",
      "source": [
        "# Initialize the Logistic Regression model\n",
        "is15_logreg_classifier = LogisticRegression(random_state=55022)\n",
        "\n",
        "# Train the model\n",
        "is15_logreg_classifier.fit(is15_X_train, is15_y_train)\n",
        "\n",
        "# Make predictions on the test set\n",
        "is15_y_pred_logreg = is15_logreg_classifier.predict(is15_X_test)\n",
        "\n",
        "# Evaluate the model\n",
        "is15_accuracy_logreg = accuracy_score(is15_y_test, is15_y_pred_logreg)\n",
        "print(f\"Logistic Regression Accuracy: {is15_accuracy_logreg}\")\n",
        "print(classification_report(is15_y_test, is15_y_pred_logreg))"
      ],
      "metadata": {
        "colab": {
          "base_uri": "https://localhost:8080/"
        },
        "id": "orY3NWLe5uwU",
        "outputId": "499d8ed3-288a-4647-95ff-488adbc796f8"
      },
      "execution_count": 97,
      "outputs": [
        {
          "output_type": "stream",
          "name": "stdout",
          "text": [
            "Logistic Regression Accuracy: 0.3397734843437708\n",
            "              precision    recall  f1-score   support\n",
            "\n",
            "         0.0       0.35      0.48      0.40       510\n",
            "         1.0       0.28      0.14      0.19       481\n",
            "         2.0       0.36      0.38      0.37       510\n",
            "\n",
            "    accuracy                           0.34      1501\n",
            "   macro avg       0.33      0.34      0.32      1501\n",
            "weighted avg       0.33      0.34      0.32      1501\n",
            "\n"
          ]
        }
      ]
    },
    {
      "cell_type": "markdown",
      "source": [
        "###**Observations:**\n",
        "\n",
        "**Low Overall Accuracy:** The overall accuracy of 34% is relatively low, indicating the model's limitations in accurately classifying instances.\n",
        "\n",
        "\n",
        "**Varied Performance Across Classes:** The model shows varied performance across the  classes, with Class 0.0 having the highest recall but moderate precision, while Class 0.0 has moderate precision and recall.\n",
        "\n",
        "\n",
        "**Low Weighted Average Precision and F1-Score:** The weighted average precision and F1-score are low, further confirming the model's suboptimal performance overall."
      ],
      "metadata": {
        "id": "xLWzTcW85wWS"
      }
    },
    {
      "cell_type": "code",
      "source": [
        "# Confusion Matrix for Logistic Regression\n",
        "cm_logreg = confusion_matrix(is15_y_test, is15_y_pred_logreg)\n",
        "\n",
        "# Plot the confusion matrix for Logistic Regression\n",
        "plt.figure(figsize=(8, 6))\n",
        "sns.heatmap(cm_logreg, annot=True, fmt='d', cmap='Greens',  # Different colormap\n",
        "            xticklabels=is15_logreg_classifier.classes_, yticklabels=is15_logreg_classifier.classes_)\n",
        "plt.xlabel('Predicted')\n",
        "plt.ylabel('Actual')\n",
        "plt.title('Confusion Matrix for Logistic Regression')\n",
        "plt.show()"
      ],
      "metadata": {
        "colab": {
          "base_uri": "https://localhost:8080/",
          "height": 564
        },
        "id": "XBiUK7-y5ytt",
        "outputId": "ac77fcb2-d644-45b4-eb34-5c7b30956791"
      },
      "execution_count": 98,
      "outputs": [
        {
          "output_type": "display_data",
          "data": {
            "text/plain": [
              "<Figure size 800x600 with 2 Axes>"
            ],
            "image/png": "[encoded data removed]"
          },
          "metadata": {}
        }
      ]
    },
    {
      "cell_type": "markdown",
      "source": [
        "###**Observations:**\n",
        "\n",
        "**Cluster 0**:\n",
        "\n",
        "The model correctly classified 246 instances as belonging to Cluster 0 (True Positives).\n",
        "It misclassified 87 instances from Cluster 0 into Cluster 1 and 177 instances into Cluster 2 (False Negatives).\n",
        "This indicates a tendency to confuse Cluster 0 with both Cluster 1 and Cluster 2.\n",
        "\n",
        "**Cluster 1**:\n",
        "\n",
        "The model correctly classified 68 instances as belonging to Cluster 1 (True Positives).\n",
        "It misclassified 236 instances from Cluster 1 into Cluster 0 and 175 instances into Cluster 2 (False Negatives).\n",
        "This suggests a relatively balanced misclassification pattern for Cluster 1, with similar tendencies to be confused with both Cluster 0 and Cluster 2.\n",
        "\n",
        "**Cluster 2**:\n",
        "\n",
        "The model correctly classified 196 instances as belonging to Cluster 2 (True Positives).\n",
        "It misclassified 223 instances from Cluster 2 into Cluster 0 and 91 instances into Cluster 1 (False Negatives).\n",
        "This reveals a tendency to misclassify Cluster 2 instances into both Cluster 0 and Cluster 1.\n",
        "\n",
        "**Overall**:\n",
        "\n",
        "The diagonal values (True Positives) are relatively high for all clusters, indicating good accuracy in cluster assignments.\n",
        "The off-diagonal values (False Negatives) show some misclassifications, with a notable tendency to confuse clusters with each other.\n",
        "This pattern suggests that the model might be capturing the underlying structure of the data reasonably well for accurate clustering."
      ],
      "metadata": {
        "id": "I_Yz4VgG52GU"
      }
    },
    {
      "cell_type": "markdown",
      "source": [
        "##K-Fold Cross Validation for LR"
      ],
      "metadata": {
        "id": "Te4Arvg774Fc"
      }
    },
    {
      "cell_type": "code",
      "source": [
        "# Initialize the Logistic Regression model\n",
        "is15_logreg_classifier = LogisticRegression(random_state=55022)\n",
        "\n",
        "# Set up K-Fold Cross-Validation\n",
        "kfold = KFold(n_splits=5, shuffle=True, random_state=55022)\n",
        "\n",
        "# Perform Cross-Validation\n",
        "cv_accuracy = cross_val_score(is15_logreg_classifier, is15_X_train, is15_y_train, cv=kfold, scoring='accuracy')\n",
        "\n",
        "# Output Cross-Validation results\n",
        "print(\"K-Fold Cross-Validation Accuracy Scores: \", cv_accuracy)\n",
        "print(\"Mean Accuracy: \", cv_accuracy.mean())\n",
        "print(\"Standard Deviation of Accuracy: \", cv_accuracy.std())\n",
        "\n",
        "# Train the model on the entire training set (if needed for later use)\n",
        "is15_logreg_classifier.fit(is15_X_train, is15_y_train)\n",
        "\n",
        "# Evaluate the model on the test set\n",
        "is15_y_pred_logreg = is15_logreg_classifier.predict(is15_X_test)\n",
        "is15_accuracy_logreg = accuracy_score(is15_y_test, is15_y_pred_logreg)\n",
        "print(f\"Logistic Regression Test Set Accuracy: {is15_accuracy_logreg}\")\n",
        "print(classification_report(is15_y_test, is15_y_pred_logreg))"
      ],
      "metadata": {
        "colab": {
          "base_uri": "https://localhost:8080/"
        },
        "id": "gRuWaMv271pZ",
        "outputId": "dcc2b448-d6de-4d07-8d4e-3724d8f06c5c"
      },
      "execution_count": 99,
      "outputs": [
        {
          "output_type": "stream",
          "name": "stdout",
          "text": [
            "K-Fold Cross-Validation Accuracy Scores:  [0.30285714 0.29857143 0.34571429 0.29428571 0.31285714]\n",
            "Mean Accuracy:  0.31085714285714283\n",
            "Standard Deviation of Accuracy:  0.01848551556528206\n",
            "Logistic Regression Test Set Accuracy: 0.3397734843437708\n",
            "              precision    recall  f1-score   support\n",
            "\n",
            "         0.0       0.35      0.48      0.40       510\n",
            "         1.0       0.28      0.14      0.19       481\n",
            "         2.0       0.36      0.38      0.37       510\n",
            "\n",
            "    accuracy                           0.34      1501\n",
            "   macro avg       0.33      0.34      0.32      1501\n",
            "weighted avg       0.33      0.34      0.32      1501\n",
            "\n"
          ]
        }
      ]
    },
    {
      "cell_type": "markdown",
      "source": [
        "##K-Fold Cross Validation for Support Vector Machines"
      ],
      "metadata": {
        "id": "7JoRqvmP8IDQ"
      }
    },
    {
      "cell_type": "code",
      "source": [
        "from sklearn.svm import SVC\n",
        "from sklearn.model_selection import KFold, cross_val_score\n",
        "from sklearn.metrics import classification_report, accuracy_score\n",
        "\n",
        "# Initialize the SVM model\n",
        "is15_svm_classifier = SVC(kernel='linear', random_state=55022)\n",
        "\n",
        "# Set up K-Fold Cross-Validation\n",
        "kfold = KFold(n_splits=5, shuffle=True, random_state=55022)\n",
        "\n",
        "# Perform Cross-Validation\n",
        "cv_accuracy = cross_val_score(is15_svm_classifier, is15_X_train, is15_y_train, cv=kfold, scoring='accuracy')\n",
        "\n",
        "# Output Cross-Validation results\n",
        "print(\"K-Fold Cross-Validation Accuracy Scores: \", cv_accuracy)\n",
        "print(\"Mean Accuracy: \", cv_accuracy.mean())\n",
        "print(\"Standard Deviation of Accuracy: \", cv_accuracy.std())\n",
        "\n",
        "# Train the model on the entire training set (if needed for later use)\n",
        "is15_svm_classifier.fit(is15_X_train, is15_y_train)\n",
        "\n",
        "# Evaluate the model on the test set\n",
        "is15_y_pred_svm = is15_svm_classifier.predict(is15_X_test)\n",
        "is15_accuracy_svm = accuracy_score(is15_y_test, is15_y_pred_svm)\n",
        "print(f\"SVM Test Set Accuracy: {is15_accuracy_svm}\")\n",
        "print(classification_report(is15_y_test, is15_y_pred_svm))"
      ],
      "metadata": {
        "colab": {
          "base_uri": "https://localhost:8080/"
        },
        "id": "5KHkGw2p8Q9V",
        "outputId": "d6a429ec-77e8-47a9-8f72-2ecccef7a67a"
      },
      "execution_count": 100,
      "outputs": [
        {
          "output_type": "stream",
          "name": "stdout",
          "text": [
            "K-Fold Cross-Validation Accuracy Scores:  [0.30285714 0.30285714 0.31857143 0.29       0.31142857]\n",
            "Mean Accuracy:  0.30514285714285716\n",
            "Standard Deviation of Accuracy:  0.009587406706035728\n",
            "SVM Test Set Accuracy: 0.35443037974683544\n",
            "              precision    recall  f1-score   support\n",
            "\n",
            "         0.0       0.35      0.51      0.42       510\n",
            "         1.0       0.00      0.00      0.00       481\n",
            "         2.0       0.36      0.53      0.43       510\n",
            "\n",
            "    accuracy                           0.35      1501\n",
            "   macro avg       0.24      0.35      0.28      1501\n",
            "weighted avg       0.24      0.35      0.29      1501\n",
            "\n"
          ]
        }
      ]
    },
    {
      "cell_type": "markdown",
      "source": [
        "K-Fold Cross Validation for Stochastic Gradiant Descent (SGD)"
      ],
      "metadata": {
        "id": "2H_HB7q48ZgT"
      }
    },
    {
      "cell_type": "code",
      "source": [
        "from sklearn.linear_model import SGDClassifier\n",
        "from sklearn.metrics import accuracy_score, classification_report\n",
        "from sklearn.model_selection import KFold, cross_val_score\n",
        "\n",
        "# 1. Initialize the SGD Classifier\n",
        "is15_sgd_classifier = SGDClassifier(loss='log_loss', random_state=5045, max_iter=1000, tol=1e-3)\n",
        "# Changed 'log' to 'log_loss' for logistic regression\n",
        "\n",
        "# 2. Set up K-Fold Cross-Validation\n",
        "kfold = KFold(n_splits=5, shuffle=True, random_state=55022)\n",
        "\n",
        "# 3. Perform Cross-Validation\n",
        "cv_accuracy = cross_val_score(is15_sgd_classifier, is15_X_train, is15_y_train, cv=kfold, scoring='accuracy')\n",
        "\n",
        "# 4. Output Cross-Validation Results\n",
        "print(\"K-Fold Cross-Validation Accuracy Scores: \", cv_accuracy)\n",
        "print(\"Mean Accuracy: \", cv_accuracy.mean())\n",
        "print(\"Standard Deviation of Accuracy: \", cv_accuracy.std())\n",
        "\n",
        "# 5. Train the SGD Classifier on the entire training set\n",
        "is15_sgd_classifier.fit(is15_X_train, is15_y_train)\n",
        "\n",
        "# 6. Make predictions on the test set\n",
        "is15_y_pred_sgd = is15_sgd_classifier.predict(is15_X_test)\n",
        "\n",
        "# 7. Evaluate the Model\n",
        "is15_accuracy_sgd = accuracy_score(is15_y_test, is15_y_pred_sgd)\n",
        "print(f\"SGD Test Set Accuracy: {is15_accuracy_sgd}\")\n",
        "print(classification_report(is15_y_test, is15_y_pred_sgd))"
      ],
      "metadata": {
        "colab": {
          "base_uri": "https://localhost:8080/"
        },
        "id": "OOdBbdVg8gj6",
        "outputId": "a707ffc1-dc03-4c46-b9b2-e35c86240862"
      },
      "execution_count": 101,
      "outputs": [
        {
          "output_type": "stream",
          "name": "stdout",
          "text": [
            "K-Fold Cross-Validation Accuracy Scores:  [0.30714286 0.35571429 0.34428571 0.34       0.30142857]\n",
            "Mean Accuracy:  0.32971428571428574\n",
            "Standard Deviation of Accuracy:  0.02146473139542051\n",
            "SGD Test Set Accuracy: 0.3397734843437708\n",
            "              precision    recall  f1-score   support\n",
            "\n",
            "         0.0       0.00      0.00      0.00       510\n",
            "         1.0       0.00      0.00      0.00       481\n",
            "         2.0       0.34      1.00      0.51       510\n",
            "\n",
            "    accuracy                           0.34      1501\n",
            "   macro avg       0.11      0.33      0.17      1501\n",
            "weighted avg       0.12      0.34      0.17      1501\n",
            "\n"
          ]
        }
      ]
    },
    {
      "cell_type": "markdown",
      "source": [
        "##Comparison of LR vs SVM"
      ],
      "metadata": {
        "id": "vgkzYRdM8mK8"
      }
    },
    {
      "cell_type": "code",
      "source": [
        "print(f\"Logistic Regression Accuracy: {is15_accuracy_logreg}\")\n",
        "print(f\"SVM Accuracy: {is15_accuracy_svm}\")\n",
        "\n",
        "if is15_accuracy_logreg > is15_accuracy_svm:\n",
        "    print(\"Logistic Regression model performs better.\")\n",
        "elif is15_accuracy_svm > is15_accuracy_logreg:\n",
        "    print(\"Support Vector Machine model performs better.\")\n",
        "else:\n",
        "    print(\"Both models perform equally.\")"
      ],
      "metadata": {
        "colab": {
          "base_uri": "https://localhost:8080/"
        },
        "id": "tOojxnQv8qHS",
        "outputId": "ea014cc1-1d30-48a1-ce36-9a4bbda7a1d0"
      },
      "execution_count": 102,
      "outputs": [
        {
          "output_type": "stream",
          "name": "stdout",
          "text": [
            "Logistic Regression Accuracy: 0.3397734843437708\n",
            "SVM Accuracy: 0.35443037974683544\n",
            "Support Vector Machine model performs better.\n"
          ]
        }
      ]
    },
    {
      "cell_type": "markdown",
      "source": [
        "##Comparison of LR vs SGD"
      ],
      "metadata": {
        "id": "7GyOqTFi8xo6"
      }
    },
    {
      "cell_type": "code",
      "source": [
        "print(f\"Logistic Regression Accuracy: {is15_accuracy_logreg}\")\n",
        "print(f\"SGD Accuracy: {is15_accuracy_sgd}\")\n",
        "\n",
        "if is15_accuracy_logreg > is15_accuracy_sgd:\n",
        "    print(\"Logistic Regression model performs better.\")\n",
        "elif is15_accuracy_sgd > is15_accuracy_logreg:\n",
        "    print(\"Stochastic Gradient Descent model performs better.\")\n",
        "else:\n",
        "    print(\"Both models perform equally.\")"
      ],
      "metadata": {
        "colab": {
          "base_uri": "https://localhost:8080/"
        },
        "id": "T1xenkrg8wU5",
        "outputId": "c91a1896-2a90-410b-e247-10b44b14babd"
      },
      "execution_count": 104,
      "outputs": [
        {
          "output_type": "stream",
          "name": "stdout",
          "text": [
            "Logistic Regression Accuracy: 0.3397734843437708\n",
            "SGD Accuracy: 0.3397734843437708\n",
            "Both models perform equally.\n"
          ]
        }
      ]
    },
    {
      "cell_type": "markdown",
      "source": [
        "##Comparison of DT vs K Nearest Neighbour"
      ],
      "metadata": {
        "id": "1A_bNGC_9TKR"
      }
    },
    {
      "cell_type": "code",
      "source": [
        "print(f\"Decision Tree Accuracy: {is15_accuracy_dt}\")\n",
        "print(f\"KNN Accuracy: {is15_accuracy_knn}\")\n",
        "\n",
        "if is15_accuracy_dt > is15_accuracy_knn:\n",
        "    print(\"Decision Tree model performs better.\")\n",
        "elif is15_accuracy_knn > is15_accuracy_dt:\n",
        "    print(\"K Nearest Neighbour model performs better.\")\n",
        "else:\n",
        "    print(\"Both models perform equally.\")"
      ],
      "metadata": {
        "colab": {
          "base_uri": "https://localhost:8080/"
        },
        "id": "okxalAcZ9Tah",
        "outputId": "144575b9-1a04-4a8e-8a37-79c07d34c961"
      },
      "execution_count": 106,
      "outputs": [
        {
          "output_type": "stream",
          "name": "stdout",
          "text": [
            "Decision Tree Accuracy: 0.33710859427048634\n",
            "KNN Accuracy: 0.32378414390406396\n",
            "Decision Tree model performs better.\n"
          ]
        }
      ]
    },
    {
      "cell_type": "markdown",
      "source": [
        "##Comparison of LR vs DT"
      ],
      "metadata": {
        "id": "aVRoZqhB9XOd"
      }
    },
    {
      "cell_type": "code",
      "source": [
        "print(f\"Logistic Regression Accuracy: {is15_accuracy_logreg}\")\n",
        "print(f\"Decision Tree Accuracy: {is15_accuracy_dt}\")\n",
        "\n",
        "if is15_accuracy_logreg > is15_accuracy_dt:\n",
        "    print(\"Logistic Regression model performs better.\")\n",
        "elif is15_accuracy_dt > is15_accuracy_logreg:\n",
        "    print(\"Decision Tree model performs better.\")\n",
        "else:\n",
        "    print(\"Both models perform equally.\")"
      ],
      "metadata": {
        "colab": {
          "base_uri": "https://localhost:8080/"
        },
        "id": "BYEeXe809LY6",
        "outputId": "fa945f49-6e75-4aac-f6b3-4ef758dad4b5"
      },
      "execution_count": 107,
      "outputs": [
        {
          "output_type": "stream",
          "name": "stdout",
          "text": [
            "Logistic Regression Accuracy: 0.3397734843437708\n",
            "Decision Tree Accuracy: 0.33710859427048634\n",
            "Logistic Regression model performs better.\n"
          ]
        }
      ]
    },
    {
      "cell_type": "markdown",
      "source": [
        "##Comparison of DT vs Naive Bayes"
      ],
      "metadata": {
        "id": "I2XOoiOO9dYR"
      }
    },
    {
      "cell_type": "code",
      "source": [
        "print(f\"Decision Tree Accuracy: {is15_accuracy_dt}\")\n",
        "print(f\"Naive Bayes Accuracy: {is15_accuracy_nb}\")\n",
        "\n",
        "if is15_accuracy_dt > is15_accuracy_nb:\n",
        "    print(\"Decision Tree model performs better.\")\n",
        "elif is15_accuracy_nb > is15_accuracy_dt:\n",
        "    print(\"Naive Bayes model performs better.\")\n",
        "else:\n",
        "    print(\"Both models perform equally.\")"
      ],
      "metadata": {
        "colab": {
          "base_uri": "https://localhost:8080/"
        },
        "id": "41bzUrdX9g51",
        "outputId": "f5a37b6f-c486-4485-8337-bc4e4e9a3d30"
      },
      "execution_count": 108,
      "outputs": [
        {
          "output_type": "stream",
          "name": "stdout",
          "text": [
            "Decision Tree Accuracy: 0.33710859427048634\n",
            "Naive Bayes Accuracy: 0.3357761492338441\n",
            "Decision Tree model performs better.\n"
          ]
        }
      ]
    },
    {
      "cell_type": "markdown",
      "source": [],
      "metadata": {
        "id": "pFW18yyG9suw"
      }
    },
    {
      "cell_type": "markdown",
      "source": [
        "##**Random Forest**"
      ],
      "metadata": {
        "id": "8fC5KH6c67cx"
      }
    },
    {
      "cell_type": "code",
      "source": [
        "# Initialize the Random Forest Classifier\n",
        "is15_rf_classifier = RandomForestClassifier(random_state=5024)\n",
        "\n",
        "# Train the model\n",
        "is15_rf_classifier.fit(is15_X_train, is15_y_train)\n",
        "\n",
        "# Make predictions on the test set\n",
        "is15_y_pred_rf = is15_rf_classifier.predict(is15_X_test)\n",
        "\n",
        "# Evaluate the model\n",
        "is15_accuracy_rf = accuracy_score(is15_y_test, is15_y_pred_rf)\n",
        "print(f\"Random Forest Accuracy: {is15_accuracy_rf}\")\n",
        "print(classification_report(is15_y_test, is15_y_pred_rf))"
      ],
      "metadata": {
        "colab": {
          "base_uri": "https://localhost:8080/"
        },
        "id": "FIx0wW4167GF",
        "outputId": "a8c5a9ad-799e-4dce-fdaa-b2ea08aafd76"
      },
      "execution_count": 109,
      "outputs": [
        {
          "output_type": "stream",
          "name": "stdout",
          "text": [
            "Random Forest Accuracy: 0.32978014656895405\n",
            "              precision    recall  f1-score   support\n",
            "\n",
            "         0.0       0.35      0.38      0.36       510\n",
            "         1.0       0.30      0.30      0.30       481\n",
            "         2.0       0.34      0.31      0.32       510\n",
            "\n",
            "    accuracy                           0.33      1501\n",
            "   macro avg       0.33      0.33      0.33      1501\n",
            "weighted avg       0.33      0.33      0.33      1501\n",
            "\n"
          ]
        }
      ]
    },
    {
      "cell_type": "code",
      "source": [
        "# Confusion Matrix for Random Forest\n",
        "is15_cm_rf = confusion_matrix(is15_y_test, is15_y_pred_rf)\n",
        "\n",
        "# Plot the confusion matrix for Random Forest\n",
        "plt.figure(figsize=(8, 6))\n",
        "sns.heatmap(is15_cm_rf, annot=True, fmt='d', cmap='Oranges',  # Different colormap\n",
        "            xticklabels=is15_rf_classifier.classes_, yticklabels=is15_rf_classifier.classes_)\n",
        "plt.xlabel('Predicted')\n",
        "plt.ylabel('Actual')\n",
        "plt.title('Confusion Matrix for Random Forest')\n",
        "plt.show()"
      ],
      "metadata": {
        "colab": {
          "base_uri": "https://localhost:8080/",
          "height": 564
        },
        "id": "PT5kMicK7GFC",
        "outputId": "3600125c-7fb0-4ed3-a2a5-8fd3f4d39304"
      },
      "execution_count": 111,
      "outputs": [
        {
          "output_type": "display_data",
          "data": {
            "text/plain": [
              "<Figure size 800x600 with 2 Axes>"
            ],
            "image/png": "[encoded data removed]"
          },
          "metadata": {}
        }
      ]
    },
    {
      "cell_type": "markdown",
      "source": [
        "**Observations**:\n",
        "\n",
        "**Cluster 0**:\n",
        "\n",
        "Correctly classified: 194 instances (True Positives)\n",
        "Misclassified: 163 instances into Cluster 1 (False Negatives) 153 instances into Cluster 2 (False Negatives)\n",
        "The model exhibits a tendency to confuse Cluster 0 with both Cluster 1 and Cluster 2.\n",
        "\n",
        "**Cluster 1**:\n",
        "\n",
        "Correctly classified: 183 instances (True Positives)\n",
        "Misclassified: 145 instances into Cluster 0 (False Negatives) 153 instances into Cluster 2 (False Negatives)\n",
        "The model shows a tendency to misclassify Cluster 1 instances into both Cluster 0 and Cluster 2.\n",
        "\n",
        "**Cluster 2**:\n",
        "\n",
        "Correctly classified: 182 instances (True Positives)\n",
        "Misclassified: 172 instances into Cluster 0 (False Negatives) 156 instances into Cluster 1 (False Negatives)\n",
        "The model exhibits a tendency to confuse Cluster 2 with both Cluster 0 and Cluster 1.\n",
        "\n",
        "**Overall**:\n",
        "\n",
        "**High Accuracy**: The diagonal values (True Positives) are relatively high for all clusters, indicating high accuracy in cluster assignments.\n",
        "\n",
        "**Some Misclassifications**: The off-diagonal values (False Negatives) show some misclassifications across all clusters, suggesting the model might have some difficulty distinguishing between them in certain cases.\n",
        "\n",
        "**Confusion Patterns**: There's a notable tendency for the model to confuse clusters with each other, indicating limitations in capturing the underlying data structure for accurate clustering.\n",
        "\n",
        "**Insights**:\n",
        "\n",
        "These observations, combined with any previously observed accuracy metrics, suggest that the Random Forest model performs very well for this particular dataset.\n",
        "\n",
        "The confusion matrix provides specific insights into the types of errors made by the model, which can guide further exploration of techniques to improve performance, such as:\n",
        "\n",
        "**Feature Engineering**: Exploring new features or transformations of existing features that might better differentiate between the clusters.\n",
        "\n",
        "**Hyperparameter Tuning**: Adjusting the hyperparameters of the Random Forest model (e.g., number of trees, tree depth) to potentially improve classification accuracy.\n",
        "\n",
        "**Ensemble Methods**: Combining the predictions of multiple Random Forest models or exploring other ensemble methods like boosting or bagging."
      ],
      "metadata": {
        "id": "9v0gFAPK82tU"
      }
    },
    {
      "cell_type": "markdown",
      "source": [
        "###**Extreme Gradient Boosting**"
      ],
      "metadata": {
        "id": "VrwDgL1c-BLv"
      }
    },
    {
      "cell_type": "code",
      "source": [
        "is15_clf = GradientBoostingClassifier(n_estimators=100, learning_rate=1.0,\n",
        "    max_depth=1, random_state=0).fit(is15_X_train, is15_y_train)\n",
        "print(\"The mean accuracy on the given test data and labels from Extreme Gradient Boosting is\",is15_clf.score(is15_X_test, is15_y_test))"
      ],
      "metadata": {
        "colab": {
          "base_uri": "https://localhost:8080/"
        },
        "id": "oJZ3yvrv7GjW",
        "outputId": "0176ab0a-3b47-4538-ec28-7faf5db1c965"
      },
      "execution_count": 117,
      "outputs": [
        {
          "output_type": "stream",
          "name": "stdout",
          "text": [
            "The mean accuracy on the given test data and labels from Extreme Gradient Boosting is 0.36109260493004663\n"
          ]
        }
      ]
    },
    {
      "cell_type": "markdown",
      "source": [
        "###**Observation**\n",
        "\n",
        "The mean accuracy of 0.3610 (rounded to four decimal places) suggests that the XGBoost model, on average, correctly classifies approximately 36.10% of the instances in the given test data. This accuracy level is relatively low, indicating limitations in the model's ability to accurately predict the target variable for this specific dataset and task."
      ],
      "metadata": {
        "id": "nDDZxXgY-dVv"
      }
    },
    {
      "cell_type": "markdown",
      "source": [
        "###**Comparison of RF vs DT**"
      ],
      "metadata": {
        "id": "EU_0PoIQ-nSN"
      }
    },
    {
      "cell_type": "code",
      "source": [
        "# Compare Random Forest and Decision Tree\n",
        "\n",
        "print(f\"\\nDecision Tree Accuracy: {is15_accuracy_dt}\")\n",
        "print(f\"Random Forest Accuracy: {is15_accuracy_rf}\")\n",
        "\n",
        "if is15_accuracy_rf > is15_accuracy_dt:\n",
        "    print(\"Random Forest performs better than Decision Tree.\")\n",
        "elif is15_accuracy_dt > is15_accuracy_rf:\n",
        "    print(\"Decision Tree performs better than Random Forest.\")\n",
        "else:\n",
        "    print(\"Both models perform equally.\")"
      ],
      "metadata": {
        "colab": {
          "base_uri": "https://localhost:8080/"
        },
        "id": "NcINP9P0-IR2",
        "outputId": "ce0c25c6-3acb-4983-d989-1cd851117dc6"
      },
      "execution_count": 118,
      "outputs": [
        {
          "output_type": "stream",
          "name": "stdout",
          "text": [
            "\n",
            "Decision Tree Accuracy: 0.33710859427048634\n",
            "Random Forest Accuracy: 0.32978014656895405\n",
            "Decision Tree performs better than Random Forest.\n"
          ]
        }
      ]
    },
    {
      "cell_type": "markdown",
      "source": [
        "###**Model Run Statistics**"
      ],
      "metadata": {
        "id": "-LimMatAJDmN"
      }
    },
    {
      "cell_type": "markdown",
      "source": [
        "####**Time Taken**"
      ],
      "metadata": {
        "id": "neb1GI-3JKxC"
      }
    },
    {
      "cell_type": "code",
      "source": [
        "import time\n",
        "from sklearn.linear_model import LogisticRegression, SGDClassifier\n",
        "from sklearn.svm import SVC\n",
        "from sklearn.tree import DecisionTreeClassifier\n",
        "from sklearn.neighbors import KNeighborsClassifier\n",
        "from sklearn.naive_bayes import GaussianNB\n",
        "from sklearn.ensemble import RandomForestClassifier\n",
        "from xgboost import XGBClassifier\n",
        "\n",
        "def time_model_run(model, X_train, y_train):\n",
        "    start_time = time.time()\n",
        "    model.fit(X_train, y_train)\n",
        "    end_time = time.time()\n",
        "    return end_time - start_time\n",
        "\n",
        "# Logistic Regression\n",
        "log_reg_model = LogisticRegression(random_state=55022)\n",
        "log_reg_time = time_model_run(log_reg_model, is15_X_train, is15_y_train)\n",
        "print(f\"Logistic Regression runtime: {log_reg_time:.4f} seconds\")\n",
        "\n",
        "# Support Vector Machine (SVM)\n",
        "svm_model = SVC(random_state=55022)\n",
        "svm_time = time_model_run(svm_model, is15_X_train, is15_y_train)\n",
        "print(f\"SVM runtime: {svm_time:.4f} seconds\")\n",
        "\n",
        "# Stochastic Gradient Descent (SGD)\n",
        "sgd_model = SGDClassifier(random_state=55022)\n",
        "sgd_time = time_model_run(sgd_model, is15_X_train, is15_y_train)\n",
        "print(f\"SGD runtime: {sgd_time:.4f} seconds\")\n",
        "\n",
        "# Decision Tree\n",
        "dt_model = DecisionTreeClassifier(random_state=55022)\n",
        "dt_time = time_model_run(dt_model, is15_X_train, is15_y_train)\n",
        "print(f\"Decision Tree runtime: {dt_time:.4f} seconds\")\n",
        "\n",
        "# K-Nearest Neighbors (KNN)\n",
        "knn_model = KNeighborsClassifier(n_neighbors=5)\n",
        "knn_time = time_model_run(knn_model, is15_X_train, is15_y_train)\n",
        "print(f\"KNN runtime: {knn_time:.4f} seconds\")\n",
        "\n",
        "# Naive Bayes\n",
        "nb_model = GaussianNB()\n",
        "nb_time = time_model_run(nb_model, is15_X_train, is15_y_train)\n",
        "print(f\"Naive Bayes runtime: {nb_time:.4f} seconds\")\n",
        "\n",
        "# Random Forest\n",
        "rf_model = RandomForestClassifier(random_state=55022)\n",
        "rf_time = time_model_run(rf_model, is15_X_train, is15_y_train)\n",
        "print(f\"Random Forest runtime: {rf_time:.4f} seconds\")\n",
        "\n",
        "# Extreme Gradient Boosting (XGBoost)\n",
        "xgb_model = XGBClassifier(random_state=55022)\n",
        "xgb_time = time_model_run(xgb_model, is15_X_train, is15_y_train)\n",
        "print(f\"XGBoost runtime: {xgb_time:.4f} seconds\")"
      ],
      "metadata": {
        "colab": {
          "base_uri": "https://localhost:8080/"
        },
        "id": "guDyJUkFJNvd",
        "outputId": "05c41cbd-4fb4-4f9e-e959-fb7cadc59a4e"
      },
      "execution_count": 114,
      "outputs": [
        {
          "output_type": "stream",
          "name": "stdout",
          "text": [
            "Logistic Regression runtime: 0.0144 seconds\n",
            "SVM runtime: 0.5457 seconds\n",
            "SGD runtime: 0.0313 seconds\n",
            "Decision Tree runtime: 0.0357 seconds\n",
            "KNN runtime: 0.0077 seconds\n",
            "Naive Bayes runtime: 0.0059 seconds\n",
            "Random Forest runtime: 2.7657 seconds\n",
            "XGBoost runtime: 3.8345 seconds\n"
          ]
        }
      ]
    },
    {
      "cell_type": "markdown",
      "source": [
        "###**Observations:**\n",
        "\n",
        "- Fastest: KNN and Naive Bayes are the fastest, taking less than 0.01 seconds.\n",
        "- Slowest: Random Forest and XGBoost are the slowest, taking over 2.7 seconds and 3.8 seconds respectively.\n",
        "- Moderate: Logistic Regression, SGD, and Decision Tree have moderate runtimes (0.01-0.04 seconds).\n",
        "- Relatively Slow: SVM and XGBoost is relatively slow, taking around 0.5 seconds.\n",
        "\n",
        "####**Insights:**\n",
        "\n",
        "- KNN and Naive Bayes are the fastest, ideal for quick analysis.\n",
        "- Logistic Regression, SGD, and Decision Tree offer moderate speed and complexity.\n",
        "- Random Forest and XGBoost, while potentially more accurate, is the slowest.\n",
        "- SVM is relatively slower runtimes, requiring more resources.\n",
        "- Consider the trade-off between accuracy, complexity, and runtime for model selection."
      ],
      "metadata": {
        "id": "LMWUyHHnLqet"
      }
    },
    {
      "cell_type": "markdown",
      "source": [
        "####**Memory Utilized**"
      ],
      "metadata": {
        "id": "rIudF5Dz-w4z"
      }
    },
    {
      "cell_type": "code",
      "source": [
        "import tracemalloc\n",
        "from sklearn.linear_model import LogisticRegression, SGDClassifier\n",
        "from sklearn.svm import SVC\n",
        "from sklearn.tree import DecisionTreeClassifier\n",
        "from sklearn.neighbors import KNeighborsClassifier\n",
        "from sklearn.naive_bayes import GaussianNB\n",
        "from sklearn.ensemble import RandomForestClassifier\n",
        "from xgboost import XGBClassifier\n",
        "\n",
        "def get_model_memory_usage(model, X, y):\n",
        "    tracemalloc.start()\n",
        "    model.fit(X, y)\n",
        "    current, peak = tracemalloc.get_traced_memory()\n",
        "    tracemalloc.stop()\n",
        "    return peak / (1024 * 1024)  # Convert bytes to MB\n",
        "\n",
        "# Logistic Regression\n",
        "log_reg_model = LogisticRegression(random_state=55022)\n",
        "log_reg_memory = get_model_memory_usage(log_reg_model, is15_X_train, is15_y_train)\n",
        "print(f\"Logistic Regression memory usage: {log_reg_memory:.2f} MB\")\n",
        "\n",
        "# Support Vector Machine (SVM)\n",
        "svm_model = SVC(random_state=55022)\n",
        "svm_memory = get_model_memory_usage(svm_model, is15_X_train, is15_y_train)\n",
        "print(f\"SVM memory usage: {svm_memory:.2f} MB\")\n",
        "\n",
        "# Stochastic Gradient Descent (SGD)\n",
        "sgd_model = SGDClassifier(random_state=55022)\n",
        "sgd_memory = get_model_memory_usage(sgd_model, is15_X_train, is15_y_train)\n",
        "print(f\"SGD memory usage: {sgd_memory:.2f} MB\")\n",
        "\n",
        "# Decision Tree\n",
        "dt_model = DecisionTreeClassifier(random_state=55022)\n",
        "dt_memory = get_model_memory_usage(dt_model, is15_X_train, is15_y_train)\n",
        "print(f\"Decision Tree memory usage: {dt_memory:.2f} MB\")\n",
        "\n",
        "# K-Nearest Neighbors (KNN)\n",
        "knn_model = KNeighborsClassifier(n_neighbors=5)\n",
        "knn_memory = get_model_memory_usage(knn_model, is15_X_train, is15_y_train)\n",
        "print(f\"KNN memory usage: {knn_memory:.2f} MB\")\n",
        "\n",
        "# Naive Bayes\n",
        "nb_model = GaussianNB()\n",
        "nb_memory = get_model_memory_usage(nb_model, is15_X_train, is15_y_train)\n",
        "print(f\"Naive Bayes memory usage: {nb_memory:.2f} MB\")\n",
        "\n",
        "# Random Forest\n",
        "rf_model = RandomForestClassifier(random_state=55022)\n",
        "rf_memory = get_model_memory_usage(rf_model, is15_X_train, is15_y_train)\n",
        "print(f\"Random Forest memory usage: {rf_memory:.2f} MB\")\n",
        "\n",
        "# Extreme Gradient Boosting (XGBoost)\n",
        "xgb_model = XGBClassifier(random_state=55022)\n",
        "xgb_memory = get_model_memory_usage(xgb_model, is15_X_train, is15_y_train)\n",
        "print(f\"XGBoost memory usage: {xgb_memory:.2f} MB\")"
      ],
      "metadata": {
        "colab": {
          "base_uri": "https://localhost:8080/"
        },
        "id": "T_SRDtOaMP6w",
        "outputId": "7cc12739-8666-46ac-e6e9-90fc4e3242d5"
      },
      "execution_count": 119,
      "outputs": [
        {
          "output_type": "stream",
          "name": "stdout",
          "text": [
            "Logistic Regression memory usage: 0.34 MB\n",
            "SVM memory usage: 0.34 MB\n",
            "SGD memory usage: 0.19 MB\n",
            "Decision Tree memory usage: 0.22 MB\n",
            "KNN memory usage: 0.22 MB\n",
            "Naive Bayes memory usage: 0.11 MB\n",
            "Random Forest memory usage: 0.46 MB\n",
            "XGBoost memory usage: 0.85 MB\n"
          ]
        }
      ]
    },
    {
      "cell_type": "markdown",
      "source": [
        "###**Observations:**\n",
        "- Highest: XGBoost has the highest memory usage, requiring 0.85 MB.\n",
        "- Lowest: Naive Bayes has the lowest memory usage, requiring only 0.11 MB.\n",
        "- Moderate: Logistic Regression, SVM, Decision Tree, KNN, and Random Forest have moderate memory usage, ranging from 0.22 MB to 0.49 MB.\n",
        "- Relatively Low: SGD has relatively low memory usage, requiring 0.18 MB.\n",
        "\n",
        "####**Insights:**\n",
        "- XGBoost has the highest memory usage, requiring careful resource management.\n",
        "- Random Forest also has relatively high memory usage compared to other models.\n",
        "- Logistic Regression, Decision Tree, and KNN have moderate memory requirements.\n",
        "- SVM and SGD have lower memory usage, suitable for resource-constrained environments.\n",
        "- Naive Bayes has the lowest memory footprint, ideal for memory-sensitive tasks."
      ],
      "metadata": {
        "id": "IrshUXPWMdv0"
      }
    },
    {
      "cell_type": "markdown",
      "source": [
        "---"
      ],
      "metadata": {
        "id": "WvyKYmPZMy6C"
      }
    },
    {
      "cell_type": "code",
      "source": [],
      "metadata": {
        "id": "h_fS-RXX-A2i"
      },
      "execution_count": null,
      "outputs": []
    }
  ]
}